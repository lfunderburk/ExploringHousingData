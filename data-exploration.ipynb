{
 "cells": [
  {
   "cell_type": "markdown",
   "metadata": {},
   "source": [
    "## Exploring housing markers in Canada and British Columbia\n",
    "\n",
    "\n",
    "Average value of new mortgage loan \n",
    "\n",
    "Canada, provinces and CMAs 2012 Q3 to 2020 Q3"
   ]
  },
  {
   "cell_type": "code",
   "execution_count": 1,
   "metadata": {
    "scrolled": true
   },
   "outputs": [],
   "source": [
    "%run ./scr/main.py\n",
    "import plotly.express as px"
   ]
  },
  {
   "cell_type": "code",
   "execution_count": 2,
   "metadata": {},
   "outputs": [],
   "source": [
    "data = \"./data/\""
   ]
  },
  {
   "cell_type": "code",
   "execution_count": 3,
   "metadata": {
    "scrolled": true
   },
   "outputs": [],
   "source": [
    "# Read first dataset\n",
    "average_new_mortgage = pd.read_excel(data + \"average-value-new-mortgage-loans-ca-prov-cmas-2012-q3-2020-q3-en.xlsx\")\n",
    "#average_new_mortgage.head(10)"
   ]
  },
  {
   "cell_type": "markdown",
   "metadata": {},
   "source": [
    "#### Data contains quite a bit of additional information"
   ]
  },
  {
   "cell_type": "code",
   "execution_count": 4,
   "metadata": {},
   "outputs": [],
   "source": [
    "# Resetting column\n",
    "new_header = average_new_mortgage.iloc[3]\n",
    "average_new_mortgage = average_new_mortgage[4:]\n",
    "average_new_mortgage.columns = new_header"
   ]
  },
  {
   "cell_type": "code",
   "execution_count": 5,
   "metadata": {},
   "outputs": [],
   "source": [
    "# Data cleanup\n",
    "# Remove last 24 entries\n",
    "average_new_mortgage = average_new_mortgage.iloc[:-24,1:]\n",
    "# Reset index\n",
    "average_new_mortgage.reset_index(inplace=True)\n",
    "# Remove 'index' column \n",
    "average_new_mortgage.drop(['index'],inplace=True,axis=1)"
   ]
  },
  {
   "cell_type": "code",
   "execution_count": 6,
   "metadata": {
    "scrolled": true
   },
   "outputs": [
    {
     "data": {
      "text/plain": [
       "3\n",
       "Geography    British Columbia\n",
       "2012Q3                 305427\n",
       "2012Q4                 289864\n",
       "2013Q1                 286652\n",
       "2013Q2                 290928\n",
       "2013Q3                 303663\n",
       "2013Q4                 305256\n",
       "2014Q1                 309374\n",
       "2014Q2                 305138\n",
       "2014Q3                 321625\n",
       "2014Q4                 323373\n",
       "2015Q1                 325035\n",
       "2015Q2                 328540\n",
       "2015Q3                 350672\n",
       "2015Q4                 357016\n",
       "2016Q1                 368782\n",
       "2016Q2                 385910\n",
       "2016Q3                 395297\n",
       "2016Q4                 366703\n",
       "2017Q1                 358655\n",
       "2017Q2                 369174\n",
       "2017Q3                 389430\n",
       "2017Q4                 381223\n",
       "2018Q1                 384794\n",
       "2018Q2                 371860\n",
       "2018Q3                 378187\n",
       "2018Q4                 364330\n",
       "2019Q1                 363239\n",
       "2019Q2                 363924\n",
       "2019Q3                 376343\n",
       "2019Q4                 386494\n",
       "2020Q1                 393711\n",
       "2020Q2                 397853\n",
       "2020Q3                 417004\n",
       "Name: 11, dtype: object"
      ]
     },
     "execution_count": 6,
     "metadata": {},
     "output_type": "execute_result"
    }
   ],
   "source": [
    "average_new_mortgage.iloc[11]"
   ]
  },
  {
   "cell_type": "markdown",
   "metadata": {},
   "source": [
    "Cleanup of rows"
   ]
  },
  {
   "cell_type": "code",
   "execution_count": 7,
   "metadata": {},
   "outputs": [],
   "source": [
    "average_new_mortgage.drop([1,12],inplace=True,axis=0)\n",
    "average_new_mortgage.reset_index(inplace=True)\n",
    "average_new_mortgage.drop(['index'],inplace=True,axis=1)"
   ]
  },
  {
   "cell_type": "markdown",
   "metadata": {},
   "source": [
    "Data needs a fair amount of reformatting."
   ]
  },
  {
   "cell_type": "code",
   "execution_count": 8,
   "metadata": {},
   "outputs": [],
   "source": [
    "average_new_mortgage\n",
    "average_new_mortgage['Region/City'] = \"\"\n",
    "average_new_mortgage['Region/City'][average_new_mortgage.index ==0] = 'Country'\n",
    "average_new_mortgage['Region/City'][(average_new_mortgage.index < 11) & (average_new_mortgage.index >0)] = 'Province'\n",
    "average_new_mortgage['Region/City'][average_new_mortgage.index >= 11] = 'City'"
   ]
  },
  {
   "cell_type": "markdown",
   "metadata": {},
   "source": [
    "Rearrange columns"
   ]
  },
  {
   "cell_type": "code",
   "execution_count": 9,
   "metadata": {},
   "outputs": [],
   "source": [
    "# Access columns\n",
    "cols = average_new_mortgage.columns.tolist()\n",
    "# Bring last col to front\n",
    "cols = cols[-1:] + cols[:-1]\n",
    "# Set new column order\n",
    "average_new_mortgage = average_new_mortgage[cols] "
   ]
  },
  {
   "cell_type": "markdown",
   "metadata": {},
   "source": [
    "Let's begin data exploration."
   ]
  },
  {
   "cell_type": "code",
   "execution_count": null,
   "metadata": {
    "scrolled": true
   },
   "outputs": [],
   "source": [
    "average_new_mortgage.info()"
   ]
  },
  {
   "cell_type": "markdown",
   "metadata": {},
   "source": [
    "Data types are incorrect. Let's convert to the right format."
   ]
  },
  {
   "cell_type": "code",
   "execution_count": 10,
   "metadata": {},
   "outputs": [],
   "source": [
    "# Isolate yearly and quarterly columns and convert to numeric.\n",
    "int_cols = average_new_mortgage.columns.drop(['Region/City', 'Geography'])\n",
    "average_new_mortgage[int_cols] = average_new_mortgage[int_cols].apply(pd.to_numeric, errors='coerce')"
   ]
  },
  {
   "cell_type": "code",
   "execution_count": null,
   "metadata": {
    "scrolled": true
   },
   "outputs": [],
   "source": [
    "average_new_mortgage.info()"
   ]
  },
  {
   "cell_type": "markdown",
   "metadata": {},
   "source": [
    "Let's do summary statistics."
   ]
  },
  {
   "cell_type": "code",
   "execution_count": null,
   "metadata": {},
   "outputs": [],
   "source": [
    "average_new_mortgage.describe()"
   ]
  },
  {
   "cell_type": "code",
   "execution_count": 12,
   "metadata": {
    "collapsed": true
   },
   "outputs": [
    {
     "data": {
      "text/html": [
       "<div>\n",
       "<style scoped>\n",
       "    .dataframe tbody tr th:only-of-type {\n",
       "        vertical-align: middle;\n",
       "    }\n",
       "\n",
       "    .dataframe tbody tr th {\n",
       "        vertical-align: top;\n",
       "    }\n",
       "\n",
       "    .dataframe thead th {\n",
       "        text-align: right;\n",
       "    }\n",
       "</style>\n",
       "<table border=\"1\" class=\"dataframe\">\n",
       "  <thead>\n",
       "    <tr style=\"text-align: right;\">\n",
       "      <th>3</th>\n",
       "      <th>Region/City</th>\n",
       "      <th>Geography</th>\n",
       "      <th>2012Q3</th>\n",
       "      <th>2012Q4</th>\n",
       "      <th>2013Q1</th>\n",
       "      <th>2013Q2</th>\n",
       "      <th>2013Q3</th>\n",
       "      <th>2013Q4</th>\n",
       "      <th>2014Q1</th>\n",
       "      <th>2014Q2</th>\n",
       "      <th>...</th>\n",
       "      <th>2018Q2</th>\n",
       "      <th>2018Q3</th>\n",
       "      <th>2018Q4</th>\n",
       "      <th>2019Q1</th>\n",
       "      <th>2019Q2</th>\n",
       "      <th>2019Q3</th>\n",
       "      <th>2019Q4</th>\n",
       "      <th>2020Q1</th>\n",
       "      <th>2020Q2</th>\n",
       "      <th>2020Q3</th>\n",
       "    </tr>\n",
       "  </thead>\n",
       "  <tbody>\n",
       "    <tr>\n",
       "      <th>1</th>\n",
       "      <td>Province</td>\n",
       "      <td>Newfoundland</td>\n",
       "      <td>188732</td>\n",
       "      <td>185794</td>\n",
       "      <td>189098</td>\n",
       "      <td>181331</td>\n",
       "      <td>191818</td>\n",
       "      <td>193100</td>\n",
       "      <td>195479</td>\n",
       "      <td>192856</td>\n",
       "      <td>...</td>\n",
       "      <td>192252</td>\n",
       "      <td>192106</td>\n",
       "      <td>188614</td>\n",
       "      <td>185276</td>\n",
       "      <td>190582</td>\n",
       "      <td>194536</td>\n",
       "      <td>193870</td>\n",
       "      <td>186268</td>\n",
       "      <td>187431</td>\n",
       "      <td>196100</td>\n",
       "    </tr>\n",
       "    <tr>\n",
       "      <th>2</th>\n",
       "      <td>Province</td>\n",
       "      <td>Prince Edward Island</td>\n",
       "      <td>140279</td>\n",
       "      <td>138415</td>\n",
       "      <td>137162</td>\n",
       "      <td>126763</td>\n",
       "      <td>139506</td>\n",
       "      <td>141453</td>\n",
       "      <td>141141</td>\n",
       "      <td>137427</td>\n",
       "      <td>...</td>\n",
       "      <td>182114</td>\n",
       "      <td>181967</td>\n",
       "      <td>178140</td>\n",
       "      <td>181172</td>\n",
       "      <td>181358</td>\n",
       "      <td>190715</td>\n",
       "      <td>185934</td>\n",
       "      <td>193439</td>\n",
       "      <td>189309</td>\n",
       "      <td>204415</td>\n",
       "    </tr>\n",
       "    <tr>\n",
       "      <th>3</th>\n",
       "      <td>Province</td>\n",
       "      <td>Nova Scotia</td>\n",
       "      <td>174688</td>\n",
       "      <td>160046</td>\n",
       "      <td>158806</td>\n",
       "      <td>159945</td>\n",
       "      <td>166426</td>\n",
       "      <td>160189</td>\n",
       "      <td>161383</td>\n",
       "      <td>157664</td>\n",
       "      <td>...</td>\n",
       "      <td>179407</td>\n",
       "      <td>190443</td>\n",
       "      <td>179921</td>\n",
       "      <td>177863</td>\n",
       "      <td>180958</td>\n",
       "      <td>193586</td>\n",
       "      <td>190168</td>\n",
       "      <td>188267</td>\n",
       "      <td>192060</td>\n",
       "      <td>207877</td>\n",
       "    </tr>\n",
       "    <tr>\n",
       "      <th>4</th>\n",
       "      <td>Province</td>\n",
       "      <td>New Brunswick</td>\n",
       "      <td>133390</td>\n",
       "      <td>126138</td>\n",
       "      <td>124645</td>\n",
       "      <td>122572</td>\n",
       "      <td>131542</td>\n",
       "      <td>128155</td>\n",
       "      <td>127766</td>\n",
       "      <td>124221</td>\n",
       "      <td>...</td>\n",
       "      <td>139750</td>\n",
       "      <td>150353</td>\n",
       "      <td>143324</td>\n",
       "      <td>140850</td>\n",
       "      <td>137809</td>\n",
       "      <td>152606</td>\n",
       "      <td>147047</td>\n",
       "      <td>146701</td>\n",
       "      <td>149590</td>\n",
       "      <td>160349</td>\n",
       "    </tr>\n",
       "    <tr>\n",
       "      <th>5</th>\n",
       "      <td>Province</td>\n",
       "      <td>Québec</td>\n",
       "      <td>159661</td>\n",
       "      <td>153413</td>\n",
       "      <td>153909</td>\n",
       "      <td>155016</td>\n",
       "      <td>160147</td>\n",
       "      <td>155512</td>\n",
       "      <td>156424</td>\n",
       "      <td>160165</td>\n",
       "      <td>...</td>\n",
       "      <td>183507</td>\n",
       "      <td>187727</td>\n",
       "      <td>173911</td>\n",
       "      <td>175658</td>\n",
       "      <td>179523</td>\n",
       "      <td>187136</td>\n",
       "      <td>183501</td>\n",
       "      <td>189390</td>\n",
       "      <td>195538</td>\n",
       "      <td>203861</td>\n",
       "    </tr>\n",
       "    <tr>\n",
       "      <th>6</th>\n",
       "      <td>Province</td>\n",
       "      <td>Ontario</td>\n",
       "      <td>247455</td>\n",
       "      <td>235667</td>\n",
       "      <td>233122</td>\n",
       "      <td>230770</td>\n",
       "      <td>249054</td>\n",
       "      <td>244060</td>\n",
       "      <td>244077</td>\n",
       "      <td>240828</td>\n",
       "      <td>...</td>\n",
       "      <td>315576</td>\n",
       "      <td>327367</td>\n",
       "      <td>321579</td>\n",
       "      <td>321074</td>\n",
       "      <td>324080</td>\n",
       "      <td>343117</td>\n",
       "      <td>343768</td>\n",
       "      <td>348272</td>\n",
       "      <td>363432</td>\n",
       "      <td>373371</td>\n",
       "    </tr>\n",
       "    <tr>\n",
       "      <th>7</th>\n",
       "      <td>Province</td>\n",
       "      <td>Manitoba</td>\n",
       "      <td>188298</td>\n",
       "      <td>181097</td>\n",
       "      <td>177560</td>\n",
       "      <td>177517</td>\n",
       "      <td>192732</td>\n",
       "      <td>189570</td>\n",
       "      <td>188107</td>\n",
       "      <td>184554</td>\n",
       "      <td>...</td>\n",
       "      <td>207436</td>\n",
       "      <td>220454</td>\n",
       "      <td>214060</td>\n",
       "      <td>206692</td>\n",
       "      <td>214873</td>\n",
       "      <td>222637</td>\n",
       "      <td>218918</td>\n",
       "      <td>212508</td>\n",
       "      <td>217416</td>\n",
       "      <td>232725</td>\n",
       "    </tr>\n",
       "    <tr>\n",
       "      <th>8</th>\n",
       "      <td>Province</td>\n",
       "      <td>Saskatchewan</td>\n",
       "      <td>217945</td>\n",
       "      <td>213126</td>\n",
       "      <td>206354</td>\n",
       "      <td>211979</td>\n",
       "      <td>224868</td>\n",
       "      <td>225414</td>\n",
       "      <td>226559</td>\n",
       "      <td>218781</td>\n",
       "      <td>...</td>\n",
       "      <td>229851</td>\n",
       "      <td>233255</td>\n",
       "      <td>223628</td>\n",
       "      <td>217157</td>\n",
       "      <td>216369</td>\n",
       "      <td>228721</td>\n",
       "      <td>224315</td>\n",
       "      <td>216188</td>\n",
       "      <td>225641</td>\n",
       "      <td>237386</td>\n",
       "    </tr>\n",
       "    <tr>\n",
       "      <th>9</th>\n",
       "      <td>Province</td>\n",
       "      <td>Alberta</td>\n",
       "      <td>282371</td>\n",
       "      <td>277555</td>\n",
       "      <td>277158</td>\n",
       "      <td>278516</td>\n",
       "      <td>289263</td>\n",
       "      <td>284928</td>\n",
       "      <td>291926</td>\n",
       "      <td>290722</td>\n",
       "      <td>...</td>\n",
       "      <td>302116</td>\n",
       "      <td>305101</td>\n",
       "      <td>295839</td>\n",
       "      <td>291721</td>\n",
       "      <td>293612</td>\n",
       "      <td>297609</td>\n",
       "      <td>297552</td>\n",
       "      <td>291747</td>\n",
       "      <td>296269</td>\n",
       "      <td>305600</td>\n",
       "    </tr>\n",
       "    <tr>\n",
       "      <th>10</th>\n",
       "      <td>Province</td>\n",
       "      <td>British Columbia</td>\n",
       "      <td>305427</td>\n",
       "      <td>289864</td>\n",
       "      <td>286652</td>\n",
       "      <td>290928</td>\n",
       "      <td>303663</td>\n",
       "      <td>305256</td>\n",
       "      <td>309374</td>\n",
       "      <td>305138</td>\n",
       "      <td>...</td>\n",
       "      <td>371860</td>\n",
       "      <td>378187</td>\n",
       "      <td>364330</td>\n",
       "      <td>363239</td>\n",
       "      <td>363924</td>\n",
       "      <td>376343</td>\n",
       "      <td>386494</td>\n",
       "      <td>393711</td>\n",
       "      <td>397853</td>\n",
       "      <td>417004</td>\n",
       "    </tr>\n",
       "  </tbody>\n",
       "</table>\n",
       "<p>10 rows × 35 columns</p>\n",
       "</div>"
      ],
      "text/plain": [
       "3  Region/City             Geography  2012Q3  2012Q4  2013Q1  2013Q2  2013Q3  \\\n",
       "1     Province          Newfoundland  188732  185794  189098  181331  191818   \n",
       "2     Province  Prince Edward Island  140279  138415  137162  126763  139506   \n",
       "3     Province           Nova Scotia  174688  160046  158806  159945  166426   \n",
       "4     Province         New Brunswick  133390  126138  124645  122572  131542   \n",
       "5     Province                Québec  159661  153413  153909  155016  160147   \n",
       "6     Province               Ontario  247455  235667  233122  230770  249054   \n",
       "7     Province              Manitoba  188298  181097  177560  177517  192732   \n",
       "8     Province          Saskatchewan  217945  213126  206354  211979  224868   \n",
       "9     Province               Alberta  282371  277555  277158  278516  289263   \n",
       "10    Province      British Columbia  305427  289864  286652  290928  303663   \n",
       "\n",
       "3   2013Q4  2014Q1  2014Q2  ...  2018Q2  2018Q3  2018Q4  2019Q1  2019Q2  \\\n",
       "1   193100  195479  192856  ...  192252  192106  188614  185276  190582   \n",
       "2   141453  141141  137427  ...  182114  181967  178140  181172  181358   \n",
       "3   160189  161383  157664  ...  179407  190443  179921  177863  180958   \n",
       "4   128155  127766  124221  ...  139750  150353  143324  140850  137809   \n",
       "5   155512  156424  160165  ...  183507  187727  173911  175658  179523   \n",
       "6   244060  244077  240828  ...  315576  327367  321579  321074  324080   \n",
       "7   189570  188107  184554  ...  207436  220454  214060  206692  214873   \n",
       "8   225414  226559  218781  ...  229851  233255  223628  217157  216369   \n",
       "9   284928  291926  290722  ...  302116  305101  295839  291721  293612   \n",
       "10  305256  309374  305138  ...  371860  378187  364330  363239  363924   \n",
       "\n",
       "3   2019Q3  2019Q4  2020Q1  2020Q2  2020Q3  \n",
       "1   194536  193870  186268  187431  196100  \n",
       "2   190715  185934  193439  189309  204415  \n",
       "3   193586  190168  188267  192060  207877  \n",
       "4   152606  147047  146701  149590  160349  \n",
       "5   187136  183501  189390  195538  203861  \n",
       "6   343117  343768  348272  363432  373371  \n",
       "7   222637  218918  212508  217416  232725  \n",
       "8   228721  224315  216188  225641  237386  \n",
       "9   297609  297552  291747  296269  305600  \n",
       "10  376343  386494  393711  397853  417004  \n",
       "\n",
       "[10 rows x 35 columns]"
      ]
     },
     "execution_count": 12,
     "metadata": {},
     "output_type": "execute_result"
    }
   ],
   "source": [
    "df_province = average_new_mortgage[average_new_mortgage['Region/City']==\"Province\"]"
   ]
  },
  {
   "cell_type": "code",
   "execution_count": 42,
   "metadata": {
    "collapsed": true
   },
   "outputs": [
    {
     "data": {
      "text/plain": [
       "<matplotlib.axes._subplots.AxesSubplot at 0x2119e1520d0>"
      ]
     },
     "execution_count": 42,
     "metadata": {},
     "output_type": "execute_result"
    },
    {
     "data": {
      "image/png": "[encoded data removed]",
      "text/plain": [
       "<Figure size 432x288 with 1 Axes>"
      ]
     },
     "metadata": {
      "needs_background": "light"
     },
     "output_type": "display_data"
    }
   ],
   "source": [
    "df_province.iloc[:,2:].plot(kind='bar')"
   ]
  },
  {
   "cell_type": "code",
   "execution_count": 61,
   "metadata": {},
   "outputs": [],
   "source": [
    "plot_dict = {'box': px.box,'violin': px.violin}"
   ]
  },
  {
   "cell_type": "code",
   "execution_count": 73,
   "metadata": {},
   "outputs": [],
   "source": [
    "def graph_region(df, level: str, graph_type: str):\n",
    "    \"\"\"\n",
    "    df: data frame object with mortage data\n",
    "    level: \"Province\" or \"City\"\n",
    "    graph_type: \"box\", \"violin\"\n",
    "    \"\"\"\n",
    "    \n",
    "    def slice_data(df, level):\n",
    "        \"\"\"\n",
    "        Extract a subset of df based on level\n",
    "        Return a dataframe\n",
    "        \"\"\"\n",
    "        temp = df[df['Region/City']==level]\n",
    "        temp = pd.melt(temp, id_vars='Geography', value_vars=temp.columns[2:])\n",
    "        temp.rename(columns = {3:'Time'}, inplace = True)\n",
    "        return temp\n",
    "    \n",
    "    try:\n",
    "        region_df = slice_data(df, level)\n",
    "        fig = plot_dict[graph_type](region_df, x=\"Geography\", y=\"value\", color = \"Geography\", points='all')\n",
    "        fig.update_xaxes(tickangle=-45)\n",
    "        fig.show()\n",
    "    \n",
    "    except KeyError: print(\"Key not found. Make sure that 'level' is in ['Province','City']\", \n",
    "                           \"and 'graph_type' is in ['box','violin']\")\n"
   ]
  },
  {
   "cell_type": "code",
   "execution_count": 74,
   "metadata": {},
   "outputs": [
    {
     "name": "stdout",
     "output_type": "stream",
     "text": [
      "Key not found. Make sure that 'level' is in ['Province','City'] and 'graph_type' is in ['box','violin']\n"
     ]
    }
   ],
   "source": [
    "graph_region(average_new_mortgage, level='city', graph_type='box')"
   ]
  },
  {
   "cell_type": "code",
   "execution_count": 55,
   "metadata": {
    "collapsed": true
   },
   "outputs": [
    {
     "data": {
      "application/vnd.plotly.v1+json": {
       "config": {
        "plotlyServerURL": "https://plot.ly"
       },
       "data": [
        {
         "hovertemplate": "Geography=Newfoundland<br>Time=%{x}<br>value=%{y}<extra></extra>",
         "legendgroup": "Newfoundland",
         "line": {
          "color": "#636efa",
          "dash": "solid"
         },
         "mode": "lines",
         "name": "Newfoundland",
         "orientation": "v",
         "showlegend": true,
         "type": "scatter",
         "x": [
          "2012Q3",
          "2012Q4",
          "2013Q1",
          "2013Q2",
          "2013Q3",
          "2013Q4",
          "2014Q1",
          "2014Q2",
          "2014Q3",
          "2014Q4",
          "2015Q1",
          "2015Q2",
          "2015Q3",
          "2015Q4",
          "2016Q1",
          "2016Q2",
          "2016Q3",
          "2016Q4",
          "2017Q1",
          "2017Q2",
          "2017Q3",
          "2017Q4",
          "2018Q1",
          "2018Q2",
          "2018Q3",
          "2018Q4",
          "2019Q1",
          "2019Q2",
          "2019Q3",
          "2019Q4",
          "2020Q1",
          "2020Q2",
          "2020Q3"
         ],
         "xaxis": "x",
         "y": [
          188732,
          185794,
          189098,
          181331,
          191818,
          193100,
          195479,
          192856,
          199560,
          200310,
          197406,
          193956,
          199758,
          202487,
          196798,
          196806,
          198265,
          197794,
          192057,
          191412,
          200378,
          193619,
          196431,
          192252,
          192106,
          188614,
          185276,
          190582,
          194536,
          193870,
          186268,
          187431,
          196100
         ],
         "yaxis": "y"
        },
        {
         "hovertemplate": "Geography=Prince Edward Island<br>Time=%{x}<br>value=%{y}<extra></extra>",
         "legendgroup": "Prince Edward Island",
         "line": {
          "color": "#EF553B",
          "dash": "solid"
         },
         "mode": "lines",
         "name": "Prince Edward Island",
         "orientation": "v",
         "showlegend": true,
         "type": "scatter",
         "x": [
          "2012Q3",
          "2012Q4",
          "2013Q1",
          "2013Q2",
          "2013Q3",
          "2013Q4",
          "2014Q1",
          "2014Q2",
          "2014Q3",
          "2014Q4",
          "2015Q1",
          "2015Q2",
          "2015Q3",
          "2015Q4",
          "2016Q1",
          "2016Q2",
          "2016Q3",
          "2016Q4",
          "2017Q1",
          "2017Q2",
          "2017Q3",
          "2017Q4",
          "2018Q1",
          "2018Q2",
          "2018Q3",
          "2018Q4",
          "2019Q1",
          "2019Q2",
          "2019Q3",
          "2019Q4",
          "2020Q1",
          "2020Q2",
          "2020Q3"
         ],
         "xaxis": "x",
         "y": [
          140279,
          138415,
          137162,
          126763,
          139506,
          141453,
          141141,
          137427,
          143320,
          141232,
          146885,
          146818,
          150403,
          155926,
          157322,
          150732,
          169651,
          155799,
          175124,
          174901,
          176919,
          175523,
          179179,
          182114,
          181967,
          178140,
          181172,
          181358,
          190715,
          185934,
          193439,
          189309,
          204415
         ],
         "yaxis": "y"
        },
        {
         "hovertemplate": "Geography=Nova Scotia<br>Time=%{x}<br>value=%{y}<extra></extra>",
         "legendgroup": "Nova Scotia",
         "line": {
          "color": "#00cc96",
          "dash": "solid"
         },
         "mode": "lines",
         "name": "Nova Scotia",
         "orientation": "v",
         "showlegend": true,
         "type": "scatter",
         "x": [
          "2012Q3",
          "2012Q4",
          "2013Q1",
          "2013Q2",
          "2013Q3",
          "2013Q4",
          "2014Q1",
          "2014Q2",
          "2014Q3",
          "2014Q4",
          "2015Q1",
          "2015Q2",
          "2015Q3",
          "2015Q4",
          "2016Q1",
          "2016Q2",
          "2016Q3",
          "2016Q4",
          "2017Q1",
          "2017Q2",
          "2017Q3",
          "2017Q4",
          "2018Q1",
          "2018Q2",
          "2018Q3",
          "2018Q4",
          "2019Q1",
          "2019Q2",
          "2019Q3",
          "2019Q4",
          "2020Q1",
          "2020Q2",
          "2020Q3"
         ],
         "xaxis": "x",
         "y": [
          174688,
          160046,
          158806,
          159945,
          166426,
          160189,
          161383,
          157664,
          172827,
          163584,
          163607,
          165288,
          178091,
          172863,
          167596,
          168948,
          178784,
          173305,
          186024,
          182526,
          194802,
          188559,
          185858,
          179407,
          190443,
          179921,
          177863,
          180958,
          193586,
          190168,
          188267,
          192060,
          207877
         ],
         "yaxis": "y"
        },
        {
         "hovertemplate": "Geography=New Brunswick<br>Time=%{x}<br>value=%{y}<extra></extra>",
         "legendgroup": "New Brunswick",
         "line": {
          "color": "#ab63fa",
          "dash": "solid"
         },
         "mode": "lines",
         "name": "New Brunswick",
         "orientation": "v",
         "showlegend": true,
         "type": "scatter",
         "x": [
          "2012Q3",
          "2012Q4",
          "2013Q1",
          "2013Q2",
          "2013Q3",
          "2013Q4",
          "2014Q1",
          "2014Q2",
          "2014Q3",
          "2014Q4",
          "2015Q1",
          "2015Q2",
          "2015Q3",
          "2015Q4",
          "2016Q1",
          "2016Q2",
          "2016Q3",
          "2016Q4",
          "2017Q1",
          "2017Q2",
          "2017Q3",
          "2017Q4",
          "2018Q1",
          "2018Q2",
          "2018Q3",
          "2018Q4",
          "2019Q1",
          "2019Q2",
          "2019Q3",
          "2019Q4",
          "2020Q1",
          "2020Q2",
          "2020Q3"
         ],
         "xaxis": "x",
         "y": [
          133390,
          126138,
          124645,
          122572,
          131542,
          128155,
          127766,
          124221,
          135592,
          132766,
          132025,
          128378,
          137565,
          137039,
          132325,
          133027,
          143533,
          140124,
          141196,
          135748,
          147934,
          142799,
          139711,
          139750,
          150353,
          143324,
          140850,
          137809,
          152606,
          147047,
          146701,
          149590,
          160349
         ],
         "yaxis": "y"
        },
        {
         "hovertemplate": "Geography=Québec<br>Time=%{x}<br>value=%{y}<extra></extra>",
         "legendgroup": "Québec",
         "line": {
          "color": "#FFA15A",
          "dash": "solid"
         },
         "mode": "lines",
         "name": "Québec",
         "orientation": "v",
         "showlegend": true,
         "type": "scatter",
         "x": [
          "2012Q3",
          "2012Q4",
          "2013Q1",
          "2013Q2",
          "2013Q3",
          "2013Q4",
          "2014Q1",
          "2014Q2",
          "2014Q3",
          "2014Q4",
          "2015Q1",
          "2015Q2",
          "2015Q3",
          "2015Q4",
          "2016Q1",
          "2016Q2",
          "2016Q3",
          "2016Q4",
          "2017Q1",
          "2017Q2",
          "2017Q3",
          "2017Q4",
          "2018Q1",
          "2018Q2",
          "2018Q3",
          "2018Q4",
          "2019Q1",
          "2019Q2",
          "2019Q3",
          "2019Q4",
          "2020Q1",
          "2020Q2",
          "2020Q3"
         ],
         "xaxis": "x",
         "y": [
          159661,
          153413,
          153909,
          155016,
          160147,
          155512,
          156424,
          160165,
          166426,
          160073,
          161563,
          164764,
          170403,
          164235,
          167154,
          169326,
          176522,
          170309,
          171992,
          171716,
          177306,
          173182,
          175297,
          183507,
          187727,
          173911,
          175658,
          179523,
          187136,
          183501,
          189390,
          195538,
          203861
         ],
         "yaxis": "y"
        },
        {
         "hovertemplate": "Geography=Ontario<br>Time=%{x}<br>value=%{y}<extra></extra>",
         "legendgroup": "Ontario",
         "line": {
          "color": "#19d3f3",
          "dash": "solid"
         },
         "mode": "lines",
         "name": "Ontario",
         "orientation": "v",
         "showlegend": true,
         "type": "scatter",
         "x": [
          "2012Q3",
          "2012Q4",
          "2013Q1",
          "2013Q2",
          "2013Q3",
          "2013Q4",
          "2014Q1",
          "2014Q2",
          "2014Q3",
          "2014Q4",
          "2015Q1",
          "2015Q2",
          "2015Q3",
          "2015Q4",
          "2016Q1",
          "2016Q2",
          "2016Q3",
          "2016Q4",
          "2017Q1",
          "2017Q2",
          "2017Q3",
          "2017Q4",
          "2018Q1",
          "2018Q2",
          "2018Q3",
          "2018Q4",
          "2019Q1",
          "2019Q2",
          "2019Q3",
          "2019Q4",
          "2020Q1",
          "2020Q2",
          "2020Q3"
         ],
         "xaxis": "x",
         "y": [
          247455,
          235667,
          233122,
          230770,
          249054,
          244060,
          244077,
          240828,
          262838,
          257244,
          254854,
          259093,
          281259,
          277802,
          278626,
          285024,
          307369,
          310236,
          319009,
          326645,
          338561,
          323821,
          322179,
          315576,
          327367,
          321579,
          321074,
          324080,
          343117,
          343768,
          348272,
          363432,
          373371
         ],
         "yaxis": "y"
        },
        {
         "hovertemplate": "Geography=Manitoba<br>Time=%{x}<br>value=%{y}<extra></extra>",
         "legendgroup": "Manitoba",
         "line": {
          "color": "#FF6692",
          "dash": "solid"
         },
         "mode": "lines",
         "name": "Manitoba",
         "orientation": "v",
         "showlegend": true,
         "type": "scatter",
         "x": [
          "2012Q3",
          "2012Q4",
          "2013Q1",
          "2013Q2",
          "2013Q3",
          "2013Q4",
          "2014Q1",
          "2014Q2",
          "2014Q3",
          "2014Q4",
          "2015Q1",
          "2015Q2",
          "2015Q3",
          "2015Q4",
          "2016Q1",
          "2016Q2",
          "2016Q3",
          "2016Q4",
          "2017Q1",
          "2017Q2",
          "2017Q3",
          "2017Q4",
          "2018Q1",
          "2018Q2",
          "2018Q3",
          "2018Q4",
          "2019Q1",
          "2019Q2",
          "2019Q3",
          "2019Q4",
          "2020Q1",
          "2020Q2",
          "2020Q3"
         ],
         "xaxis": "x",
         "y": [
          188298,
          181097,
          177560,
          177517,
          192732,
          189570,
          188107,
          184554,
          200051,
          197527,
          191444,
          190383,
          206275,
          201640,
          193970,
          196385,
          209051,
          206958,
          203999,
          205085,
          216750,
          217136,
          207988,
          207436,
          220454,
          214060,
          206692,
          214873,
          222637,
          218918,
          212508,
          217416,
          232725
         ],
         "yaxis": "y"
        },
        {
         "hovertemplate": "Geography=Saskatchewan<br>Time=%{x}<br>value=%{y}<extra></extra>",
         "legendgroup": "Saskatchewan",
         "line": {
          "color": "#B6E880",
          "dash": "solid"
         },
         "mode": "lines",
         "name": "Saskatchewan",
         "orientation": "v",
         "showlegend": true,
         "type": "scatter",
         "x": [
          "2012Q3",
          "2012Q4",
          "2013Q1",
          "2013Q2",
          "2013Q3",
          "2013Q4",
          "2014Q1",
          "2014Q2",
          "2014Q3",
          "2014Q4",
          "2015Q1",
          "2015Q2",
          "2015Q3",
          "2015Q4",
          "2016Q1",
          "2016Q2",
          "2016Q3",
          "2016Q4",
          "2017Q1",
          "2017Q2",
          "2017Q3",
          "2017Q4",
          "2018Q1",
          "2018Q2",
          "2018Q3",
          "2018Q4",
          "2019Q1",
          "2019Q2",
          "2019Q3",
          "2019Q4",
          "2020Q1",
          "2020Q2",
          "2020Q3"
         ],
         "xaxis": "x",
         "y": [
          217945,
          213126,
          206354,
          211979,
          224868,
          225414,
          226559,
          218781,
          231768,
          233854,
          228569,
          226957,
          234840,
          231611,
          225641,
          230729,
          236380,
          232174,
          234786,
          233545,
          238533,
          234340,
          230702,
          229851,
          233255,
          223628,
          217157,
          216369,
          228721,
          224315,
          216188,
          225641,
          237386
         ],
         "yaxis": "y"
        },
        {
         "hovertemplate": "Geography=Alberta<br>Time=%{x}<br>value=%{y}<extra></extra>",
         "legendgroup": "Alberta",
         "line": {
          "color": "#FF97FF",
          "dash": "solid"
         },
         "mode": "lines",
         "name": "Alberta",
         "orientation": "v",
         "showlegend": true,
         "type": "scatter",
         "x": [
          "2012Q3",
          "2012Q4",
          "2013Q1",
          "2013Q2",
          "2013Q3",
          "2013Q4",
          "2014Q1",
          "2014Q2",
          "2014Q3",
          "2014Q4",
          "2015Q1",
          "2015Q2",
          "2015Q3",
          "2015Q4",
          "2016Q1",
          "2016Q2",
          "2016Q3",
          "2016Q4",
          "2017Q1",
          "2017Q2",
          "2017Q3",
          "2017Q4",
          "2018Q1",
          "2018Q2",
          "2018Q3",
          "2018Q4",
          "2019Q1",
          "2019Q2",
          "2019Q3",
          "2019Q4",
          "2020Q1",
          "2020Q2",
          "2020Q3"
         ],
         "xaxis": "x",
         "y": [
          282371,
          277555,
          277158,
          278516,
          289263,
          284928,
          291926,
          290722,
          304374,
          305558,
          303976,
          299837,
          309953,
          303244,
          296111,
          298884,
          304683,
          302095,
          301254,
          300115,
          307837,
          307662,
          302814,
          302116,
          305101,
          295839,
          291721,
          293612,
          297609,
          297552,
          291747,
          296269,
          305600
         ],
         "yaxis": "y"
        },
        {
         "hovertemplate": "Geography=British Columbia<br>Time=%{x}<br>value=%{y}<extra></extra>",
         "legendgroup": "British Columbia",
         "line": {
          "color": "#FECB52",
          "dash": "solid"
         },
         "mode": "lines",
         "name": "British Columbia",
         "orientation": "v",
         "showlegend": true,
         "type": "scatter",
         "x": [
          "2012Q3",
          "2012Q4",
          "2013Q1",
          "2013Q2",
          "2013Q3",
          "2013Q4",
          "2014Q1",
          "2014Q2",
          "2014Q3",
          "2014Q4",
          "2015Q1",
          "2015Q2",
          "2015Q3",
          "2015Q4",
          "2016Q1",
          "2016Q2",
          "2016Q3",
          "2016Q4",
          "2017Q1",
          "2017Q2",
          "2017Q3",
          "2017Q4",
          "2018Q1",
          "2018Q2",
          "2018Q3",
          "2018Q4",
          "2019Q1",
          "2019Q2",
          "2019Q3",
          "2019Q4",
          "2020Q1",
          "2020Q2",
          "2020Q3"
         ],
         "xaxis": "x",
         "y": [
          305427,
          289864,
          286652,
          290928,
          303663,
          305256,
          309374,
          305138,
          321625,
          323373,
          325035,
          328540,
          350672,
          357016,
          368782,
          385910,
          395297,
          366703,
          358655,
          369174,
          389430,
          381223,
          384794,
          371860,
          378187,
          364330,
          363239,
          363924,
          376343,
          386494,
          393711,
          397853,
          417004
         ],
         "yaxis": "y"
        }
       ],
       "layout": {
        "legend": {
         "title": {
          "text": "Geography"
         },
         "tracegroupgap": 0
        },
        "margin": {
         "t": 60
        },
        "template": {
         "data": {
          "bar": [
           {
            "error_x": {
             "color": "#2a3f5f"
            },
            "error_y": {
             "color": "#2a3f5f"
            },
            "marker": {
             "line": {
              "color": "#E5ECF6",
              "width": 0.5
             }
            },
            "type": "bar"
           }
          ],
          "barpolar": [
           {
            "marker": {
             "line": {
              "color": "#E5ECF6",
              "width": 0.5
             }
            },
            "type": "barpolar"
           }
          ],
          "carpet": [
           {
            "aaxis": {
             "endlinecolor": "#2a3f5f",
             "gridcolor": "white",
             "linecolor": "white",
             "minorgridcolor": "white",
             "startlinecolor": "#2a3f5f"
            },
            "baxis": {
             "endlinecolor": "#2a3f5f",
             "gridcolor": "white",
             "linecolor": "white",
             "minorgridcolor": "white",
             "startlinecolor": "#2a3f5f"
            },
            "type": "carpet"
           }
          ],
          "choropleth": [
           {
            "colorbar": {
             "outlinewidth": 0,
             "ticks": ""
            },
            "type": "choropleth"
           }
          ],
          "contour": [
           {
            "colorbar": {
             "outlinewidth": 0,
             "ticks": ""
            },
            "colorscale": [
             [
              0,
              "#0d0887"
             ],
             [
              0.1111111111111111,
              "#46039f"
             ],
             [
              0.2222222222222222,
              "#7201a8"
             ],
             [
              0.3333333333333333,
              "#9c179e"
             ],
             [
              0.4444444444444444,
              "#bd3786"
             ],
             [
              0.5555555555555556,
              "#d8576b"
             ],
             [
              0.6666666666666666,
              "#ed7953"
             ],
             [
              0.7777777777777778,
              "#fb9f3a"
             ],
             [
              0.8888888888888888,
              "#fdca26"
             ],
             [
              1,
              "#f0f921"
             ]
            ],
            "type": "contour"
           }
          ],
          "contourcarpet": [
           {
            "colorbar": {
             "outlinewidth": 0,
             "ticks": ""
            },
            "type": "contourcarpet"
           }
          ],
          "heatmap": [
           {
            "colorbar": {
             "outlinewidth": 0,
             "ticks": ""
            },
            "colorscale": [
             [
              0,
              "#0d0887"
             ],
             [
              0.1111111111111111,
              "#46039f"
             ],
             [
              0.2222222222222222,
              "#7201a8"
             ],
             [
              0.3333333333333333,
              "#9c179e"
             ],
             [
              0.4444444444444444,
              "#bd3786"
             ],
             [
              0.5555555555555556,
              "#d8576b"
             ],
             [
              0.6666666666666666,
              "#ed7953"
             ],
             [
              0.7777777777777778,
              "#fb9f3a"
             ],
             [
              0.8888888888888888,
              "#fdca26"
             ],
             [
              1,
              "#f0f921"
             ]
            ],
            "type": "heatmap"
           }
          ],
          "heatmapgl": [
           {
            "colorbar": {
             "outlinewidth": 0,
             "ticks": ""
            },
            "colorscale": [
             [
              0,
              "#0d0887"
             ],
             [
              0.1111111111111111,
              "#46039f"
             ],
             [
              0.2222222222222222,
              "#7201a8"
             ],
             [
              0.3333333333333333,
              "#9c179e"
             ],
             [
              0.4444444444444444,
              "#bd3786"
             ],
             [
              0.5555555555555556,
              "#d8576b"
             ],
             [
              0.6666666666666666,
              "#ed7953"
             ],
             [
              0.7777777777777778,
              "#fb9f3a"
             ],
             [
              0.8888888888888888,
              "#fdca26"
             ],
             [
              1,
              "#f0f921"
             ]
            ],
            "type": "heatmapgl"
           }
          ],
          "histogram": [
           {
            "marker": {
             "colorbar": {
              "outlinewidth": 0,
              "ticks": ""
             }
            },
            "type": "histogram"
           }
          ],
          "histogram2d": [
           {
            "colorbar": {
             "outlinewidth": 0,
             "ticks": ""
            },
            "colorscale": [
             [
              0,
              "#0d0887"
             ],
             [
              0.1111111111111111,
              "#46039f"
             ],
             [
              0.2222222222222222,
              "#7201a8"
             ],
             [
              0.3333333333333333,
              "#9c179e"
             ],
             [
              0.4444444444444444,
              "#bd3786"
             ],
             [
              0.5555555555555556,
              "#d8576b"
             ],
             [
              0.6666666666666666,
              "#ed7953"
             ],
             [
              0.7777777777777778,
              "#fb9f3a"
             ],
             [
              0.8888888888888888,
              "#fdca26"
             ],
             [
              1,
              "#f0f921"
             ]
            ],
            "type": "histogram2d"
           }
          ],
          "histogram2dcontour": [
           {
            "colorbar": {
             "outlinewidth": 0,
             "ticks": ""
            },
            "colorscale": [
             [
              0,
              "#0d0887"
             ],
             [
              0.1111111111111111,
              "#46039f"
             ],
             [
              0.2222222222222222,
              "#7201a8"
             ],
             [
              0.3333333333333333,
              "#9c179e"
             ],
             [
              0.4444444444444444,
              "#bd3786"
             ],
             [
              0.5555555555555556,
              "#d8576b"
             ],
             [
              0.6666666666666666,
              "#ed7953"
             ],
             [
              0.7777777777777778,
              "#fb9f3a"
             ],
             [
              0.8888888888888888,
              "#fdca26"
             ],
             [
              1,
              "#f0f921"
             ]
            ],
            "type": "histogram2dcontour"
           }
          ],
          "mesh3d": [
           {
            "colorbar": {
             "outlinewidth": 0,
             "ticks": ""
            },
            "type": "mesh3d"
           }
          ],
          "parcoords": [
           {
            "line": {
             "colorbar": {
              "outlinewidth": 0,
              "ticks": ""
             }
            },
            "type": "parcoords"
           }
          ],
          "pie": [
           {
            "automargin": true,
            "type": "pie"
           }
          ],
          "scatter": [
           {
            "marker": {
             "colorbar": {
              "outlinewidth": 0,
              "ticks": ""
             }
            },
            "type": "scatter"
           }
          ],
          "scatter3d": [
           {
            "line": {
             "colorbar": {
              "outlinewidth": 0,
              "ticks": ""
             }
            },
            "marker": {
             "colorbar": {
              "outlinewidth": 0,
              "ticks": ""
             }
            },
            "type": "scatter3d"
           }
          ],
          "scattercarpet": [
           {
            "marker": {
             "colorbar": {
              "outlinewidth": 0,
              "ticks": ""
             }
            },
            "type": "scattercarpet"
           }
          ],
          "scattergeo": [
           {
            "marker": {
             "colorbar": {
              "outlinewidth": 0,
              "ticks": ""
             }
            },
            "type": "scattergeo"
           }
          ],
          "scattergl": [
           {
            "marker": {
             "colorbar": {
              "outlinewidth": 0,
              "ticks": ""
             }
            },
            "type": "scattergl"
           }
          ],
          "scattermapbox": [
           {
            "marker": {
             "colorbar": {
              "outlinewidth": 0,
              "ticks": ""
             }
            },
            "type": "scattermapbox"
           }
          ],
          "scatterpolar": [
           {
            "marker": {
             "colorbar": {
              "outlinewidth": 0,
              "ticks": ""
             }
            },
            "type": "scatterpolar"
           }
          ],
          "scatterpolargl": [
           {
            "marker": {
             "colorbar": {
              "outlinewidth": 0,
              "ticks": ""
             }
            },
            "type": "scatterpolargl"
           }
          ],
          "scatterternary": [
           {
            "marker": {
             "colorbar": {
              "outlinewidth": 0,
              "ticks": ""
             }
            },
            "type": "scatterternary"
           }
          ],
          "surface": [
           {
            "colorbar": {
             "outlinewidth": 0,
             "ticks": ""
            },
            "colorscale": [
             [
              0,
              "#0d0887"
             ],
             [
              0.1111111111111111,
              "#46039f"
             ],
             [
              0.2222222222222222,
              "#7201a8"
             ],
             [
              0.3333333333333333,
              "#9c179e"
             ],
             [
              0.4444444444444444,
              "#bd3786"
             ],
             [
              0.5555555555555556,
              "#d8576b"
             ],
             [
              0.6666666666666666,
              "#ed7953"
             ],
             [
              0.7777777777777778,
              "#fb9f3a"
             ],
             [
              0.8888888888888888,
              "#fdca26"
             ],
             [
              1,
              "#f0f921"
             ]
            ],
            "type": "surface"
           }
          ],
          "table": [
           {
            "cells": {
             "fill": {
              "color": "#EBF0F8"
             },
             "line": {
              "color": "white"
             }
            },
            "header": {
             "fill": {
              "color": "#C8D4E3"
             },
             "line": {
              "color": "white"
             }
            },
            "type": "table"
           }
          ]
         },
         "layout": {
          "annotationdefaults": {
           "arrowcolor": "#2a3f5f",
           "arrowhead": 0,
           "arrowwidth": 1
          },
          "autotypenumbers": "strict",
          "coloraxis": {
           "colorbar": {
            "outlinewidth": 0,
            "ticks": ""
           }
          },
          "colorscale": {
           "diverging": [
            [
             0,
             "#8e0152"
            ],
            [
             0.1,
             "#c51b7d"
            ],
            [
             0.2,
             "#de77ae"
            ],
            [
             0.3,
             "#f1b6da"
            ],
            [
             0.4,
             "#fde0ef"
            ],
            [
             0.5,
             "#f7f7f7"
            ],
            [
             0.6,
             "#e6f5d0"
            ],
            [
             0.7,
             "#b8e186"
            ],
            [
             0.8,
             "#7fbc41"
            ],
            [
             0.9,
             "#4d9221"
            ],
            [
             1,
             "#276419"
            ]
           ],
           "sequential": [
            [
             0,
             "#0d0887"
            ],
            [
             0.1111111111111111,
             "#46039f"
            ],
            [
             0.2222222222222222,
             "#7201a8"
            ],
            [
             0.3333333333333333,
             "#9c179e"
            ],
            [
             0.4444444444444444,
             "#bd3786"
            ],
            [
             0.5555555555555556,
             "#d8576b"
            ],
            [
             0.6666666666666666,
             "#ed7953"
            ],
            [
             0.7777777777777778,
             "#fb9f3a"
            ],
            [
             0.8888888888888888,
             "#fdca26"
            ],
            [
             1,
             "#f0f921"
            ]
           ],
           "sequentialminus": [
            [
             0,
             "#0d0887"
            ],
            [
             0.1111111111111111,
             "#46039f"
            ],
            [
             0.2222222222222222,
             "#7201a8"
            ],
            [
             0.3333333333333333,
             "#9c179e"
            ],
            [
             0.4444444444444444,
             "#bd3786"
            ],
            [
             0.5555555555555556,
             "#d8576b"
            ],
            [
             0.6666666666666666,
             "#ed7953"
            ],
            [
             0.7777777777777778,
             "#fb9f3a"
            ],
            [
             0.8888888888888888,
             "#fdca26"
            ],
            [
             1,
             "#f0f921"
            ]
           ]
          },
          "colorway": [
           "#636efa",
           "#EF553B",
           "#00cc96",
           "#ab63fa",
           "#FFA15A",
           "#19d3f3",
           "#FF6692",
           "#B6E880",
           "#FF97FF",
           "#FECB52"
          ],
          "font": {
           "color": "#2a3f5f"
          },
          "geo": {
           "bgcolor": "white",
           "lakecolor": "white",
           "landcolor": "#E5ECF6",
           "showlakes": true,
           "showland": true,
           "subunitcolor": "white"
          },
          "hoverlabel": {
           "align": "left"
          },
          "hovermode": "closest",
          "mapbox": {
           "style": "light"
          },
          "paper_bgcolor": "white",
          "plot_bgcolor": "#E5ECF6",
          "polar": {
           "angularaxis": {
            "gridcolor": "white",
            "linecolor": "white",
            "ticks": ""
           },
           "bgcolor": "#E5ECF6",
           "radialaxis": {
            "gridcolor": "white",
            "linecolor": "white",
            "ticks": ""
           }
          },
          "scene": {
           "xaxis": {
            "backgroundcolor": "#E5ECF6",
            "gridcolor": "white",
            "gridwidth": 2,
            "linecolor": "white",
            "showbackground": true,
            "ticks": "",
            "zerolinecolor": "white"
           },
           "yaxis": {
            "backgroundcolor": "#E5ECF6",
            "gridcolor": "white",
            "gridwidth": 2,
            "linecolor": "white",
            "showbackground": true,
            "ticks": "",
            "zerolinecolor": "white"
           },
           "zaxis": {
            "backgroundcolor": "#E5ECF6",
            "gridcolor": "white",
            "gridwidth": 2,
            "linecolor": "white",
            "showbackground": true,
            "ticks": "",
            "zerolinecolor": "white"
           }
          },
          "shapedefaults": {
           "line": {
            "color": "#2a3f5f"
           }
          },
          "ternary": {
           "aaxis": {
            "gridcolor": "white",
            "linecolor": "white",
            "ticks": ""
           },
           "baxis": {
            "gridcolor": "white",
            "linecolor": "white",
            "ticks": ""
           },
           "bgcolor": "#E5ECF6",
           "caxis": {
            "gridcolor": "white",
            "linecolor": "white",
            "ticks": ""
           }
          },
          "title": {
           "x": 0.05
          },
          "xaxis": {
           "automargin": true,
           "gridcolor": "white",
           "linecolor": "white",
           "ticks": "",
           "title": {
            "standoff": 15
           },
           "zerolinecolor": "white",
           "zerolinewidth": 2
          },
          "yaxis": {
           "automargin": true,
           "gridcolor": "white",
           "linecolor": "white",
           "ticks": "",
           "title": {
            "standoff": 15
           },
           "zerolinecolor": "white",
           "zerolinewidth": 2
          }
         }
        },
        "xaxis": {
         "anchor": "y",
         "domain": [
          0,
          1
         ],
         "tickangle": -45,
         "title": {
          "text": "Time"
         }
        },
        "yaxis": {
         "anchor": "x",
         "domain": [
          0,
          1
         ],
         "title": {
          "text": "value"
         }
        }
       }
      },
      "text/html": [
       "<div>                            <div id=\"6a731afb-3941-496d-838c-0f73313961a9\" class=\"plotly-graph-div\" style=\"height:525px; width:100%;\"></div>            <script type=\"text/javascript\">                require([\"plotly\"], function(Plotly) {                    window.PLOTLYENV=window.PLOTLYENV || {};                                    if (document.getElementById(\"6a731afb-3941-496d-838c-0f73313961a9\")) {                    Plotly.newPlot(                        \"6a731afb-3941-496d-838c-0f73313961a9\",                        [{\"hovertemplate\": \"Geography=Newfoundland<br>Time=%{x}<br>value=%{y}<extra></extra>\", \"legendgroup\": \"Newfoundland\", \"line\": {\"color\": \"#636efa\", \"dash\": \"solid\"}, \"mode\": \"lines\", \"name\": \"Newfoundland\", \"orientation\": \"v\", \"showlegend\": true, \"type\": \"scatter\", \"x\": [\"2012Q3\", \"2012Q4\", \"2013Q1\", \"2013Q2\", \"2013Q3\", \"2013Q4\", \"2014Q1\", \"2014Q2\", \"2014Q3\", \"2014Q4\", \"2015Q1\", \"2015Q2\", \"2015Q3\", \"2015Q4\", \"2016Q1\", \"2016Q2\", \"2016Q3\", \"2016Q4\", \"2017Q1\", \"2017Q2\", \"2017Q3\", \"2017Q4\", \"2018Q1\", \"2018Q2\", \"2018Q3\", \"2018Q4\", \"2019Q1\", \"2019Q2\", \"2019Q3\", \"2019Q4\", \"2020Q1\", \"2020Q2\", \"2020Q3\"], \"xaxis\": \"x\", \"y\": [188732, 185794, 189098, 181331, 191818, 193100, 195479, 192856, 199560, 200310, 197406, 193956, 199758, 202487, 196798, 196806, 198265, 197794, 192057, 191412, 200378, 193619, 196431, 192252, 192106, 188614, 185276, 190582, 194536, 193870, 186268, 187431, 196100], \"yaxis\": \"y\"}, {\"hovertemplate\": \"Geography=Prince Edward Island<br>Time=%{x}<br>value=%{y}<extra></extra>\", \"legendgroup\": \"Prince Edward Island\", \"line\": {\"color\": \"#EF553B\", \"dash\": \"solid\"}, \"mode\": \"lines\", \"name\": \"Prince Edward Island\", \"orientation\": \"v\", \"showlegend\": true, \"type\": \"scatter\", \"x\": [\"2012Q3\", \"2012Q4\", \"2013Q1\", \"2013Q2\", \"2013Q3\", \"2013Q4\", \"2014Q1\", \"2014Q2\", \"2014Q3\", \"2014Q4\", \"2015Q1\", \"2015Q2\", \"2015Q3\", \"2015Q4\", \"2016Q1\", \"2016Q2\", \"2016Q3\", \"2016Q4\", \"2017Q1\", \"2017Q2\", \"2017Q3\", \"2017Q4\", \"2018Q1\", \"2018Q2\", \"2018Q3\", \"2018Q4\", \"2019Q1\", \"2019Q2\", \"2019Q3\", \"2019Q4\", \"2020Q1\", \"2020Q2\", \"2020Q3\"], \"xaxis\": \"x\", \"y\": [140279, 138415, 137162, 126763, 139506, 141453, 141141, 137427, 143320, 141232, 146885, 146818, 150403, 155926, 157322, 150732, 169651, 155799, 175124, 174901, 176919, 175523, 179179, 182114, 181967, 178140, 181172, 181358, 190715, 185934, 193439, 189309, 204415], \"yaxis\": \"y\"}, {\"hovertemplate\": \"Geography=Nova Scotia<br>Time=%{x}<br>value=%{y}<extra></extra>\", \"legendgroup\": \"Nova Scotia\", \"line\": {\"color\": \"#00cc96\", \"dash\": \"solid\"}, \"mode\": \"lines\", \"name\": \"Nova Scotia\", \"orientation\": \"v\", \"showlegend\": true, \"type\": \"scatter\", \"x\": [\"2012Q3\", \"2012Q4\", \"2013Q1\", \"2013Q2\", \"2013Q3\", \"2013Q4\", \"2014Q1\", \"2014Q2\", \"2014Q3\", \"2014Q4\", \"2015Q1\", \"2015Q2\", \"2015Q3\", \"2015Q4\", \"2016Q1\", \"2016Q2\", \"2016Q3\", \"2016Q4\", \"2017Q1\", \"2017Q2\", \"2017Q3\", \"2017Q4\", \"2018Q1\", \"2018Q2\", \"2018Q3\", \"2018Q4\", \"2019Q1\", \"2019Q2\", \"2019Q3\", \"2019Q4\", \"2020Q1\", \"2020Q2\", \"2020Q3\"], \"xaxis\": \"x\", \"y\": [174688, 160046, 158806, 159945, 166426, 160189, 161383, 157664, 172827, 163584, 163607, 165288, 178091, 172863, 167596, 168948, 178784, 173305, 186024, 182526, 194802, 188559, 185858, 179407, 190443, 179921, 177863, 180958, 193586, 190168, 188267, 192060, 207877], \"yaxis\": \"y\"}, {\"hovertemplate\": \"Geography=New Brunswick<br>Time=%{x}<br>value=%{y}<extra></extra>\", \"legendgroup\": \"New Brunswick\", \"line\": {\"color\": \"#ab63fa\", \"dash\": \"solid\"}, \"mode\": \"lines\", \"name\": \"New Brunswick\", \"orientation\": \"v\", \"showlegend\": true, \"type\": \"scatter\", \"x\": [\"2012Q3\", \"2012Q4\", \"2013Q1\", \"2013Q2\", \"2013Q3\", \"2013Q4\", \"2014Q1\", \"2014Q2\", \"2014Q3\", \"2014Q4\", \"2015Q1\", \"2015Q2\", \"2015Q3\", \"2015Q4\", \"2016Q1\", \"2016Q2\", \"2016Q3\", \"2016Q4\", \"2017Q1\", \"2017Q2\", \"2017Q3\", \"2017Q4\", \"2018Q1\", \"2018Q2\", \"2018Q3\", \"2018Q4\", \"2019Q1\", \"2019Q2\", \"2019Q3\", \"2019Q4\", \"2020Q1\", \"2020Q2\", \"2020Q3\"], \"xaxis\": \"x\", \"y\": [133390, 126138, 124645, 122572, 131542, 128155, 127766, 124221, 135592, 132766, 132025, 128378, 137565, 137039, 132325, 133027, 143533, 140124, 141196, 135748, 147934, 142799, 139711, 139750, 150353, 143324, 140850, 137809, 152606, 147047, 146701, 149590, 160349], \"yaxis\": \"y\"}, {\"hovertemplate\": \"Geography=Qu\\u00e9bec<br>Time=%{x}<br>value=%{y}<extra></extra>\", \"legendgroup\": \"Qu\\u00e9bec\", \"line\": {\"color\": \"#FFA15A\", \"dash\": \"solid\"}, \"mode\": \"lines\", \"name\": \"Qu\\u00e9bec\", \"orientation\": \"v\", \"showlegend\": true, \"type\": \"scatter\", \"x\": [\"2012Q3\", \"2012Q4\", \"2013Q1\", \"2013Q2\", \"2013Q3\", \"2013Q4\", \"2014Q1\", \"2014Q2\", \"2014Q3\", \"2014Q4\", \"2015Q1\", \"2015Q2\", \"2015Q3\", \"2015Q4\", \"2016Q1\", \"2016Q2\", \"2016Q3\", \"2016Q4\", \"2017Q1\", \"2017Q2\", \"2017Q3\", \"2017Q4\", \"2018Q1\", \"2018Q2\", \"2018Q3\", \"2018Q4\", \"2019Q1\", \"2019Q2\", \"2019Q3\", \"2019Q4\", \"2020Q1\", \"2020Q2\", \"2020Q3\"], \"xaxis\": \"x\", \"y\": [159661, 153413, 153909, 155016, 160147, 155512, 156424, 160165, 166426, 160073, 161563, 164764, 170403, 164235, 167154, 169326, 176522, 170309, 171992, 171716, 177306, 173182, 175297, 183507, 187727, 173911, 175658, 179523, 187136, 183501, 189390, 195538, 203861], \"yaxis\": \"y\"}, {\"hovertemplate\": \"Geography=Ontario<br>Time=%{x}<br>value=%{y}<extra></extra>\", \"legendgroup\": \"Ontario\", \"line\": {\"color\": \"#19d3f3\", \"dash\": \"solid\"}, \"mode\": \"lines\", \"name\": \"Ontario\", \"orientation\": \"v\", \"showlegend\": true, \"type\": \"scatter\", \"x\": [\"2012Q3\", \"2012Q4\", \"2013Q1\", \"2013Q2\", \"2013Q3\", \"2013Q4\", \"2014Q1\", \"2014Q2\", \"2014Q3\", \"2014Q4\", \"2015Q1\", \"2015Q2\", \"2015Q3\", \"2015Q4\", \"2016Q1\", \"2016Q2\", \"2016Q3\", \"2016Q4\", \"2017Q1\", \"2017Q2\", \"2017Q3\", \"2017Q4\", \"2018Q1\", \"2018Q2\", \"2018Q3\", \"2018Q4\", \"2019Q1\", \"2019Q2\", \"2019Q3\", \"2019Q4\", \"2020Q1\", \"2020Q2\", \"2020Q3\"], \"xaxis\": \"x\", \"y\": [247455, 235667, 233122, 230770, 249054, 244060, 244077, 240828, 262838, 257244, 254854, 259093, 281259, 277802, 278626, 285024, 307369, 310236, 319009, 326645, 338561, 323821, 322179, 315576, 327367, 321579, 321074, 324080, 343117, 343768, 348272, 363432, 373371], \"yaxis\": \"y\"}, {\"hovertemplate\": \"Geography=Manitoba<br>Time=%{x}<br>value=%{y}<extra></extra>\", \"legendgroup\": \"Manitoba\", \"line\": {\"color\": \"#FF6692\", \"dash\": \"solid\"}, \"mode\": \"lines\", \"name\": \"Manitoba\", \"orientation\": \"v\", \"showlegend\": true, \"type\": \"scatter\", \"x\": [\"2012Q3\", \"2012Q4\", \"2013Q1\", \"2013Q2\", \"2013Q3\", \"2013Q4\", \"2014Q1\", \"2014Q2\", \"2014Q3\", \"2014Q4\", \"2015Q1\", \"2015Q2\", \"2015Q3\", \"2015Q4\", \"2016Q1\", \"2016Q2\", \"2016Q3\", \"2016Q4\", \"2017Q1\", \"2017Q2\", \"2017Q3\", \"2017Q4\", \"2018Q1\", \"2018Q2\", \"2018Q3\", \"2018Q4\", \"2019Q1\", \"2019Q2\", \"2019Q3\", \"2019Q4\", \"2020Q1\", \"2020Q2\", \"2020Q3\"], \"xaxis\": \"x\", \"y\": [188298, 181097, 177560, 177517, 192732, 189570, 188107, 184554, 200051, 197527, 191444, 190383, 206275, 201640, 193970, 196385, 209051, 206958, 203999, 205085, 216750, 217136, 207988, 207436, 220454, 214060, 206692, 214873, 222637, 218918, 212508, 217416, 232725], \"yaxis\": \"y\"}, {\"hovertemplate\": \"Geography=Saskatchewan<br>Time=%{x}<br>value=%{y}<extra></extra>\", \"legendgroup\": \"Saskatchewan\", \"line\": {\"color\": \"#B6E880\", \"dash\": \"solid\"}, \"mode\": \"lines\", \"name\": \"Saskatchewan\", \"orientation\": \"v\", \"showlegend\": true, \"type\": \"scatter\", \"x\": [\"2012Q3\", \"2012Q4\", \"2013Q1\", \"2013Q2\", \"2013Q3\", \"2013Q4\", \"2014Q1\", \"2014Q2\", \"2014Q3\", \"2014Q4\", \"2015Q1\", \"2015Q2\", \"2015Q3\", \"2015Q4\", \"2016Q1\", \"2016Q2\", \"2016Q3\", \"2016Q4\", \"2017Q1\", \"2017Q2\", \"2017Q3\", \"2017Q4\", \"2018Q1\", \"2018Q2\", \"2018Q3\", \"2018Q4\", \"2019Q1\", \"2019Q2\", \"2019Q3\", \"2019Q4\", \"2020Q1\", \"2020Q2\", \"2020Q3\"], \"xaxis\": \"x\", \"y\": [217945, 213126, 206354, 211979, 224868, 225414, 226559, 218781, 231768, 233854, 228569, 226957, 234840, 231611, 225641, 230729, 236380, 232174, 234786, 233545, 238533, 234340, 230702, 229851, 233255, 223628, 217157, 216369, 228721, 224315, 216188, 225641, 237386], \"yaxis\": \"y\"}, {\"hovertemplate\": \"Geography=Alberta<br>Time=%{x}<br>value=%{y}<extra></extra>\", \"legendgroup\": \"Alberta\", \"line\": {\"color\": \"#FF97FF\", \"dash\": \"solid\"}, \"mode\": \"lines\", \"name\": \"Alberta\", \"orientation\": \"v\", \"showlegend\": true, \"type\": \"scatter\", \"x\": [\"2012Q3\", \"2012Q4\", \"2013Q1\", \"2013Q2\", \"2013Q3\", \"2013Q4\", \"2014Q1\", \"2014Q2\", \"2014Q3\", \"2014Q4\", \"2015Q1\", \"2015Q2\", \"2015Q3\", \"2015Q4\", \"2016Q1\", \"2016Q2\", \"2016Q3\", \"2016Q4\", \"2017Q1\", \"2017Q2\", \"2017Q3\", \"2017Q4\", \"2018Q1\", \"2018Q2\", \"2018Q3\", \"2018Q4\", \"2019Q1\", \"2019Q2\", \"2019Q3\", \"2019Q4\", \"2020Q1\", \"2020Q2\", \"2020Q3\"], \"xaxis\": \"x\", \"y\": [282371, 277555, 277158, 278516, 289263, 284928, 291926, 290722, 304374, 305558, 303976, 299837, 309953, 303244, 296111, 298884, 304683, 302095, 301254, 300115, 307837, 307662, 302814, 302116, 305101, 295839, 291721, 293612, 297609, 297552, 291747, 296269, 305600], \"yaxis\": \"y\"}, {\"hovertemplate\": \"Geography=British Columbia<br>Time=%{x}<br>value=%{y}<extra></extra>\", \"legendgroup\": \"British Columbia\", \"line\": {\"color\": \"#FECB52\", \"dash\": \"solid\"}, \"mode\": \"lines\", \"name\": \"British Columbia\", \"orientation\": \"v\", \"showlegend\": true, \"type\": \"scatter\", \"x\": [\"2012Q3\", \"2012Q4\", \"2013Q1\", \"2013Q2\", \"2013Q3\", \"2013Q4\", \"2014Q1\", \"2014Q2\", \"2014Q3\", \"2014Q4\", \"2015Q1\", \"2015Q2\", \"2015Q3\", \"2015Q4\", \"2016Q1\", \"2016Q2\", \"2016Q3\", \"2016Q4\", \"2017Q1\", \"2017Q2\", \"2017Q3\", \"2017Q4\", \"2018Q1\", \"2018Q2\", \"2018Q3\", \"2018Q4\", \"2019Q1\", \"2019Q2\", \"2019Q3\", \"2019Q4\", \"2020Q1\", \"2020Q2\", \"2020Q3\"], \"xaxis\": \"x\", \"y\": [305427, 289864, 286652, 290928, 303663, 305256, 309374, 305138, 321625, 323373, 325035, 328540, 350672, 357016, 368782, 385910, 395297, 366703, 358655, 369174, 389430, 381223, 384794, 371860, 378187, 364330, 363239, 363924, 376343, 386494, 393711, 397853, 417004], \"yaxis\": \"y\"}],                        {\"legend\": {\"title\": {\"text\": \"Geography\"}, \"tracegroupgap\": 0}, \"margin\": {\"t\": 60}, \"template\": {\"data\": {\"bar\": [{\"error_x\": {\"color\": \"#2a3f5f\"}, \"error_y\": {\"color\": \"#2a3f5f\"}, \"marker\": {\"line\": {\"color\": \"#E5ECF6\", \"width\": 0.5}}, \"type\": \"bar\"}], \"barpolar\": [{\"marker\": {\"line\": {\"color\": \"#E5ECF6\", \"width\": 0.5}}, \"type\": \"barpolar\"}], \"carpet\": [{\"aaxis\": {\"endlinecolor\": \"#2a3f5f\", \"gridcolor\": \"white\", \"linecolor\": \"white\", \"minorgridcolor\": \"white\", \"startlinecolor\": \"#2a3f5f\"}, \"baxis\": {\"endlinecolor\": \"#2a3f5f\", \"gridcolor\": \"white\", \"linecolor\": \"white\", \"minorgridcolor\": \"white\", \"startlinecolor\": \"#2a3f5f\"}, \"type\": \"carpet\"}], \"choropleth\": [{\"colorbar\": {\"outlinewidth\": 0, \"ticks\": \"\"}, \"type\": \"choropleth\"}], \"contour\": [{\"colorbar\": {\"outlinewidth\": 0, \"ticks\": \"\"}, \"colorscale\": [[0.0, \"#0d0887\"], [0.1111111111111111, \"#46039f\"], [0.2222222222222222, \"#7201a8\"], [0.3333333333333333, \"#9c179e\"], [0.4444444444444444, \"#bd3786\"], [0.5555555555555556, \"#d8576b\"], [0.6666666666666666, \"#ed7953\"], [0.7777777777777778, \"#fb9f3a\"], [0.8888888888888888, \"#fdca26\"], [1.0, \"#f0f921\"]], \"type\": \"contour\"}], \"contourcarpet\": [{\"colorbar\": {\"outlinewidth\": 0, \"ticks\": \"\"}, \"type\": \"contourcarpet\"}], \"heatmap\": [{\"colorbar\": {\"outlinewidth\": 0, \"ticks\": \"\"}, \"colorscale\": [[0.0, \"#0d0887\"], [0.1111111111111111, \"#46039f\"], [0.2222222222222222, \"#7201a8\"], [0.3333333333333333, \"#9c179e\"], [0.4444444444444444, \"#bd3786\"], [0.5555555555555556, \"#d8576b\"], [0.6666666666666666, \"#ed7953\"], [0.7777777777777778, \"#fb9f3a\"], [0.8888888888888888, \"#fdca26\"], [1.0, \"#f0f921\"]], \"type\": \"heatmap\"}], \"heatmapgl\": [{\"colorbar\": {\"outlinewidth\": 0, \"ticks\": \"\"}, \"colorscale\": [[0.0, \"#0d0887\"], [0.1111111111111111, \"#46039f\"], [0.2222222222222222, \"#7201a8\"], [0.3333333333333333, \"#9c179e\"], [0.4444444444444444, \"#bd3786\"], [0.5555555555555556, \"#d8576b\"], [0.6666666666666666, \"#ed7953\"], [0.7777777777777778, \"#fb9f3a\"], [0.8888888888888888, \"#fdca26\"], [1.0, \"#f0f921\"]], \"type\": \"heatmapgl\"}], \"histogram\": [{\"marker\": {\"colorbar\": {\"outlinewidth\": 0, \"ticks\": \"\"}}, \"type\": \"histogram\"}], \"histogram2d\": [{\"colorbar\": {\"outlinewidth\": 0, \"ticks\": \"\"}, \"colorscale\": [[0.0, \"#0d0887\"], [0.1111111111111111, \"#46039f\"], [0.2222222222222222, \"#7201a8\"], [0.3333333333333333, \"#9c179e\"], [0.4444444444444444, \"#bd3786\"], [0.5555555555555556, \"#d8576b\"], [0.6666666666666666, \"#ed7953\"], [0.7777777777777778, \"#fb9f3a\"], [0.8888888888888888, \"#fdca26\"], [1.0, \"#f0f921\"]], \"type\": \"histogram2d\"}], \"histogram2dcontour\": [{\"colorbar\": {\"outlinewidth\": 0, \"ticks\": \"\"}, \"colorscale\": [[0.0, \"#0d0887\"], [0.1111111111111111, \"#46039f\"], [0.2222222222222222, \"#7201a8\"], [0.3333333333333333, \"#9c179e\"], [0.4444444444444444, \"#bd3786\"], [0.5555555555555556, \"#d8576b\"], [0.6666666666666666, \"#ed7953\"], [0.7777777777777778, \"#fb9f3a\"], [0.8888888888888888, \"#fdca26\"], [1.0, \"#f0f921\"]], \"type\": \"histogram2dcontour\"}], \"mesh3d\": [{\"colorbar\": {\"outlinewidth\": 0, \"ticks\": \"\"}, \"type\": \"mesh3d\"}], \"parcoords\": [{\"line\": {\"colorbar\": {\"outlinewidth\": 0, \"ticks\": \"\"}}, \"type\": \"parcoords\"}], \"pie\": [{\"automargin\": true, \"type\": \"pie\"}], \"scatter\": [{\"marker\": {\"colorbar\": {\"outlinewidth\": 0, \"ticks\": \"\"}}, \"type\": \"scatter\"}], \"scatter3d\": [{\"line\": {\"colorbar\": {\"outlinewidth\": 0, \"ticks\": \"\"}}, \"marker\": {\"colorbar\": {\"outlinewidth\": 0, \"ticks\": \"\"}}, \"type\": \"scatter3d\"}], \"scattercarpet\": [{\"marker\": {\"colorbar\": {\"outlinewidth\": 0, \"ticks\": \"\"}}, \"type\": \"scattercarpet\"}], \"scattergeo\": [{\"marker\": {\"colorbar\": {\"outlinewidth\": 0, \"ticks\": \"\"}}, \"type\": \"scattergeo\"}], \"scattergl\": [{\"marker\": {\"colorbar\": {\"outlinewidth\": 0, \"ticks\": \"\"}}, \"type\": \"scattergl\"}], \"scattermapbox\": [{\"marker\": {\"colorbar\": {\"outlinewidth\": 0, \"ticks\": \"\"}}, \"type\": \"scattermapbox\"}], \"scatterpolar\": [{\"marker\": {\"colorbar\": {\"outlinewidth\": 0, \"ticks\": \"\"}}, \"type\": \"scatterpolar\"}], \"scatterpolargl\": [{\"marker\": {\"colorbar\": {\"outlinewidth\": 0, \"ticks\": \"\"}}, \"type\": \"scatterpolargl\"}], \"scatterternary\": [{\"marker\": {\"colorbar\": {\"outlinewidth\": 0, \"ticks\": \"\"}}, \"type\": \"scatterternary\"}], \"surface\": [{\"colorbar\": {\"outlinewidth\": 0, \"ticks\": \"\"}, \"colorscale\": [[0.0, \"#0d0887\"], [0.1111111111111111, \"#46039f\"], [0.2222222222222222, \"#7201a8\"], [0.3333333333333333, \"#9c179e\"], [0.4444444444444444, \"#bd3786\"], [0.5555555555555556, \"#d8576b\"], [0.6666666666666666, \"#ed7953\"], [0.7777777777777778, \"#fb9f3a\"], [0.8888888888888888, \"#fdca26\"], [1.0, \"#f0f921\"]], \"type\": \"surface\"}], \"table\": [{\"cells\": {\"fill\": {\"color\": \"#EBF0F8\"}, \"line\": {\"color\": \"white\"}}, \"header\": {\"fill\": {\"color\": \"#C8D4E3\"}, \"line\": {\"color\": \"white\"}}, \"type\": \"table\"}]}, \"layout\": {\"annotationdefaults\": {\"arrowcolor\": \"#2a3f5f\", \"arrowhead\": 0, \"arrowwidth\": 1}, \"autotypenumbers\": \"strict\", \"coloraxis\": {\"colorbar\": {\"outlinewidth\": 0, \"ticks\": \"\"}}, \"colorscale\": {\"diverging\": [[0, \"#8e0152\"], [0.1, \"#c51b7d\"], [0.2, \"#de77ae\"], [0.3, \"#f1b6da\"], [0.4, \"#fde0ef\"], [0.5, \"#f7f7f7\"], [0.6, \"#e6f5d0\"], [0.7, \"#b8e186\"], [0.8, \"#7fbc41\"], [0.9, \"#4d9221\"], [1, \"#276419\"]], \"sequential\": [[0.0, \"#0d0887\"], [0.1111111111111111, \"#46039f\"], [0.2222222222222222, \"#7201a8\"], [0.3333333333333333, \"#9c179e\"], [0.4444444444444444, \"#bd3786\"], [0.5555555555555556, \"#d8576b\"], [0.6666666666666666, \"#ed7953\"], [0.7777777777777778, \"#fb9f3a\"], [0.8888888888888888, \"#fdca26\"], [1.0, \"#f0f921\"]], \"sequentialminus\": [[0.0, \"#0d0887\"], [0.1111111111111111, \"#46039f\"], [0.2222222222222222, \"#7201a8\"], [0.3333333333333333, \"#9c179e\"], [0.4444444444444444, \"#bd3786\"], [0.5555555555555556, \"#d8576b\"], [0.6666666666666666, \"#ed7953\"], [0.7777777777777778, \"#fb9f3a\"], [0.8888888888888888, \"#fdca26\"], [1.0, \"#f0f921\"]]}, \"colorway\": [\"#636efa\", \"#EF553B\", \"#00cc96\", \"#ab63fa\", \"#FFA15A\", \"#19d3f3\", \"#FF6692\", \"#B6E880\", \"#FF97FF\", \"#FECB52\"], \"font\": {\"color\": \"#2a3f5f\"}, \"geo\": {\"bgcolor\": \"white\", \"lakecolor\": \"white\", \"landcolor\": \"#E5ECF6\", \"showlakes\": true, \"showland\": true, \"subunitcolor\": \"white\"}, \"hoverlabel\": {\"align\": \"left\"}, \"hovermode\": \"closest\", \"mapbox\": {\"style\": \"light\"}, \"paper_bgcolor\": \"white\", \"plot_bgcolor\": \"#E5ECF6\", \"polar\": {\"angularaxis\": {\"gridcolor\": \"white\", \"linecolor\": \"white\", \"ticks\": \"\"}, \"bgcolor\": \"#E5ECF6\", \"radialaxis\": {\"gridcolor\": \"white\", \"linecolor\": \"white\", \"ticks\": \"\"}}, \"scene\": {\"xaxis\": {\"backgroundcolor\": \"#E5ECF6\", \"gridcolor\": \"white\", \"gridwidth\": 2, \"linecolor\": \"white\", \"showbackground\": true, \"ticks\": \"\", \"zerolinecolor\": \"white\"}, \"yaxis\": {\"backgroundcolor\": \"#E5ECF6\", \"gridcolor\": \"white\", \"gridwidth\": 2, \"linecolor\": \"white\", \"showbackground\": true, \"ticks\": \"\", \"zerolinecolor\": \"white\"}, \"zaxis\": {\"backgroundcolor\": \"#E5ECF6\", \"gridcolor\": \"white\", \"gridwidth\": 2, \"linecolor\": \"white\", \"showbackground\": true, \"ticks\": \"\", \"zerolinecolor\": \"white\"}}, \"shapedefaults\": {\"line\": {\"color\": \"#2a3f5f\"}}, \"ternary\": {\"aaxis\": {\"gridcolor\": \"white\", \"linecolor\": \"white\", \"ticks\": \"\"}, \"baxis\": {\"gridcolor\": \"white\", \"linecolor\": \"white\", \"ticks\": \"\"}, \"bgcolor\": \"#E5ECF6\", \"caxis\": {\"gridcolor\": \"white\", \"linecolor\": \"white\", \"ticks\": \"\"}}, \"title\": {\"x\": 0.05}, \"xaxis\": {\"automargin\": true, \"gridcolor\": \"white\", \"linecolor\": \"white\", \"ticks\": \"\", \"title\": {\"standoff\": 15}, \"zerolinecolor\": \"white\", \"zerolinewidth\": 2}, \"yaxis\": {\"automargin\": true, \"gridcolor\": \"white\", \"linecolor\": \"white\", \"ticks\": \"\", \"title\": {\"standoff\": 15}, \"zerolinecolor\": \"white\", \"zerolinewidth\": 2}}}, \"xaxis\": {\"anchor\": \"y\", \"domain\": [0.0, 1.0], \"tickangle\": -45, \"title\": {\"text\": \"Time\"}}, \"yaxis\": {\"anchor\": \"x\", \"domain\": [0.0, 1.0], \"title\": {\"text\": \"value\"}}},                        {\"responsive\": true}                    ).then(function(){\n",
       "                            \n",
       "var gd = document.getElementById('6a731afb-3941-496d-838c-0f73313961a9');\n",
       "var x = new MutationObserver(function (mutations, observer) {{\n",
       "        var display = window.getComputedStyle(gd).display;\n",
       "        if (!display || display === 'none') {{\n",
       "            console.log([gd, 'removed!']);\n",
       "            Plotly.purge(gd);\n",
       "            observer.disconnect();\n",
       "        }}\n",
       "}});\n",
       "\n",
       "// Listen for the removal of the full notebook cells\n",
       "var notebookContainer = gd.closest('#notebook-container');\n",
       "if (notebookContainer) {{\n",
       "    x.observe(notebookContainer, {childList: true});\n",
       "}}\n",
       "\n",
       "// Listen for the clearing of the current output cell\n",
       "var outputEl = gd.closest('.output');\n",
       "if (outputEl) {{\n",
       "    x.observe(outputEl, {childList: true});\n",
       "}}\n",
       "\n",
       "                        })                };                });            </script>        </div>"
      ]
     },
     "metadata": {},
     "output_type": "display_data"
    }
   ],
   "source": [
    "fig = px.line(temp, x='Time', y='value', color = 'Geography')\n",
    "fig.update_xaxes(tickangle=-45)\n",
    "fig.show()"
   ]
  },
  {
   "cell_type": "code",
   "execution_count": 58,
   "metadata": {
    "collapsed": true
   },
   "outputs": [
    {
     "data": {
      "application/vnd.plotly.v1+json": {
       "config": {
        "plotlyServerURL": "https://plot.ly"
       },
       "data": [
        {
         "alignmentgroup": "True",
         "boxpoints": "all",
         "hovertemplate": "Geography=%{x}<br>value=%{y}<extra></extra>",
         "legendgroup": "Newfoundland",
         "marker": {
          "color": "#636efa"
         },
         "name": "Newfoundland",
         "notched": false,
         "offsetgroup": "Newfoundland",
         "orientation": "v",
         "showlegend": true,
         "type": "box",
         "x": [
          "Newfoundland",
          "Newfoundland",
          "Newfoundland",
          "Newfoundland",
          "Newfoundland",
          "Newfoundland",
          "Newfoundland",
          "Newfoundland",
          "Newfoundland",
          "Newfoundland",
          "Newfoundland",
          "Newfoundland",
          "Newfoundland",
          "Newfoundland",
          "Newfoundland",
          "Newfoundland",
          "Newfoundland",
          "Newfoundland",
          "Newfoundland",
          "Newfoundland",
          "Newfoundland",
          "Newfoundland",
          "Newfoundland",
          "Newfoundland",
          "Newfoundland",
          "Newfoundland",
          "Newfoundland",
          "Newfoundland",
          "Newfoundland",
          "Newfoundland",
          "Newfoundland",
          "Newfoundland",
          "Newfoundland"
         ],
         "x0": " ",
         "xaxis": "x",
         "y": [
          188732,
          185794,
          189098,
          181331,
          191818,
          193100,
          195479,
          192856,
          199560,
          200310,
          197406,
          193956,
          199758,
          202487,
          196798,
          196806,
          198265,
          197794,
          192057,
          191412,
          200378,
          193619,
          196431,
          192252,
          192106,
          188614,
          185276,
          190582,
          194536,
          193870,
          186268,
          187431,
          196100
         ],
         "y0": " ",
         "yaxis": "y"
        },
        {
         "alignmentgroup": "True",
         "boxpoints": "all",
         "hovertemplate": "Geography=%{x}<br>value=%{y}<extra></extra>",
         "legendgroup": "Prince Edward Island",
         "marker": {
          "color": "#EF553B"
         },
         "name": "Prince Edward Island",
         "notched": false,
         "offsetgroup": "Prince Edward Island",
         "orientation": "v",
         "showlegend": true,
         "type": "box",
         "x": [
          "Prince Edward Island",
          "Prince Edward Island",
          "Prince Edward Island",
          "Prince Edward Island",
          "Prince Edward Island",
          "Prince Edward Island",
          "Prince Edward Island",
          "Prince Edward Island",
          "Prince Edward Island",
          "Prince Edward Island",
          "Prince Edward Island",
          "Prince Edward Island",
          "Prince Edward Island",
          "Prince Edward Island",
          "Prince Edward Island",
          "Prince Edward Island",
          "Prince Edward Island",
          "Prince Edward Island",
          "Prince Edward Island",
          "Prince Edward Island",
          "Prince Edward Island",
          "Prince Edward Island",
          "Prince Edward Island",
          "Prince Edward Island",
          "Prince Edward Island",
          "Prince Edward Island",
          "Prince Edward Island",
          "Prince Edward Island",
          "Prince Edward Island",
          "Prince Edward Island",
          "Prince Edward Island",
          "Prince Edward Island",
          "Prince Edward Island"
         ],
         "x0": " ",
         "xaxis": "x",
         "y": [
          140279,
          138415,
          137162,
          126763,
          139506,
          141453,
          141141,
          137427,
          143320,
          141232,
          146885,
          146818,
          150403,
          155926,
          157322,
          150732,
          169651,
          155799,
          175124,
          174901,
          176919,
          175523,
          179179,
          182114,
          181967,
          178140,
          181172,
          181358,
          190715,
          185934,
          193439,
          189309,
          204415
         ],
         "y0": " ",
         "yaxis": "y"
        },
        {
         "alignmentgroup": "True",
         "boxpoints": "all",
         "hovertemplate": "Geography=%{x}<br>value=%{y}<extra></extra>",
         "legendgroup": "Nova Scotia",
         "marker": {
          "color": "#00cc96"
         },
         "name": "Nova Scotia",
         "notched": false,
         "offsetgroup": "Nova Scotia",
         "orientation": "v",
         "showlegend": true,
         "type": "box",
         "x": [
          "Nova Scotia",
          "Nova Scotia",
          "Nova Scotia",
          "Nova Scotia",
          "Nova Scotia",
          "Nova Scotia",
          "Nova Scotia",
          "Nova Scotia",
          "Nova Scotia",
          "Nova Scotia",
          "Nova Scotia",
          "Nova Scotia",
          "Nova Scotia",
          "Nova Scotia",
          "Nova Scotia",
          "Nova Scotia",
          "Nova Scotia",
          "Nova Scotia",
          "Nova Scotia",
          "Nova Scotia",
          "Nova Scotia",
          "Nova Scotia",
          "Nova Scotia",
          "Nova Scotia",
          "Nova Scotia",
          "Nova Scotia",
          "Nova Scotia",
          "Nova Scotia",
          "Nova Scotia",
          "Nova Scotia",
          "Nova Scotia",
          "Nova Scotia",
          "Nova Scotia"
         ],
         "x0": " ",
         "xaxis": "x",
         "y": [
          174688,
          160046,
          158806,
          159945,
          166426,
          160189,
          161383,
          157664,
          172827,
          163584,
          163607,
          165288,
          178091,
          172863,
          167596,
          168948,
          178784,
          173305,
          186024,
          182526,
          194802,
          188559,
          185858,
          179407,
          190443,
          179921,
          177863,
          180958,
          193586,
          190168,
          188267,
          192060,
          207877
         ],
         "y0": " ",
         "yaxis": "y"
        },
        {
         "alignmentgroup": "True",
         "boxpoints": "all",
         "hovertemplate": "Geography=%{x}<br>value=%{y}<extra></extra>",
         "legendgroup": "New Brunswick",
         "marker": {
          "color": "#ab63fa"
         },
         "name": "New Brunswick",
         "notched": false,
         "offsetgroup": "New Brunswick",
         "orientation": "v",
         "showlegend": true,
         "type": "box",
         "x": [
          "New Brunswick",
          "New Brunswick",
          "New Brunswick",
          "New Brunswick",
          "New Brunswick",
          "New Brunswick",
          "New Brunswick",
          "New Brunswick",
          "New Brunswick",
          "New Brunswick",
          "New Brunswick",
          "New Brunswick",
          "New Brunswick",
          "New Brunswick",
          "New Brunswick",
          "New Brunswick",
          "New Brunswick",
          "New Brunswick",
          "New Brunswick",
          "New Brunswick",
          "New Brunswick",
          "New Brunswick",
          "New Brunswick",
          "New Brunswick",
          "New Brunswick",
          "New Brunswick",
          "New Brunswick",
          "New Brunswick",
          "New Brunswick",
          "New Brunswick",
          "New Brunswick",
          "New Brunswick",
          "New Brunswick"
         ],
         "x0": " ",
         "xaxis": "x",
         "y": [
          133390,
          126138,
          124645,
          122572,
          131542,
          128155,
          127766,
          124221,
          135592,
          132766,
          132025,
          128378,
          137565,
          137039,
          132325,
          133027,
          143533,
          140124,
          141196,
          135748,
          147934,
          142799,
          139711,
          139750,
          150353,
          143324,
          140850,
          137809,
          152606,
          147047,
          146701,
          149590,
          160349
         ],
         "y0": " ",
         "yaxis": "y"
        },
        {
         "alignmentgroup": "True",
         "boxpoints": "all",
         "hovertemplate": "Geography=%{x}<br>value=%{y}<extra></extra>",
         "legendgroup": "Québec",
         "marker": {
          "color": "#FFA15A"
         },
         "name": "Québec",
         "notched": false,
         "offsetgroup": "Québec",
         "orientation": "v",
         "showlegend": true,
         "type": "box",
         "x": [
          "Québec",
          "Québec",
          "Québec",
          "Québec",
          "Québec",
          "Québec",
          "Québec",
          "Québec",
          "Québec",
          "Québec",
          "Québec",
          "Québec",
          "Québec",
          "Québec",
          "Québec",
          "Québec",
          "Québec",
          "Québec",
          "Québec",
          "Québec",
          "Québec",
          "Québec",
          "Québec",
          "Québec",
          "Québec",
          "Québec",
          "Québec",
          "Québec",
          "Québec",
          "Québec",
          "Québec",
          "Québec",
          "Québec"
         ],
         "x0": " ",
         "xaxis": "x",
         "y": [
          159661,
          153413,
          153909,
          155016,
          160147,
          155512,
          156424,
          160165,
          166426,
          160073,
          161563,
          164764,
          170403,
          164235,
          167154,
          169326,
          176522,
          170309,
          171992,
          171716,
          177306,
          173182,
          175297,
          183507,
          187727,
          173911,
          175658,
          179523,
          187136,
          183501,
          189390,
          195538,
          203861
         ],
         "y0": " ",
         "yaxis": "y"
        },
        {
         "alignmentgroup": "True",
         "boxpoints": "all",
         "hovertemplate": "Geography=%{x}<br>value=%{y}<extra></extra>",
         "legendgroup": "Ontario",
         "marker": {
          "color": "#19d3f3"
         },
         "name": "Ontario",
         "notched": false,
         "offsetgroup": "Ontario",
         "orientation": "v",
         "showlegend": true,
         "type": "box",
         "x": [
          "Ontario",
          "Ontario",
          "Ontario",
          "Ontario",
          "Ontario",
          "Ontario",
          "Ontario",
          "Ontario",
          "Ontario",
          "Ontario",
          "Ontario",
          "Ontario",
          "Ontario",
          "Ontario",
          "Ontario",
          "Ontario",
          "Ontario",
          "Ontario",
          "Ontario",
          "Ontario",
          "Ontario",
          "Ontario",
          "Ontario",
          "Ontario",
          "Ontario",
          "Ontario",
          "Ontario",
          "Ontario",
          "Ontario",
          "Ontario",
          "Ontario",
          "Ontario",
          "Ontario"
         ],
         "x0": " ",
         "xaxis": "x",
         "y": [
          247455,
          235667,
          233122,
          230770,
          249054,
          244060,
          244077,
          240828,
          262838,
          257244,
          254854,
          259093,
          281259,
          277802,
          278626,
          285024,
          307369,
          310236,
          319009,
          326645,
          338561,
          323821,
          322179,
          315576,
          327367,
          321579,
          321074,
          324080,
          343117,
          343768,
          348272,
          363432,
          373371
         ],
         "y0": " ",
         "yaxis": "y"
        },
        {
         "alignmentgroup": "True",
         "boxpoints": "all",
         "hovertemplate": "Geography=%{x}<br>value=%{y}<extra></extra>",
         "legendgroup": "Manitoba",
         "marker": {
          "color": "#FF6692"
         },
         "name": "Manitoba",
         "notched": false,
         "offsetgroup": "Manitoba",
         "orientation": "v",
         "showlegend": true,
         "type": "box",
         "x": [
          "Manitoba",
          "Manitoba",
          "Manitoba",
          "Manitoba",
          "Manitoba",
          "Manitoba",
          "Manitoba",
          "Manitoba",
          "Manitoba",
          "Manitoba",
          "Manitoba",
          "Manitoba",
          "Manitoba",
          "Manitoba",
          "Manitoba",
          "Manitoba",
          "Manitoba",
          "Manitoba",
          "Manitoba",
          "Manitoba",
          "Manitoba",
          "Manitoba",
          "Manitoba",
          "Manitoba",
          "Manitoba",
          "Manitoba",
          "Manitoba",
          "Manitoba",
          "Manitoba",
          "Manitoba",
          "Manitoba",
          "Manitoba",
          "Manitoba"
         ],
         "x0": " ",
         "xaxis": "x",
         "y": [
          188298,
          181097,
          177560,
          177517,
          192732,
          189570,
          188107,
          184554,
          200051,
          197527,
          191444,
          190383,
          206275,
          201640,
          193970,
          196385,
          209051,
          206958,
          203999,
          205085,
          216750,
          217136,
          207988,
          207436,
          220454,
          214060,
          206692,
          214873,
          222637,
          218918,
          212508,
          217416,
          232725
         ],
         "y0": " ",
         "yaxis": "y"
        },
        {
         "alignmentgroup": "True",
         "boxpoints": "all",
         "hovertemplate": "Geography=%{x}<br>value=%{y}<extra></extra>",
         "legendgroup": "Saskatchewan",
         "marker": {
          "color": "#B6E880"
         },
         "name": "Saskatchewan",
         "notched": false,
         "offsetgroup": "Saskatchewan",
         "orientation": "v",
         "showlegend": true,
         "type": "box",
         "x": [
          "Saskatchewan",
          "Saskatchewan",
          "Saskatchewan",
          "Saskatchewan",
          "Saskatchewan",
          "Saskatchewan",
          "Saskatchewan",
          "Saskatchewan",
          "Saskatchewan",
          "Saskatchewan",
          "Saskatchewan",
          "Saskatchewan",
          "Saskatchewan",
          "Saskatchewan",
          "Saskatchewan",
          "Saskatchewan",
          "Saskatchewan",
          "Saskatchewan",
          "Saskatchewan",
          "Saskatchewan",
          "Saskatchewan",
          "Saskatchewan",
          "Saskatchewan",
          "Saskatchewan",
          "Saskatchewan",
          "Saskatchewan",
          "Saskatchewan",
          "Saskatchewan",
          "Saskatchewan",
          "Saskatchewan",
          "Saskatchewan",
          "Saskatchewan",
          "Saskatchewan"
         ],
         "x0": " ",
         "xaxis": "x",
         "y": [
          217945,
          213126,
          206354,
          211979,
          224868,
          225414,
          226559,
          218781,
          231768,
          233854,
          228569,
          226957,
          234840,
          231611,
          225641,
          230729,
          236380,
          232174,
          234786,
          233545,
          238533,
          234340,
          230702,
          229851,
          233255,
          223628,
          217157,
          216369,
          228721,
          224315,
          216188,
          225641,
          237386
         ],
         "y0": " ",
         "yaxis": "y"
        },
        {
         "alignmentgroup": "True",
         "boxpoints": "all",
         "hovertemplate": "Geography=%{x}<br>value=%{y}<extra></extra>",
         "legendgroup": "Alberta",
         "marker": {
          "color": "#FF97FF"
         },
         "name": "Alberta",
         "notched": false,
         "offsetgroup": "Alberta",
         "orientation": "v",
         "showlegend": true,
         "type": "box",
         "x": [
          "Alberta",
          "Alberta",
          "Alberta",
          "Alberta",
          "Alberta",
          "Alberta",
          "Alberta",
          "Alberta",
          "Alberta",
          "Alberta",
          "Alberta",
          "Alberta",
          "Alberta",
          "Alberta",
          "Alberta",
          "Alberta",
          "Alberta",
          "Alberta",
          "Alberta",
          "Alberta",
          "Alberta",
          "Alberta",
          "Alberta",
          "Alberta",
          "Alberta",
          "Alberta",
          "Alberta",
          "Alberta",
          "Alberta",
          "Alberta",
          "Alberta",
          "Alberta",
          "Alberta"
         ],
         "x0": " ",
         "xaxis": "x",
         "y": [
          282371,
          277555,
          277158,
          278516,
          289263,
          284928,
          291926,
          290722,
          304374,
          305558,
          303976,
          299837,
          309953,
          303244,
          296111,
          298884,
          304683,
          302095,
          301254,
          300115,
          307837,
          307662,
          302814,
          302116,
          305101,
          295839,
          291721,
          293612,
          297609,
          297552,
          291747,
          296269,
          305600
         ],
         "y0": " ",
         "yaxis": "y"
        },
        {
         "alignmentgroup": "True",
         "boxpoints": "all",
         "hovertemplate": "Geography=%{x}<br>value=%{y}<extra></extra>",
         "legendgroup": "British Columbia",
         "marker": {
          "color": "#FECB52"
         },
         "name": "British Columbia",
         "notched": false,
         "offsetgroup": "British Columbia",
         "orientation": "v",
         "showlegend": true,
         "type": "box",
         "x": [
          "British Columbia",
          "British Columbia",
          "British Columbia",
          "British Columbia",
          "British Columbia",
          "British Columbia",
          "British Columbia",
          "British Columbia",
          "British Columbia",
          "British Columbia",
          "British Columbia",
          "British Columbia",
          "British Columbia",
          "British Columbia",
          "British Columbia",
          "British Columbia",
          "British Columbia",
          "British Columbia",
          "British Columbia",
          "British Columbia",
          "British Columbia",
          "British Columbia",
          "British Columbia",
          "British Columbia",
          "British Columbia",
          "British Columbia",
          "British Columbia",
          "British Columbia",
          "British Columbia",
          "British Columbia",
          "British Columbia",
          "British Columbia",
          "British Columbia"
         ],
         "x0": " ",
         "xaxis": "x",
         "y": [
          305427,
          289864,
          286652,
          290928,
          303663,
          305256,
          309374,
          305138,
          321625,
          323373,
          325035,
          328540,
          350672,
          357016,
          368782,
          385910,
          395297,
          366703,
          358655,
          369174,
          389430,
          381223,
          384794,
          371860,
          378187,
          364330,
          363239,
          363924,
          376343,
          386494,
          393711,
          397853,
          417004
         ],
         "y0": " ",
         "yaxis": "y"
        }
       ],
       "layout": {
        "boxmode": "overlay",
        "legend": {
         "title": {
          "text": "Geography"
         },
         "tracegroupgap": 0
        },
        "margin": {
         "t": 60
        },
        "template": {
         "data": {
          "bar": [
           {
            "error_x": {
             "color": "#2a3f5f"
            },
            "error_y": {
             "color": "#2a3f5f"
            },
            "marker": {
             "line": {
              "color": "#E5ECF6",
              "width": 0.5
             }
            },
            "type": "bar"
           }
          ],
          "barpolar": [
           {
            "marker": {
             "line": {
              "color": "#E5ECF6",
              "width": 0.5
             }
            },
            "type": "barpolar"
           }
          ],
          "carpet": [
           {
            "aaxis": {
             "endlinecolor": "#2a3f5f",
             "gridcolor": "white",
             "linecolor": "white",
             "minorgridcolor": "white",
             "startlinecolor": "#2a3f5f"
            },
            "baxis": {
             "endlinecolor": "#2a3f5f",
             "gridcolor": "white",
             "linecolor": "white",
             "minorgridcolor": "white",
             "startlinecolor": "#2a3f5f"
            },
            "type": "carpet"
           }
          ],
          "choropleth": [
           {
            "colorbar": {
             "outlinewidth": 0,
             "ticks": ""
            },
            "type": "choropleth"
           }
          ],
          "contour": [
           {
            "colorbar": {
             "outlinewidth": 0,
             "ticks": ""
            },
            "colorscale": [
             [
              0,
              "#0d0887"
             ],
             [
              0.1111111111111111,
              "#46039f"
             ],
             [
              0.2222222222222222,
              "#7201a8"
             ],
             [
              0.3333333333333333,
              "#9c179e"
             ],
             [
              0.4444444444444444,
              "#bd3786"
             ],
             [
              0.5555555555555556,
              "#d8576b"
             ],
             [
              0.6666666666666666,
              "#ed7953"
             ],
             [
              0.7777777777777778,
              "#fb9f3a"
             ],
             [
              0.8888888888888888,
              "#fdca26"
             ],
             [
              1,
              "#f0f921"
             ]
            ],
            "type": "contour"
           }
          ],
          "contourcarpet": [
           {
            "colorbar": {
             "outlinewidth": 0,
             "ticks": ""
            },
            "type": "contourcarpet"
           }
          ],
          "heatmap": [
           {
            "colorbar": {
             "outlinewidth": 0,
             "ticks": ""
            },
            "colorscale": [
             [
              0,
              "#0d0887"
             ],
             [
              0.1111111111111111,
              "#46039f"
             ],
             [
              0.2222222222222222,
              "#7201a8"
             ],
             [
              0.3333333333333333,
              "#9c179e"
             ],
             [
              0.4444444444444444,
              "#bd3786"
             ],
             [
              0.5555555555555556,
              "#d8576b"
             ],
             [
              0.6666666666666666,
              "#ed7953"
             ],
             [
              0.7777777777777778,
              "#fb9f3a"
             ],
             [
              0.8888888888888888,
              "#fdca26"
             ],
             [
              1,
              "#f0f921"
             ]
            ],
            "type": "heatmap"
           }
          ],
          "heatmapgl": [
           {
            "colorbar": {
             "outlinewidth": 0,
             "ticks": ""
            },
            "colorscale": [
             [
              0,
              "#0d0887"
             ],
             [
              0.1111111111111111,
              "#46039f"
             ],
             [
              0.2222222222222222,
              "#7201a8"
             ],
             [
              0.3333333333333333,
              "#9c179e"
             ],
             [
              0.4444444444444444,
              "#bd3786"
             ],
             [
              0.5555555555555556,
              "#d8576b"
             ],
             [
              0.6666666666666666,
              "#ed7953"
             ],
             [
              0.7777777777777778,
              "#fb9f3a"
             ],
             [
              0.8888888888888888,
              "#fdca26"
             ],
             [
              1,
              "#f0f921"
             ]
            ],
            "type": "heatmapgl"
           }
          ],
          "histogram": [
           {
            "marker": {
             "colorbar": {
              "outlinewidth": 0,
              "ticks": ""
             }
            },
            "type": "histogram"
           }
          ],
          "histogram2d": [
           {
            "colorbar": {
             "outlinewidth": 0,
             "ticks": ""
            },
            "colorscale": [
             [
              0,
              "#0d0887"
             ],
             [
              0.1111111111111111,
              "#46039f"
             ],
             [
              0.2222222222222222,
              "#7201a8"
             ],
             [
              0.3333333333333333,
              "#9c179e"
             ],
             [
              0.4444444444444444,
              "#bd3786"
             ],
             [
              0.5555555555555556,
              "#d8576b"
             ],
             [
              0.6666666666666666,
              "#ed7953"
             ],
             [
              0.7777777777777778,
              "#fb9f3a"
             ],
             [
              0.8888888888888888,
              "#fdca26"
             ],
             [
              1,
              "#f0f921"
             ]
            ],
            "type": "histogram2d"
           }
          ],
          "histogram2dcontour": [
           {
            "colorbar": {
             "outlinewidth": 0,
             "ticks": ""
            },
            "colorscale": [
             [
              0,
              "#0d0887"
             ],
             [
              0.1111111111111111,
              "#46039f"
             ],
             [
              0.2222222222222222,
              "#7201a8"
             ],
             [
              0.3333333333333333,
              "#9c179e"
             ],
             [
              0.4444444444444444,
              "#bd3786"
             ],
             [
              0.5555555555555556,
              "#d8576b"
             ],
             [
              0.6666666666666666,
              "#ed7953"
             ],
             [
              0.7777777777777778,
              "#fb9f3a"
             ],
             [
              0.8888888888888888,
              "#fdca26"
             ],
             [
              1,
              "#f0f921"
             ]
            ],
            "type": "histogram2dcontour"
           }
          ],
          "mesh3d": [
           {
            "colorbar": {
             "outlinewidth": 0,
             "ticks": ""
            },
            "type": "mesh3d"
           }
          ],
          "parcoords": [
           {
            "line": {
             "colorbar": {
              "outlinewidth": 0,
              "ticks": ""
             }
            },
            "type": "parcoords"
           }
          ],
          "pie": [
           {
            "automargin": true,
            "type": "pie"
           }
          ],
          "scatter": [
           {
            "marker": {
             "colorbar": {
              "outlinewidth": 0,
              "ticks": ""
             }
            },
            "type": "scatter"
           }
          ],
          "scatter3d": [
           {
            "line": {
             "colorbar": {
              "outlinewidth": 0,
              "ticks": ""
             }
            },
            "marker": {
             "colorbar": {
              "outlinewidth": 0,
              "ticks": ""
             }
            },
            "type": "scatter3d"
           }
          ],
          "scattercarpet": [
           {
            "marker": {
             "colorbar": {
              "outlinewidth": 0,
              "ticks": ""
             }
            },
            "type": "scattercarpet"
           }
          ],
          "scattergeo": [
           {
            "marker": {
             "colorbar": {
              "outlinewidth": 0,
              "ticks": ""
             }
            },
            "type": "scattergeo"
           }
          ],
          "scattergl": [
           {
            "marker": {
             "colorbar": {
              "outlinewidth": 0,
              "ticks": ""
             }
            },
            "type": "scattergl"
           }
          ],
          "scattermapbox": [
           {
            "marker": {
             "colorbar": {
              "outlinewidth": 0,
              "ticks": ""
             }
            },
            "type": "scattermapbox"
           }
          ],
          "scatterpolar": [
           {
            "marker": {
             "colorbar": {
              "outlinewidth": 0,
              "ticks": ""
             }
            },
            "type": "scatterpolar"
           }
          ],
          "scatterpolargl": [
           {
            "marker": {
             "colorbar": {
              "outlinewidth": 0,
              "ticks": ""
             }
            },
            "type": "scatterpolargl"
           }
          ],
          "scatterternary": [
           {
            "marker": {
             "colorbar": {
              "outlinewidth": 0,
              "ticks": ""
             }
            },
            "type": "scatterternary"
           }
          ],
          "surface": [
           {
            "colorbar": {
             "outlinewidth": 0,
             "ticks": ""
            },
            "colorscale": [
             [
              0,
              "#0d0887"
             ],
             [
              0.1111111111111111,
              "#46039f"
             ],
             [
              0.2222222222222222,
              "#7201a8"
             ],
             [
              0.3333333333333333,
              "#9c179e"
             ],
             [
              0.4444444444444444,
              "#bd3786"
             ],
             [
              0.5555555555555556,
              "#d8576b"
             ],
             [
              0.6666666666666666,
              "#ed7953"
             ],
             [
              0.7777777777777778,
              "#fb9f3a"
             ],
             [
              0.8888888888888888,
              "#fdca26"
             ],
             [
              1,
              "#f0f921"
             ]
            ],
            "type": "surface"
           }
          ],
          "table": [
           {
            "cells": {
             "fill": {
              "color": "#EBF0F8"
             },
             "line": {
              "color": "white"
             }
            },
            "header": {
             "fill": {
              "color": "#C8D4E3"
             },
             "line": {
              "color": "white"
             }
            },
            "type": "table"
           }
          ]
         },
         "layout": {
          "annotationdefaults": {
           "arrowcolor": "#2a3f5f",
           "arrowhead": 0,
           "arrowwidth": 1
          },
          "autotypenumbers": "strict",
          "coloraxis": {
           "colorbar": {
            "outlinewidth": 0,
            "ticks": ""
           }
          },
          "colorscale": {
           "diverging": [
            [
             0,
             "#8e0152"
            ],
            [
             0.1,
             "#c51b7d"
            ],
            [
             0.2,
             "#de77ae"
            ],
            [
             0.3,
             "#f1b6da"
            ],
            [
             0.4,
             "#fde0ef"
            ],
            [
             0.5,
             "#f7f7f7"
            ],
            [
             0.6,
             "#e6f5d0"
            ],
            [
             0.7,
             "#b8e186"
            ],
            [
             0.8,
             "#7fbc41"
            ],
            [
             0.9,
             "#4d9221"
            ],
            [
             1,
             "#276419"
            ]
           ],
           "sequential": [
            [
             0,
             "#0d0887"
            ],
            [
             0.1111111111111111,
             "#46039f"
            ],
            [
             0.2222222222222222,
             "#7201a8"
            ],
            [
             0.3333333333333333,
             "#9c179e"
            ],
            [
             0.4444444444444444,
             "#bd3786"
            ],
            [
             0.5555555555555556,
             "#d8576b"
            ],
            [
             0.6666666666666666,
             "#ed7953"
            ],
            [
             0.7777777777777778,
             "#fb9f3a"
            ],
            [
             0.8888888888888888,
             "#fdca26"
            ],
            [
             1,
             "#f0f921"
            ]
           ],
           "sequentialminus": [
            [
             0,
             "#0d0887"
            ],
            [
             0.1111111111111111,
             "#46039f"
            ],
            [
             0.2222222222222222,
             "#7201a8"
            ],
            [
             0.3333333333333333,
             "#9c179e"
            ],
            [
             0.4444444444444444,
             "#bd3786"
            ],
            [
             0.5555555555555556,
             "#d8576b"
            ],
            [
             0.6666666666666666,
             "#ed7953"
            ],
            [
             0.7777777777777778,
             "#fb9f3a"
            ],
            [
             0.8888888888888888,
             "#fdca26"
            ],
            [
             1,
             "#f0f921"
            ]
           ]
          },
          "colorway": [
           "#636efa",
           "#EF553B",
           "#00cc96",
           "#ab63fa",
           "#FFA15A",
           "#19d3f3",
           "#FF6692",
           "#B6E880",
           "#FF97FF",
           "#FECB52"
          ],
          "font": {
           "color": "#2a3f5f"
          },
          "geo": {
           "bgcolor": "white",
           "lakecolor": "white",
           "landcolor": "#E5ECF6",
           "showlakes": true,
           "showland": true,
           "subunitcolor": "white"
          },
          "hoverlabel": {
           "align": "left"
          },
          "hovermode": "closest",
          "mapbox": {
           "style": "light"
          },
          "paper_bgcolor": "white",
          "plot_bgcolor": "#E5ECF6",
          "polar": {
           "angularaxis": {
            "gridcolor": "white",
            "linecolor": "white",
            "ticks": ""
           },
           "bgcolor": "#E5ECF6",
           "radialaxis": {
            "gridcolor": "white",
            "linecolor": "white",
            "ticks": ""
           }
          },
          "scene": {
           "xaxis": {
            "backgroundcolor": "#E5ECF6",
            "gridcolor": "white",
            "gridwidth": 2,
            "linecolor": "white",
            "showbackground": true,
            "ticks": "",
            "zerolinecolor": "white"
           },
           "yaxis": {
            "backgroundcolor": "#E5ECF6",
            "gridcolor": "white",
            "gridwidth": 2,
            "linecolor": "white",
            "showbackground": true,
            "ticks": "",
            "zerolinecolor": "white"
           },
           "zaxis": {
            "backgroundcolor": "#E5ECF6",
            "gridcolor": "white",
            "gridwidth": 2,
            "linecolor": "white",
            "showbackground": true,
            "ticks": "",
            "zerolinecolor": "white"
           }
          },
          "shapedefaults": {
           "line": {
            "color": "#2a3f5f"
           }
          },
          "ternary": {
           "aaxis": {
            "gridcolor": "white",
            "linecolor": "white",
            "ticks": ""
           },
           "baxis": {
            "gridcolor": "white",
            "linecolor": "white",
            "ticks": ""
           },
           "bgcolor": "#E5ECF6",
           "caxis": {
            "gridcolor": "white",
            "linecolor": "white",
            "ticks": ""
           }
          },
          "title": {
           "x": 0.05
          },
          "xaxis": {
           "automargin": true,
           "gridcolor": "white",
           "linecolor": "white",
           "ticks": "",
           "title": {
            "standoff": 15
           },
           "zerolinecolor": "white",
           "zerolinewidth": 2
          },
          "yaxis": {
           "automargin": true,
           "gridcolor": "white",
           "linecolor": "white",
           "ticks": "",
           "title": {
            "standoff": 15
           },
           "zerolinecolor": "white",
           "zerolinewidth": 2
          }
         }
        },
        "xaxis": {
         "anchor": "y",
         "categoryarray": [
          "Newfoundland",
          "Prince Edward Island",
          "Nova Scotia",
          "New Brunswick",
          "Québec",
          "Ontario",
          "Manitoba",
          "Saskatchewan",
          "Alberta",
          "British Columbia"
         ],
         "categoryorder": "array",
         "domain": [
          0,
          1
         ],
         "title": {
          "text": "Geography"
         }
        },
        "yaxis": {
         "anchor": "x",
         "domain": [
          0,
          1
         ],
         "title": {
          "text": "value"
         }
        }
       }
      },
      "text/html": [
       "<div>                            <div id=\"881623c3-43d5-4545-b423-47da9e222ec3\" class=\"plotly-graph-div\" style=\"height:525px; width:100%;\"></div>            <script type=\"text/javascript\">                require([\"plotly\"], function(Plotly) {                    window.PLOTLYENV=window.PLOTLYENV || {};                                    if (document.getElementById(\"881623c3-43d5-4545-b423-47da9e222ec3\")) {                    Plotly.newPlot(                        \"881623c3-43d5-4545-b423-47da9e222ec3\",                        [{\"alignmentgroup\": \"True\", \"boxpoints\": \"all\", \"hovertemplate\": \"Geography=%{x}<br>value=%{y}<extra></extra>\", \"legendgroup\": \"Newfoundland\", \"marker\": {\"color\": \"#636efa\"}, \"name\": \"Newfoundland\", \"notched\": false, \"offsetgroup\": \"Newfoundland\", \"orientation\": \"v\", \"showlegend\": true, \"type\": \"box\", \"x\": [\"Newfoundland\", \"Newfoundland\", \"Newfoundland\", \"Newfoundland\", \"Newfoundland\", \"Newfoundland\", \"Newfoundland\", \"Newfoundland\", \"Newfoundland\", \"Newfoundland\", \"Newfoundland\", \"Newfoundland\", \"Newfoundland\", \"Newfoundland\", \"Newfoundland\", \"Newfoundland\", \"Newfoundland\", \"Newfoundland\", \"Newfoundland\", \"Newfoundland\", \"Newfoundland\", \"Newfoundland\", \"Newfoundland\", \"Newfoundland\", \"Newfoundland\", \"Newfoundland\", \"Newfoundland\", \"Newfoundland\", \"Newfoundland\", \"Newfoundland\", \"Newfoundland\", \"Newfoundland\", \"Newfoundland\"], \"x0\": \" \", \"xaxis\": \"x\", \"y\": [188732, 185794, 189098, 181331, 191818, 193100, 195479, 192856, 199560, 200310, 197406, 193956, 199758, 202487, 196798, 196806, 198265, 197794, 192057, 191412, 200378, 193619, 196431, 192252, 192106, 188614, 185276, 190582, 194536, 193870, 186268, 187431, 196100], \"y0\": \" \", \"yaxis\": \"y\"}, {\"alignmentgroup\": \"True\", \"boxpoints\": \"all\", \"hovertemplate\": \"Geography=%{x}<br>value=%{y}<extra></extra>\", \"legendgroup\": \"Prince Edward Island\", \"marker\": {\"color\": \"#EF553B\"}, \"name\": \"Prince Edward Island\", \"notched\": false, \"offsetgroup\": \"Prince Edward Island\", \"orientation\": \"v\", \"showlegend\": true, \"type\": \"box\", \"x\": [\"Prince Edward Island\", \"Prince Edward Island\", \"Prince Edward Island\", \"Prince Edward Island\", \"Prince Edward Island\", \"Prince Edward Island\", \"Prince Edward Island\", \"Prince Edward Island\", \"Prince Edward Island\", \"Prince Edward Island\", \"Prince Edward Island\", \"Prince Edward Island\", \"Prince Edward Island\", \"Prince Edward Island\", \"Prince Edward Island\", \"Prince Edward Island\", \"Prince Edward Island\", \"Prince Edward Island\", \"Prince Edward Island\", \"Prince Edward Island\", \"Prince Edward Island\", \"Prince Edward Island\", \"Prince Edward Island\", \"Prince Edward Island\", \"Prince Edward Island\", \"Prince Edward Island\", \"Prince Edward Island\", \"Prince Edward Island\", \"Prince Edward Island\", \"Prince Edward Island\", \"Prince Edward Island\", \"Prince Edward Island\", \"Prince Edward Island\"], \"x0\": \" \", \"xaxis\": \"x\", \"y\": [140279, 138415, 137162, 126763, 139506, 141453, 141141, 137427, 143320, 141232, 146885, 146818, 150403, 155926, 157322, 150732, 169651, 155799, 175124, 174901, 176919, 175523, 179179, 182114, 181967, 178140, 181172, 181358, 190715, 185934, 193439, 189309, 204415], \"y0\": \" \", \"yaxis\": \"y\"}, {\"alignmentgroup\": \"True\", \"boxpoints\": \"all\", \"hovertemplate\": \"Geography=%{x}<br>value=%{y}<extra></extra>\", \"legendgroup\": \"Nova Scotia\", \"marker\": {\"color\": \"#00cc96\"}, \"name\": \"Nova Scotia\", \"notched\": false, \"offsetgroup\": \"Nova Scotia\", \"orientation\": \"v\", \"showlegend\": true, \"type\": \"box\", \"x\": [\"Nova Scotia\", \"Nova Scotia\", \"Nova Scotia\", \"Nova Scotia\", \"Nova Scotia\", \"Nova Scotia\", \"Nova Scotia\", \"Nova Scotia\", \"Nova Scotia\", \"Nova Scotia\", \"Nova Scotia\", \"Nova Scotia\", \"Nova Scotia\", \"Nova Scotia\", \"Nova Scotia\", \"Nova Scotia\", \"Nova Scotia\", \"Nova Scotia\", \"Nova Scotia\", \"Nova Scotia\", \"Nova Scotia\", \"Nova Scotia\", \"Nova Scotia\", \"Nova Scotia\", \"Nova Scotia\", \"Nova Scotia\", \"Nova Scotia\", \"Nova Scotia\", \"Nova Scotia\", \"Nova Scotia\", \"Nova Scotia\", \"Nova Scotia\", \"Nova Scotia\"], \"x0\": \" \", \"xaxis\": \"x\", \"y\": [174688, 160046, 158806, 159945, 166426, 160189, 161383, 157664, 172827, 163584, 163607, 165288, 178091, 172863, 167596, 168948, 178784, 173305, 186024, 182526, 194802, 188559, 185858, 179407, 190443, 179921, 177863, 180958, 193586, 190168, 188267, 192060, 207877], \"y0\": \" \", \"yaxis\": \"y\"}, {\"alignmentgroup\": \"True\", \"boxpoints\": \"all\", \"hovertemplate\": \"Geography=%{x}<br>value=%{y}<extra></extra>\", \"legendgroup\": \"New Brunswick\", \"marker\": {\"color\": \"#ab63fa\"}, \"name\": \"New Brunswick\", \"notched\": false, \"offsetgroup\": \"New Brunswick\", \"orientation\": \"v\", \"showlegend\": true, \"type\": \"box\", \"x\": [\"New Brunswick\", \"New Brunswick\", \"New Brunswick\", \"New Brunswick\", \"New Brunswick\", \"New Brunswick\", \"New Brunswick\", \"New Brunswick\", \"New Brunswick\", \"New Brunswick\", \"New Brunswick\", \"New Brunswick\", \"New Brunswick\", \"New Brunswick\", \"New Brunswick\", \"New Brunswick\", \"New Brunswick\", \"New Brunswick\", \"New Brunswick\", \"New Brunswick\", \"New Brunswick\", \"New Brunswick\", \"New Brunswick\", \"New Brunswick\", \"New Brunswick\", \"New Brunswick\", \"New Brunswick\", \"New Brunswick\", \"New Brunswick\", \"New Brunswick\", \"New Brunswick\", \"New Brunswick\", \"New Brunswick\"], \"x0\": \" \", \"xaxis\": \"x\", \"y\": [133390, 126138, 124645, 122572, 131542, 128155, 127766, 124221, 135592, 132766, 132025, 128378, 137565, 137039, 132325, 133027, 143533, 140124, 141196, 135748, 147934, 142799, 139711, 139750, 150353, 143324, 140850, 137809, 152606, 147047, 146701, 149590, 160349], \"y0\": \" \", \"yaxis\": \"y\"}, {\"alignmentgroup\": \"True\", \"boxpoints\": \"all\", \"hovertemplate\": \"Geography=%{x}<br>value=%{y}<extra></extra>\", \"legendgroup\": \"Qu\\u00e9bec\", \"marker\": {\"color\": \"#FFA15A\"}, \"name\": \"Qu\\u00e9bec\", \"notched\": false, \"offsetgroup\": \"Qu\\u00e9bec\", \"orientation\": \"v\", \"showlegend\": true, \"type\": \"box\", \"x\": [\"Qu\\u00e9bec\", \"Qu\\u00e9bec\", \"Qu\\u00e9bec\", \"Qu\\u00e9bec\", \"Qu\\u00e9bec\", \"Qu\\u00e9bec\", \"Qu\\u00e9bec\", \"Qu\\u00e9bec\", \"Qu\\u00e9bec\", \"Qu\\u00e9bec\", \"Qu\\u00e9bec\", \"Qu\\u00e9bec\", \"Qu\\u00e9bec\", \"Qu\\u00e9bec\", \"Qu\\u00e9bec\", \"Qu\\u00e9bec\", \"Qu\\u00e9bec\", \"Qu\\u00e9bec\", \"Qu\\u00e9bec\", \"Qu\\u00e9bec\", \"Qu\\u00e9bec\", \"Qu\\u00e9bec\", \"Qu\\u00e9bec\", \"Qu\\u00e9bec\", \"Qu\\u00e9bec\", \"Qu\\u00e9bec\", \"Qu\\u00e9bec\", \"Qu\\u00e9bec\", \"Qu\\u00e9bec\", \"Qu\\u00e9bec\", \"Qu\\u00e9bec\", \"Qu\\u00e9bec\", \"Qu\\u00e9bec\"], \"x0\": \" \", \"xaxis\": \"x\", \"y\": [159661, 153413, 153909, 155016, 160147, 155512, 156424, 160165, 166426, 160073, 161563, 164764, 170403, 164235, 167154, 169326, 176522, 170309, 171992, 171716, 177306, 173182, 175297, 183507, 187727, 173911, 175658, 179523, 187136, 183501, 189390, 195538, 203861], \"y0\": \" \", \"yaxis\": \"y\"}, {\"alignmentgroup\": \"True\", \"boxpoints\": \"all\", \"hovertemplate\": \"Geography=%{x}<br>value=%{y}<extra></extra>\", \"legendgroup\": \"Ontario\", \"marker\": {\"color\": \"#19d3f3\"}, \"name\": \"Ontario\", \"notched\": false, \"offsetgroup\": \"Ontario\", \"orientation\": \"v\", \"showlegend\": true, \"type\": \"box\", \"x\": [\"Ontario\", \"Ontario\", \"Ontario\", \"Ontario\", \"Ontario\", \"Ontario\", \"Ontario\", \"Ontario\", \"Ontario\", \"Ontario\", \"Ontario\", \"Ontario\", \"Ontario\", \"Ontario\", \"Ontario\", \"Ontario\", \"Ontario\", \"Ontario\", \"Ontario\", \"Ontario\", \"Ontario\", \"Ontario\", \"Ontario\", \"Ontario\", \"Ontario\", \"Ontario\", \"Ontario\", \"Ontario\", \"Ontario\", \"Ontario\", \"Ontario\", \"Ontario\", \"Ontario\"], \"x0\": \" \", \"xaxis\": \"x\", \"y\": [247455, 235667, 233122, 230770, 249054, 244060, 244077, 240828, 262838, 257244, 254854, 259093, 281259, 277802, 278626, 285024, 307369, 310236, 319009, 326645, 338561, 323821, 322179, 315576, 327367, 321579, 321074, 324080, 343117, 343768, 348272, 363432, 373371], \"y0\": \" \", \"yaxis\": \"y\"}, {\"alignmentgroup\": \"True\", \"boxpoints\": \"all\", \"hovertemplate\": \"Geography=%{x}<br>value=%{y}<extra></extra>\", \"legendgroup\": \"Manitoba\", \"marker\": {\"color\": \"#FF6692\"}, \"name\": \"Manitoba\", \"notched\": false, \"offsetgroup\": \"Manitoba\", \"orientation\": \"v\", \"showlegend\": true, \"type\": \"box\", \"x\": [\"Manitoba\", \"Manitoba\", \"Manitoba\", \"Manitoba\", \"Manitoba\", \"Manitoba\", \"Manitoba\", \"Manitoba\", \"Manitoba\", \"Manitoba\", \"Manitoba\", \"Manitoba\", \"Manitoba\", \"Manitoba\", \"Manitoba\", \"Manitoba\", \"Manitoba\", \"Manitoba\", \"Manitoba\", \"Manitoba\", \"Manitoba\", \"Manitoba\", \"Manitoba\", \"Manitoba\", \"Manitoba\", \"Manitoba\", \"Manitoba\", \"Manitoba\", \"Manitoba\", \"Manitoba\", \"Manitoba\", \"Manitoba\", \"Manitoba\"], \"x0\": \" \", \"xaxis\": \"x\", \"y\": [188298, 181097, 177560, 177517, 192732, 189570, 188107, 184554, 200051, 197527, 191444, 190383, 206275, 201640, 193970, 196385, 209051, 206958, 203999, 205085, 216750, 217136, 207988, 207436, 220454, 214060, 206692, 214873, 222637, 218918, 212508, 217416, 232725], \"y0\": \" \", \"yaxis\": \"y\"}, {\"alignmentgroup\": \"True\", \"boxpoints\": \"all\", \"hovertemplate\": \"Geography=%{x}<br>value=%{y}<extra></extra>\", \"legendgroup\": \"Saskatchewan\", \"marker\": {\"color\": \"#B6E880\"}, \"name\": \"Saskatchewan\", \"notched\": false, \"offsetgroup\": \"Saskatchewan\", \"orientation\": \"v\", \"showlegend\": true, \"type\": \"box\", \"x\": [\"Saskatchewan\", \"Saskatchewan\", \"Saskatchewan\", \"Saskatchewan\", \"Saskatchewan\", \"Saskatchewan\", \"Saskatchewan\", \"Saskatchewan\", \"Saskatchewan\", \"Saskatchewan\", \"Saskatchewan\", \"Saskatchewan\", \"Saskatchewan\", \"Saskatchewan\", \"Saskatchewan\", \"Saskatchewan\", \"Saskatchewan\", \"Saskatchewan\", \"Saskatchewan\", \"Saskatchewan\", \"Saskatchewan\", \"Saskatchewan\", \"Saskatchewan\", \"Saskatchewan\", \"Saskatchewan\", \"Saskatchewan\", \"Saskatchewan\", \"Saskatchewan\", \"Saskatchewan\", \"Saskatchewan\", \"Saskatchewan\", \"Saskatchewan\", \"Saskatchewan\"], \"x0\": \" \", \"xaxis\": \"x\", \"y\": [217945, 213126, 206354, 211979, 224868, 225414, 226559, 218781, 231768, 233854, 228569, 226957, 234840, 231611, 225641, 230729, 236380, 232174, 234786, 233545, 238533, 234340, 230702, 229851, 233255, 223628, 217157, 216369, 228721, 224315, 216188, 225641, 237386], \"y0\": \" \", \"yaxis\": \"y\"}, {\"alignmentgroup\": \"True\", \"boxpoints\": \"all\", \"hovertemplate\": \"Geography=%{x}<br>value=%{y}<extra></extra>\", \"legendgroup\": \"Alberta\", \"marker\": {\"color\": \"#FF97FF\"}, \"name\": \"Alberta\", \"notched\": false, \"offsetgroup\": \"Alberta\", \"orientation\": \"v\", \"showlegend\": true, \"type\": \"box\", \"x\": [\"Alberta\", \"Alberta\", \"Alberta\", \"Alberta\", \"Alberta\", \"Alberta\", \"Alberta\", \"Alberta\", \"Alberta\", \"Alberta\", \"Alberta\", \"Alberta\", \"Alberta\", \"Alberta\", \"Alberta\", \"Alberta\", \"Alberta\", \"Alberta\", \"Alberta\", \"Alberta\", \"Alberta\", \"Alberta\", \"Alberta\", \"Alberta\", \"Alberta\", \"Alberta\", \"Alberta\", \"Alberta\", \"Alberta\", \"Alberta\", \"Alberta\", \"Alberta\", \"Alberta\"], \"x0\": \" \", \"xaxis\": \"x\", \"y\": [282371, 277555, 277158, 278516, 289263, 284928, 291926, 290722, 304374, 305558, 303976, 299837, 309953, 303244, 296111, 298884, 304683, 302095, 301254, 300115, 307837, 307662, 302814, 302116, 305101, 295839, 291721, 293612, 297609, 297552, 291747, 296269, 305600], \"y0\": \" \", \"yaxis\": \"y\"}, {\"alignmentgroup\": \"True\", \"boxpoints\": \"all\", \"hovertemplate\": \"Geography=%{x}<br>value=%{y}<extra></extra>\", \"legendgroup\": \"British Columbia\", \"marker\": {\"color\": \"#FECB52\"}, \"name\": \"British Columbia\", \"notched\": false, \"offsetgroup\": \"British Columbia\", \"orientation\": \"v\", \"showlegend\": true, \"type\": \"box\", \"x\": [\"British Columbia\", \"British Columbia\", \"British Columbia\", \"British Columbia\", \"British Columbia\", \"British Columbia\", \"British Columbia\", \"British Columbia\", \"British Columbia\", \"British Columbia\", \"British Columbia\", \"British Columbia\", \"British Columbia\", \"British Columbia\", \"British Columbia\", \"British Columbia\", \"British Columbia\", \"British Columbia\", \"British Columbia\", \"British Columbia\", \"British Columbia\", \"British Columbia\", \"British Columbia\", \"British Columbia\", \"British Columbia\", \"British Columbia\", \"British Columbia\", \"British Columbia\", \"British Columbia\", \"British Columbia\", \"British Columbia\", \"British Columbia\", \"British Columbia\"], \"x0\": \" \", \"xaxis\": \"x\", \"y\": [305427, 289864, 286652, 290928, 303663, 305256, 309374, 305138, 321625, 323373, 325035, 328540, 350672, 357016, 368782, 385910, 395297, 366703, 358655, 369174, 389430, 381223, 384794, 371860, 378187, 364330, 363239, 363924, 376343, 386494, 393711, 397853, 417004], \"y0\": \" \", \"yaxis\": \"y\"}],                        {\"boxmode\": \"overlay\", \"legend\": {\"title\": {\"text\": \"Geography\"}, \"tracegroupgap\": 0}, \"margin\": {\"t\": 60}, \"template\": {\"data\": {\"bar\": [{\"error_x\": {\"color\": \"#2a3f5f\"}, \"error_y\": {\"color\": \"#2a3f5f\"}, \"marker\": {\"line\": {\"color\": \"#E5ECF6\", \"width\": 0.5}}, \"type\": \"bar\"}], \"barpolar\": [{\"marker\": {\"line\": {\"color\": \"#E5ECF6\", \"width\": 0.5}}, \"type\": \"barpolar\"}], \"carpet\": [{\"aaxis\": {\"endlinecolor\": \"#2a3f5f\", \"gridcolor\": \"white\", \"linecolor\": \"white\", \"minorgridcolor\": \"white\", \"startlinecolor\": \"#2a3f5f\"}, \"baxis\": {\"endlinecolor\": \"#2a3f5f\", \"gridcolor\": \"white\", \"linecolor\": \"white\", \"minorgridcolor\": \"white\", \"startlinecolor\": \"#2a3f5f\"}, \"type\": \"carpet\"}], \"choropleth\": [{\"colorbar\": {\"outlinewidth\": 0, \"ticks\": \"\"}, \"type\": \"choropleth\"}], \"contour\": [{\"colorbar\": {\"outlinewidth\": 0, \"ticks\": \"\"}, \"colorscale\": [[0.0, \"#0d0887\"], [0.1111111111111111, \"#46039f\"], [0.2222222222222222, \"#7201a8\"], [0.3333333333333333, \"#9c179e\"], [0.4444444444444444, \"#bd3786\"], [0.5555555555555556, \"#d8576b\"], [0.6666666666666666, \"#ed7953\"], [0.7777777777777778, \"#fb9f3a\"], [0.8888888888888888, \"#fdca26\"], [1.0, \"#f0f921\"]], \"type\": \"contour\"}], \"contourcarpet\": [{\"colorbar\": {\"outlinewidth\": 0, \"ticks\": \"\"}, \"type\": \"contourcarpet\"}], \"heatmap\": [{\"colorbar\": {\"outlinewidth\": 0, \"ticks\": \"\"}, \"colorscale\": [[0.0, \"#0d0887\"], [0.1111111111111111, \"#46039f\"], [0.2222222222222222, \"#7201a8\"], [0.3333333333333333, \"#9c179e\"], [0.4444444444444444, \"#bd3786\"], [0.5555555555555556, \"#d8576b\"], [0.6666666666666666, \"#ed7953\"], [0.7777777777777778, \"#fb9f3a\"], [0.8888888888888888, \"#fdca26\"], [1.0, \"#f0f921\"]], \"type\": \"heatmap\"}], \"heatmapgl\": [{\"colorbar\": {\"outlinewidth\": 0, \"ticks\": \"\"}, \"colorscale\": [[0.0, \"#0d0887\"], [0.1111111111111111, \"#46039f\"], [0.2222222222222222, \"#7201a8\"], [0.3333333333333333, \"#9c179e\"], [0.4444444444444444, \"#bd3786\"], [0.5555555555555556, \"#d8576b\"], [0.6666666666666666, \"#ed7953\"], [0.7777777777777778, \"#fb9f3a\"], [0.8888888888888888, \"#fdca26\"], [1.0, \"#f0f921\"]], \"type\": \"heatmapgl\"}], \"histogram\": [{\"marker\": {\"colorbar\": {\"outlinewidth\": 0, \"ticks\": \"\"}}, \"type\": \"histogram\"}], \"histogram2d\": [{\"colorbar\": {\"outlinewidth\": 0, \"ticks\": \"\"}, \"colorscale\": [[0.0, \"#0d0887\"], [0.1111111111111111, \"#46039f\"], [0.2222222222222222, \"#7201a8\"], [0.3333333333333333, \"#9c179e\"], [0.4444444444444444, \"#bd3786\"], [0.5555555555555556, \"#d8576b\"], [0.6666666666666666, \"#ed7953\"], [0.7777777777777778, \"#fb9f3a\"], [0.8888888888888888, \"#fdca26\"], [1.0, \"#f0f921\"]], \"type\": \"histogram2d\"}], \"histogram2dcontour\": [{\"colorbar\": {\"outlinewidth\": 0, \"ticks\": \"\"}, \"colorscale\": [[0.0, \"#0d0887\"], [0.1111111111111111, \"#46039f\"], [0.2222222222222222, \"#7201a8\"], [0.3333333333333333, \"#9c179e\"], [0.4444444444444444, \"#bd3786\"], [0.5555555555555556, \"#d8576b\"], [0.6666666666666666, \"#ed7953\"], [0.7777777777777778, \"#fb9f3a\"], [0.8888888888888888, \"#fdca26\"], [1.0, \"#f0f921\"]], \"type\": \"histogram2dcontour\"}], \"mesh3d\": [{\"colorbar\": {\"outlinewidth\": 0, \"ticks\": \"\"}, \"type\": \"mesh3d\"}], \"parcoords\": [{\"line\": {\"colorbar\": {\"outlinewidth\": 0, \"ticks\": \"\"}}, \"type\": \"parcoords\"}], \"pie\": [{\"automargin\": true, \"type\": \"pie\"}], \"scatter\": [{\"marker\": {\"colorbar\": {\"outlinewidth\": 0, \"ticks\": \"\"}}, \"type\": \"scatter\"}], \"scatter3d\": [{\"line\": {\"colorbar\": {\"outlinewidth\": 0, \"ticks\": \"\"}}, \"marker\": {\"colorbar\": {\"outlinewidth\": 0, \"ticks\": \"\"}}, \"type\": \"scatter3d\"}], \"scattercarpet\": [{\"marker\": {\"colorbar\": {\"outlinewidth\": 0, \"ticks\": \"\"}}, \"type\": \"scattercarpet\"}], \"scattergeo\": [{\"marker\": {\"colorbar\": {\"outlinewidth\": 0, \"ticks\": \"\"}}, \"type\": \"scattergeo\"}], \"scattergl\": [{\"marker\": {\"colorbar\": {\"outlinewidth\": 0, \"ticks\": \"\"}}, \"type\": \"scattergl\"}], \"scattermapbox\": [{\"marker\": {\"colorbar\": {\"outlinewidth\": 0, \"ticks\": \"\"}}, \"type\": \"scattermapbox\"}], \"scatterpolar\": [{\"marker\": {\"colorbar\": {\"outlinewidth\": 0, \"ticks\": \"\"}}, \"type\": \"scatterpolar\"}], \"scatterpolargl\": [{\"marker\": {\"colorbar\": {\"outlinewidth\": 0, \"ticks\": \"\"}}, \"type\": \"scatterpolargl\"}], \"scatterternary\": [{\"marker\": {\"colorbar\": {\"outlinewidth\": 0, \"ticks\": \"\"}}, \"type\": \"scatterternary\"}], \"surface\": [{\"colorbar\": {\"outlinewidth\": 0, \"ticks\": \"\"}, \"colorscale\": [[0.0, \"#0d0887\"], [0.1111111111111111, \"#46039f\"], [0.2222222222222222, \"#7201a8\"], [0.3333333333333333, \"#9c179e\"], [0.4444444444444444, \"#bd3786\"], [0.5555555555555556, \"#d8576b\"], [0.6666666666666666, \"#ed7953\"], [0.7777777777777778, \"#fb9f3a\"], [0.8888888888888888, \"#fdca26\"], [1.0, \"#f0f921\"]], \"type\": \"surface\"}], \"table\": [{\"cells\": {\"fill\": {\"color\": \"#EBF0F8\"}, \"line\": {\"color\": \"white\"}}, \"header\": {\"fill\": {\"color\": \"#C8D4E3\"}, \"line\": {\"color\": \"white\"}}, \"type\": \"table\"}]}, \"layout\": {\"annotationdefaults\": {\"arrowcolor\": \"#2a3f5f\", \"arrowhead\": 0, \"arrowwidth\": 1}, \"autotypenumbers\": \"strict\", \"coloraxis\": {\"colorbar\": {\"outlinewidth\": 0, \"ticks\": \"\"}}, \"colorscale\": {\"diverging\": [[0, \"#8e0152\"], [0.1, \"#c51b7d\"], [0.2, \"#de77ae\"], [0.3, \"#f1b6da\"], [0.4, \"#fde0ef\"], [0.5, \"#f7f7f7\"], [0.6, \"#e6f5d0\"], [0.7, \"#b8e186\"], [0.8, \"#7fbc41\"], [0.9, \"#4d9221\"], [1, \"#276419\"]], \"sequential\": [[0.0, \"#0d0887\"], [0.1111111111111111, \"#46039f\"], [0.2222222222222222, \"#7201a8\"], [0.3333333333333333, \"#9c179e\"], [0.4444444444444444, \"#bd3786\"], [0.5555555555555556, \"#d8576b\"], [0.6666666666666666, \"#ed7953\"], [0.7777777777777778, \"#fb9f3a\"], [0.8888888888888888, \"#fdca26\"], [1.0, \"#f0f921\"]], \"sequentialminus\": [[0.0, \"#0d0887\"], [0.1111111111111111, \"#46039f\"], [0.2222222222222222, \"#7201a8\"], [0.3333333333333333, \"#9c179e\"], [0.4444444444444444, \"#bd3786\"], [0.5555555555555556, \"#d8576b\"], [0.6666666666666666, \"#ed7953\"], [0.7777777777777778, \"#fb9f3a\"], [0.8888888888888888, \"#fdca26\"], [1.0, \"#f0f921\"]]}, \"colorway\": [\"#636efa\", \"#EF553B\", \"#00cc96\", \"#ab63fa\", \"#FFA15A\", \"#19d3f3\", \"#FF6692\", \"#B6E880\", \"#FF97FF\", \"#FECB52\"], \"font\": {\"color\": \"#2a3f5f\"}, \"geo\": {\"bgcolor\": \"white\", \"lakecolor\": \"white\", \"landcolor\": \"#E5ECF6\", \"showlakes\": true, \"showland\": true, \"subunitcolor\": \"white\"}, \"hoverlabel\": {\"align\": \"left\"}, \"hovermode\": \"closest\", \"mapbox\": {\"style\": \"light\"}, \"paper_bgcolor\": \"white\", \"plot_bgcolor\": \"#E5ECF6\", \"polar\": {\"angularaxis\": {\"gridcolor\": \"white\", \"linecolor\": \"white\", \"ticks\": \"\"}, \"bgcolor\": \"#E5ECF6\", \"radialaxis\": {\"gridcolor\": \"white\", \"linecolor\": \"white\", \"ticks\": \"\"}}, \"scene\": {\"xaxis\": {\"backgroundcolor\": \"#E5ECF6\", \"gridcolor\": \"white\", \"gridwidth\": 2, \"linecolor\": \"white\", \"showbackground\": true, \"ticks\": \"\", \"zerolinecolor\": \"white\"}, \"yaxis\": {\"backgroundcolor\": \"#E5ECF6\", \"gridcolor\": \"white\", \"gridwidth\": 2, \"linecolor\": \"white\", \"showbackground\": true, \"ticks\": \"\", \"zerolinecolor\": \"white\"}, \"zaxis\": {\"backgroundcolor\": \"#E5ECF6\", \"gridcolor\": \"white\", \"gridwidth\": 2, \"linecolor\": \"white\", \"showbackground\": true, \"ticks\": \"\", \"zerolinecolor\": \"white\"}}, \"shapedefaults\": {\"line\": {\"color\": \"#2a3f5f\"}}, \"ternary\": {\"aaxis\": {\"gridcolor\": \"white\", \"linecolor\": \"white\", \"ticks\": \"\"}, \"baxis\": {\"gridcolor\": \"white\", \"linecolor\": \"white\", \"ticks\": \"\"}, \"bgcolor\": \"#E5ECF6\", \"caxis\": {\"gridcolor\": \"white\", \"linecolor\": \"white\", \"ticks\": \"\"}}, \"title\": {\"x\": 0.05}, \"xaxis\": {\"automargin\": true, \"gridcolor\": \"white\", \"linecolor\": \"white\", \"ticks\": \"\", \"title\": {\"standoff\": 15}, \"zerolinecolor\": \"white\", \"zerolinewidth\": 2}, \"yaxis\": {\"automargin\": true, \"gridcolor\": \"white\", \"linecolor\": \"white\", \"ticks\": \"\", \"title\": {\"standoff\": 15}, \"zerolinecolor\": \"white\", \"zerolinewidth\": 2}}}, \"xaxis\": {\"anchor\": \"y\", \"categoryarray\": [\"Newfoundland\", \"Prince Edward Island\", \"Nova Scotia\", \"New Brunswick\", \"Qu\\u00e9bec\", \"Ontario\", \"Manitoba\", \"Saskatchewan\", \"Alberta\", \"British Columbia\"], \"categoryorder\": \"array\", \"domain\": [0.0, 1.0], \"title\": {\"text\": \"Geography\"}}, \"yaxis\": {\"anchor\": \"x\", \"domain\": [0.0, 1.0], \"title\": {\"text\": \"value\"}}},                        {\"responsive\": true}                    ).then(function(){\n",
       "                            \n",
       "var gd = document.getElementById('881623c3-43d5-4545-b423-47da9e222ec3');\n",
       "var x = new MutationObserver(function (mutations, observer) {{\n",
       "        var display = window.getComputedStyle(gd).display;\n",
       "        if (!display || display === 'none') {{\n",
       "            console.log([gd, 'removed!']);\n",
       "            Plotly.purge(gd);\n",
       "            observer.disconnect();\n",
       "        }}\n",
       "}});\n",
       "\n",
       "// Listen for the removal of the full notebook cells\n",
       "var notebookContainer = gd.closest('#notebook-container');\n",
       "if (notebookContainer) {{\n",
       "    x.observe(notebookContainer, {childList: true});\n",
       "}}\n",
       "\n",
       "// Listen for the clearing of the current output cell\n",
       "var outputEl = gd.closest('.output');\n",
       "if (outputEl) {{\n",
       "    x.observe(outputEl, {childList: true});\n",
       "}}\n",
       "\n",
       "                        })                };                });            </script>        </div>"
      ]
     },
     "metadata": {},
     "output_type": "display_data"
    }
   ],
   "source": [
    "px.box(temp, x=\"Geography\", y='value', color='Geography', points='all')"
   ]
  },
  {
   "cell_type": "code",
   "execution_count": 59,
   "metadata": {
    "collapsed": true
   },
   "outputs": [
    {
     "data": {
      "application/vnd.plotly.v1+json": {
       "config": {
        "plotlyServerURL": "https://plot.ly"
       },
       "data": [
        {
         "alignmentgroup": "True",
         "box": {
          "visible": false
         },
         "hovertemplate": "Geography=%{x}<br>value=%{y}<extra></extra>",
         "legendgroup": "Newfoundland",
         "marker": {
          "color": "#636efa"
         },
         "name": "Newfoundland",
         "offsetgroup": "Newfoundland",
         "orientation": "v",
         "points": "all",
         "scalegroup": "True",
         "showlegend": true,
         "type": "violin",
         "x": [
          "Newfoundland",
          "Newfoundland",
          "Newfoundland",
          "Newfoundland",
          "Newfoundland",
          "Newfoundland",
          "Newfoundland",
          "Newfoundland",
          "Newfoundland",
          "Newfoundland",
          "Newfoundland",
          "Newfoundland",
          "Newfoundland",
          "Newfoundland",
          "Newfoundland",
          "Newfoundland",
          "Newfoundland",
          "Newfoundland",
          "Newfoundland",
          "Newfoundland",
          "Newfoundland",
          "Newfoundland",
          "Newfoundland",
          "Newfoundland",
          "Newfoundland",
          "Newfoundland",
          "Newfoundland",
          "Newfoundland",
          "Newfoundland",
          "Newfoundland",
          "Newfoundland",
          "Newfoundland",
          "Newfoundland"
         ],
         "x0": " ",
         "xaxis": "x",
         "y": [
          188732,
          185794,
          189098,
          181331,
          191818,
          193100,
          195479,
          192856,
          199560,
          200310,
          197406,
          193956,
          199758,
          202487,
          196798,
          196806,
          198265,
          197794,
          192057,
          191412,
          200378,
          193619,
          196431,
          192252,
          192106,
          188614,
          185276,
          190582,
          194536,
          193870,
          186268,
          187431,
          196100
         ],
         "y0": " ",
         "yaxis": "y"
        },
        {
         "alignmentgroup": "True",
         "box": {
          "visible": false
         },
         "hovertemplate": "Geography=%{x}<br>value=%{y}<extra></extra>",
         "legendgroup": "Prince Edward Island",
         "marker": {
          "color": "#EF553B"
         },
         "name": "Prince Edward Island",
         "offsetgroup": "Prince Edward Island",
         "orientation": "v",
         "points": "all",
         "scalegroup": "True",
         "showlegend": true,
         "type": "violin",
         "x": [
          "Prince Edward Island",
          "Prince Edward Island",
          "Prince Edward Island",
          "Prince Edward Island",
          "Prince Edward Island",
          "Prince Edward Island",
          "Prince Edward Island",
          "Prince Edward Island",
          "Prince Edward Island",
          "Prince Edward Island",
          "Prince Edward Island",
          "Prince Edward Island",
          "Prince Edward Island",
          "Prince Edward Island",
          "Prince Edward Island",
          "Prince Edward Island",
          "Prince Edward Island",
          "Prince Edward Island",
          "Prince Edward Island",
          "Prince Edward Island",
          "Prince Edward Island",
          "Prince Edward Island",
          "Prince Edward Island",
          "Prince Edward Island",
          "Prince Edward Island",
          "Prince Edward Island",
          "Prince Edward Island",
          "Prince Edward Island",
          "Prince Edward Island",
          "Prince Edward Island",
          "Prince Edward Island",
          "Prince Edward Island",
          "Prince Edward Island"
         ],
         "x0": " ",
         "xaxis": "x",
         "y": [
          140279,
          138415,
          137162,
          126763,
          139506,
          141453,
          141141,
          137427,
          143320,
          141232,
          146885,
          146818,
          150403,
          155926,
          157322,
          150732,
          169651,
          155799,
          175124,
          174901,
          176919,
          175523,
          179179,
          182114,
          181967,
          178140,
          181172,
          181358,
          190715,
          185934,
          193439,
          189309,
          204415
         ],
         "y0": " ",
         "yaxis": "y"
        },
        {
         "alignmentgroup": "True",
         "box": {
          "visible": false
         },
         "hovertemplate": "Geography=%{x}<br>value=%{y}<extra></extra>",
         "legendgroup": "Nova Scotia",
         "marker": {
          "color": "#00cc96"
         },
         "name": "Nova Scotia",
         "offsetgroup": "Nova Scotia",
         "orientation": "v",
         "points": "all",
         "scalegroup": "True",
         "showlegend": true,
         "type": "violin",
         "x": [
          "Nova Scotia",
          "Nova Scotia",
          "Nova Scotia",
          "Nova Scotia",
          "Nova Scotia",
          "Nova Scotia",
          "Nova Scotia",
          "Nova Scotia",
          "Nova Scotia",
          "Nova Scotia",
          "Nova Scotia",
          "Nova Scotia",
          "Nova Scotia",
          "Nova Scotia",
          "Nova Scotia",
          "Nova Scotia",
          "Nova Scotia",
          "Nova Scotia",
          "Nova Scotia",
          "Nova Scotia",
          "Nova Scotia",
          "Nova Scotia",
          "Nova Scotia",
          "Nova Scotia",
          "Nova Scotia",
          "Nova Scotia",
          "Nova Scotia",
          "Nova Scotia",
          "Nova Scotia",
          "Nova Scotia",
          "Nova Scotia",
          "Nova Scotia",
          "Nova Scotia"
         ],
         "x0": " ",
         "xaxis": "x",
         "y": [
          174688,
          160046,
          158806,
          159945,
          166426,
          160189,
          161383,
          157664,
          172827,
          163584,
          163607,
          165288,
          178091,
          172863,
          167596,
          168948,
          178784,
          173305,
          186024,
          182526,
          194802,
          188559,
          185858,
          179407,
          190443,
          179921,
          177863,
          180958,
          193586,
          190168,
          188267,
          192060,
          207877
         ],
         "y0": " ",
         "yaxis": "y"
        },
        {
         "alignmentgroup": "True",
         "box": {
          "visible": false
         },
         "hovertemplate": "Geography=%{x}<br>value=%{y}<extra></extra>",
         "legendgroup": "New Brunswick",
         "marker": {
          "color": "#ab63fa"
         },
         "name": "New Brunswick",
         "offsetgroup": "New Brunswick",
         "orientation": "v",
         "points": "all",
         "scalegroup": "True",
         "showlegend": true,
         "type": "violin",
         "x": [
          "New Brunswick",
          "New Brunswick",
          "New Brunswick",
          "New Brunswick",
          "New Brunswick",
          "New Brunswick",
          "New Brunswick",
          "New Brunswick",
          "New Brunswick",
          "New Brunswick",
          "New Brunswick",
          "New Brunswick",
          "New Brunswick",
          "New Brunswick",
          "New Brunswick",
          "New Brunswick",
          "New Brunswick",
          "New Brunswick",
          "New Brunswick",
          "New Brunswick",
          "New Brunswick",
          "New Brunswick",
          "New Brunswick",
          "New Brunswick",
          "New Brunswick",
          "New Brunswick",
          "New Brunswick",
          "New Brunswick",
          "New Brunswick",
          "New Brunswick",
          "New Brunswick",
          "New Brunswick",
          "New Brunswick"
         ],
         "x0": " ",
         "xaxis": "x",
         "y": [
          133390,
          126138,
          124645,
          122572,
          131542,
          128155,
          127766,
          124221,
          135592,
          132766,
          132025,
          128378,
          137565,
          137039,
          132325,
          133027,
          143533,
          140124,
          141196,
          135748,
          147934,
          142799,
          139711,
          139750,
          150353,
          143324,
          140850,
          137809,
          152606,
          147047,
          146701,
          149590,
          160349
         ],
         "y0": " ",
         "yaxis": "y"
        },
        {
         "alignmentgroup": "True",
         "box": {
          "visible": false
         },
         "hovertemplate": "Geography=%{x}<br>value=%{y}<extra></extra>",
         "legendgroup": "Québec",
         "marker": {
          "color": "#FFA15A"
         },
         "name": "Québec",
         "offsetgroup": "Québec",
         "orientation": "v",
         "points": "all",
         "scalegroup": "True",
         "showlegend": true,
         "type": "violin",
         "x": [
          "Québec",
          "Québec",
          "Québec",
          "Québec",
          "Québec",
          "Québec",
          "Québec",
          "Québec",
          "Québec",
          "Québec",
          "Québec",
          "Québec",
          "Québec",
          "Québec",
          "Québec",
          "Québec",
          "Québec",
          "Québec",
          "Québec",
          "Québec",
          "Québec",
          "Québec",
          "Québec",
          "Québec",
          "Québec",
          "Québec",
          "Québec",
          "Québec",
          "Québec",
          "Québec",
          "Québec",
          "Québec",
          "Québec"
         ],
         "x0": " ",
         "xaxis": "x",
         "y": [
          159661,
          153413,
          153909,
          155016,
          160147,
          155512,
          156424,
          160165,
          166426,
          160073,
          161563,
          164764,
          170403,
          164235,
          167154,
          169326,
          176522,
          170309,
          171992,
          171716,
          177306,
          173182,
          175297,
          183507,
          187727,
          173911,
          175658,
          179523,
          187136,
          183501,
          189390,
          195538,
          203861
         ],
         "y0": " ",
         "yaxis": "y"
        },
        {
         "alignmentgroup": "True",
         "box": {
          "visible": false
         },
         "hovertemplate": "Geography=%{x}<br>value=%{y}<extra></extra>",
         "legendgroup": "Ontario",
         "marker": {
          "color": "#19d3f3"
         },
         "name": "Ontario",
         "offsetgroup": "Ontario",
         "orientation": "v",
         "points": "all",
         "scalegroup": "True",
         "showlegend": true,
         "type": "violin",
         "x": [
          "Ontario",
          "Ontario",
          "Ontario",
          "Ontario",
          "Ontario",
          "Ontario",
          "Ontario",
          "Ontario",
          "Ontario",
          "Ontario",
          "Ontario",
          "Ontario",
          "Ontario",
          "Ontario",
          "Ontario",
          "Ontario",
          "Ontario",
          "Ontario",
          "Ontario",
          "Ontario",
          "Ontario",
          "Ontario",
          "Ontario",
          "Ontario",
          "Ontario",
          "Ontario",
          "Ontario",
          "Ontario",
          "Ontario",
          "Ontario",
          "Ontario",
          "Ontario",
          "Ontario"
         ],
         "x0": " ",
         "xaxis": "x",
         "y": [
          247455,
          235667,
          233122,
          230770,
          249054,
          244060,
          244077,
          240828,
          262838,
          257244,
          254854,
          259093,
          281259,
          277802,
          278626,
          285024,
          307369,
          310236,
          319009,
          326645,
          338561,
          323821,
          322179,
          315576,
          327367,
          321579,
          321074,
          324080,
          343117,
          343768,
          348272,
          363432,
          373371
         ],
         "y0": " ",
         "yaxis": "y"
        },
        {
         "alignmentgroup": "True",
         "box": {
          "visible": false
         },
         "hovertemplate": "Geography=%{x}<br>value=%{y}<extra></extra>",
         "legendgroup": "Manitoba",
         "marker": {
          "color": "#FF6692"
         },
         "name": "Manitoba",
         "offsetgroup": "Manitoba",
         "orientation": "v",
         "points": "all",
         "scalegroup": "True",
         "showlegend": true,
         "type": "violin",
         "x": [
          "Manitoba",
          "Manitoba",
          "Manitoba",
          "Manitoba",
          "Manitoba",
          "Manitoba",
          "Manitoba",
          "Manitoba",
          "Manitoba",
          "Manitoba",
          "Manitoba",
          "Manitoba",
          "Manitoba",
          "Manitoba",
          "Manitoba",
          "Manitoba",
          "Manitoba",
          "Manitoba",
          "Manitoba",
          "Manitoba",
          "Manitoba",
          "Manitoba",
          "Manitoba",
          "Manitoba",
          "Manitoba",
          "Manitoba",
          "Manitoba",
          "Manitoba",
          "Manitoba",
          "Manitoba",
          "Manitoba",
          "Manitoba",
          "Manitoba"
         ],
         "x0": " ",
         "xaxis": "x",
         "y": [
          188298,
          181097,
          177560,
          177517,
          192732,
          189570,
          188107,
          184554,
          200051,
          197527,
          191444,
          190383,
          206275,
          201640,
          193970,
          196385,
          209051,
          206958,
          203999,
          205085,
          216750,
          217136,
          207988,
          207436,
          220454,
          214060,
          206692,
          214873,
          222637,
          218918,
          212508,
          217416,
          232725
         ],
         "y0": " ",
         "yaxis": "y"
        },
        {
         "alignmentgroup": "True",
         "box": {
          "visible": false
         },
         "hovertemplate": "Geography=%{x}<br>value=%{y}<extra></extra>",
         "legendgroup": "Saskatchewan",
         "marker": {
          "color": "#B6E880"
         },
         "name": "Saskatchewan",
         "offsetgroup": "Saskatchewan",
         "orientation": "v",
         "points": "all",
         "scalegroup": "True",
         "showlegend": true,
         "type": "violin",
         "x": [
          "Saskatchewan",
          "Saskatchewan",
          "Saskatchewan",
          "Saskatchewan",
          "Saskatchewan",
          "Saskatchewan",
          "Saskatchewan",
          "Saskatchewan",
          "Saskatchewan",
          "Saskatchewan",
          "Saskatchewan",
          "Saskatchewan",
          "Saskatchewan",
          "Saskatchewan",
          "Saskatchewan",
          "Saskatchewan",
          "Saskatchewan",
          "Saskatchewan",
          "Saskatchewan",
          "Saskatchewan",
          "Saskatchewan",
          "Saskatchewan",
          "Saskatchewan",
          "Saskatchewan",
          "Saskatchewan",
          "Saskatchewan",
          "Saskatchewan",
          "Saskatchewan",
          "Saskatchewan",
          "Saskatchewan",
          "Saskatchewan",
          "Saskatchewan",
          "Saskatchewan"
         ],
         "x0": " ",
         "xaxis": "x",
         "y": [
          217945,
          213126,
          206354,
          211979,
          224868,
          225414,
          226559,
          218781,
          231768,
          233854,
          228569,
          226957,
          234840,
          231611,
          225641,
          230729,
          236380,
          232174,
          234786,
          233545,
          238533,
          234340,
          230702,
          229851,
          233255,
          223628,
          217157,
          216369,
          228721,
          224315,
          216188,
          225641,
          237386
         ],
         "y0": " ",
         "yaxis": "y"
        },
        {
         "alignmentgroup": "True",
         "box": {
          "visible": false
         },
         "hovertemplate": "Geography=%{x}<br>value=%{y}<extra></extra>",
         "legendgroup": "Alberta",
         "marker": {
          "color": "#FF97FF"
         },
         "name": "Alberta",
         "offsetgroup": "Alberta",
         "orientation": "v",
         "points": "all",
         "scalegroup": "True",
         "showlegend": true,
         "type": "violin",
         "x": [
          "Alberta",
          "Alberta",
          "Alberta",
          "Alberta",
          "Alberta",
          "Alberta",
          "Alberta",
          "Alberta",
          "Alberta",
          "Alberta",
          "Alberta",
          "Alberta",
          "Alberta",
          "Alberta",
          "Alberta",
          "Alberta",
          "Alberta",
          "Alberta",
          "Alberta",
          "Alberta",
          "Alberta",
          "Alberta",
          "Alberta",
          "Alberta",
          "Alberta",
          "Alberta",
          "Alberta",
          "Alberta",
          "Alberta",
          "Alberta",
          "Alberta",
          "Alberta",
          "Alberta"
         ],
         "x0": " ",
         "xaxis": "x",
         "y": [
          282371,
          277555,
          277158,
          278516,
          289263,
          284928,
          291926,
          290722,
          304374,
          305558,
          303976,
          299837,
          309953,
          303244,
          296111,
          298884,
          304683,
          302095,
          301254,
          300115,
          307837,
          307662,
          302814,
          302116,
          305101,
          295839,
          291721,
          293612,
          297609,
          297552,
          291747,
          296269,
          305600
         ],
         "y0": " ",
         "yaxis": "y"
        },
        {
         "alignmentgroup": "True",
         "box": {
          "visible": false
         },
         "hovertemplate": "Geography=%{x}<br>value=%{y}<extra></extra>",
         "legendgroup": "British Columbia",
         "marker": {
          "color": "#FECB52"
         },
         "name": "British Columbia",
         "offsetgroup": "British Columbia",
         "orientation": "v",
         "points": "all",
         "scalegroup": "True",
         "showlegend": true,
         "type": "violin",
         "x": [
          "British Columbia",
          "British Columbia",
          "British Columbia",
          "British Columbia",
          "British Columbia",
          "British Columbia",
          "British Columbia",
          "British Columbia",
          "British Columbia",
          "British Columbia",
          "British Columbia",
          "British Columbia",
          "British Columbia",
          "British Columbia",
          "British Columbia",
          "British Columbia",
          "British Columbia",
          "British Columbia",
          "British Columbia",
          "British Columbia",
          "British Columbia",
          "British Columbia",
          "British Columbia",
          "British Columbia",
          "British Columbia",
          "British Columbia",
          "British Columbia",
          "British Columbia",
          "British Columbia",
          "British Columbia",
          "British Columbia",
          "British Columbia",
          "British Columbia"
         ],
         "x0": " ",
         "xaxis": "x",
         "y": [
          305427,
          289864,
          286652,
          290928,
          303663,
          305256,
          309374,
          305138,
          321625,
          323373,
          325035,
          328540,
          350672,
          357016,
          368782,
          385910,
          395297,
          366703,
          358655,
          369174,
          389430,
          381223,
          384794,
          371860,
          378187,
          364330,
          363239,
          363924,
          376343,
          386494,
          393711,
          397853,
          417004
         ],
         "y0": " ",
         "yaxis": "y"
        }
       ],
       "layout": {
        "legend": {
         "title": {
          "text": "Geography"
         },
         "tracegroupgap": 0
        },
        "margin": {
         "t": 60
        },
        "template": {
         "data": {
          "bar": [
           {
            "error_x": {
             "color": "#2a3f5f"
            },
            "error_y": {
             "color": "#2a3f5f"
            },
            "marker": {
             "line": {
              "color": "#E5ECF6",
              "width": 0.5
             }
            },
            "type": "bar"
           }
          ],
          "barpolar": [
           {
            "marker": {
             "line": {
              "color": "#E5ECF6",
              "width": 0.5
             }
            },
            "type": "barpolar"
           }
          ],
          "carpet": [
           {
            "aaxis": {
             "endlinecolor": "#2a3f5f",
             "gridcolor": "white",
             "linecolor": "white",
             "minorgridcolor": "white",
             "startlinecolor": "#2a3f5f"
            },
            "baxis": {
             "endlinecolor": "#2a3f5f",
             "gridcolor": "white",
             "linecolor": "white",
             "minorgridcolor": "white",
             "startlinecolor": "#2a3f5f"
            },
            "type": "carpet"
           }
          ],
          "choropleth": [
           {
            "colorbar": {
             "outlinewidth": 0,
             "ticks": ""
            },
            "type": "choropleth"
           }
          ],
          "contour": [
           {
            "colorbar": {
             "outlinewidth": 0,
             "ticks": ""
            },
            "colorscale": [
             [
              0,
              "#0d0887"
             ],
             [
              0.1111111111111111,
              "#46039f"
             ],
             [
              0.2222222222222222,
              "#7201a8"
             ],
             [
              0.3333333333333333,
              "#9c179e"
             ],
             [
              0.4444444444444444,
              "#bd3786"
             ],
             [
              0.5555555555555556,
              "#d8576b"
             ],
             [
              0.6666666666666666,
              "#ed7953"
             ],
             [
              0.7777777777777778,
              "#fb9f3a"
             ],
             [
              0.8888888888888888,
              "#fdca26"
             ],
             [
              1,
              "#f0f921"
             ]
            ],
            "type": "contour"
           }
          ],
          "contourcarpet": [
           {
            "colorbar": {
             "outlinewidth": 0,
             "ticks": ""
            },
            "type": "contourcarpet"
           }
          ],
          "heatmap": [
           {
            "colorbar": {
             "outlinewidth": 0,
             "ticks": ""
            },
            "colorscale": [
             [
              0,
              "#0d0887"
             ],
             [
              0.1111111111111111,
              "#46039f"
             ],
             [
              0.2222222222222222,
              "#7201a8"
             ],
             [
              0.3333333333333333,
              "#9c179e"
             ],
             [
              0.4444444444444444,
              "#bd3786"
             ],
             [
              0.5555555555555556,
              "#d8576b"
             ],
             [
              0.6666666666666666,
              "#ed7953"
             ],
             [
              0.7777777777777778,
              "#fb9f3a"
             ],
             [
              0.8888888888888888,
              "#fdca26"
             ],
             [
              1,
              "#f0f921"
             ]
            ],
            "type": "heatmap"
           }
          ],
          "heatmapgl": [
           {
            "colorbar": {
             "outlinewidth": 0,
             "ticks": ""
            },
            "colorscale": [
             [
              0,
              "#0d0887"
             ],
             [
              0.1111111111111111,
              "#46039f"
             ],
             [
              0.2222222222222222,
              "#7201a8"
             ],
             [
              0.3333333333333333,
              "#9c179e"
             ],
             [
              0.4444444444444444,
              "#bd3786"
             ],
             [
              0.5555555555555556,
              "#d8576b"
             ],
             [
              0.6666666666666666,
              "#ed7953"
             ],
             [
              0.7777777777777778,
              "#fb9f3a"
             ],
             [
              0.8888888888888888,
              "#fdca26"
             ],
             [
              1,
              "#f0f921"
             ]
            ],
            "type": "heatmapgl"
           }
          ],
          "histogram": [
           {
            "marker": {
             "colorbar": {
              "outlinewidth": 0,
              "ticks": ""
             }
            },
            "type": "histogram"
           }
          ],
          "histogram2d": [
           {
            "colorbar": {
             "outlinewidth": 0,
             "ticks": ""
            },
            "colorscale": [
             [
              0,
              "#0d0887"
             ],
             [
              0.1111111111111111,
              "#46039f"
             ],
             [
              0.2222222222222222,
              "#7201a8"
             ],
             [
              0.3333333333333333,
              "#9c179e"
             ],
             [
              0.4444444444444444,
              "#bd3786"
             ],
             [
              0.5555555555555556,
              "#d8576b"
             ],
             [
              0.6666666666666666,
              "#ed7953"
             ],
             [
              0.7777777777777778,
              "#fb9f3a"
             ],
             [
              0.8888888888888888,
              "#fdca26"
             ],
             [
              1,
              "#f0f921"
             ]
            ],
            "type": "histogram2d"
           }
          ],
          "histogram2dcontour": [
           {
            "colorbar": {
             "outlinewidth": 0,
             "ticks": ""
            },
            "colorscale": [
             [
              0,
              "#0d0887"
             ],
             [
              0.1111111111111111,
              "#46039f"
             ],
             [
              0.2222222222222222,
              "#7201a8"
             ],
             [
              0.3333333333333333,
              "#9c179e"
             ],
             [
              0.4444444444444444,
              "#bd3786"
             ],
             [
              0.5555555555555556,
              "#d8576b"
             ],
             [
              0.6666666666666666,
              "#ed7953"
             ],
             [
              0.7777777777777778,
              "#fb9f3a"
             ],
             [
              0.8888888888888888,
              "#fdca26"
             ],
             [
              1,
              "#f0f921"
             ]
            ],
            "type": "histogram2dcontour"
           }
          ],
          "mesh3d": [
           {
            "colorbar": {
             "outlinewidth": 0,
             "ticks": ""
            },
            "type": "mesh3d"
           }
          ],
          "parcoords": [
           {
            "line": {
             "colorbar": {
              "outlinewidth": 0,
              "ticks": ""
             }
            },
            "type": "parcoords"
           }
          ],
          "pie": [
           {
            "automargin": true,
            "type": "pie"
           }
          ],
          "scatter": [
           {
            "marker": {
             "colorbar": {
              "outlinewidth": 0,
              "ticks": ""
             }
            },
            "type": "scatter"
           }
          ],
          "scatter3d": [
           {
            "line": {
             "colorbar": {
              "outlinewidth": 0,
              "ticks": ""
             }
            },
            "marker": {
             "colorbar": {
              "outlinewidth": 0,
              "ticks": ""
             }
            },
            "type": "scatter3d"
           }
          ],
          "scattercarpet": [
           {
            "marker": {
             "colorbar": {
              "outlinewidth": 0,
              "ticks": ""
             }
            },
            "type": "scattercarpet"
           }
          ],
          "scattergeo": [
           {
            "marker": {
             "colorbar": {
              "outlinewidth": 0,
              "ticks": ""
             }
            },
            "type": "scattergeo"
           }
          ],
          "scattergl": [
           {
            "marker": {
             "colorbar": {
              "outlinewidth": 0,
              "ticks": ""
             }
            },
            "type": "scattergl"
           }
          ],
          "scattermapbox": [
           {
            "marker": {
             "colorbar": {
              "outlinewidth": 0,
              "ticks": ""
             }
            },
            "type": "scattermapbox"
           }
          ],
          "scatterpolar": [
           {
            "marker": {
             "colorbar": {
              "outlinewidth": 0,
              "ticks": ""
             }
            },
            "type": "scatterpolar"
           }
          ],
          "scatterpolargl": [
           {
            "marker": {
             "colorbar": {
              "outlinewidth": 0,
              "ticks": ""
             }
            },
            "type": "scatterpolargl"
           }
          ],
          "scatterternary": [
           {
            "marker": {
             "colorbar": {
              "outlinewidth": 0,
              "ticks": ""
             }
            },
            "type": "scatterternary"
           }
          ],
          "surface": [
           {
            "colorbar": {
             "outlinewidth": 0,
             "ticks": ""
            },
            "colorscale": [
             [
              0,
              "#0d0887"
             ],
             [
              0.1111111111111111,
              "#46039f"
             ],
             [
              0.2222222222222222,
              "#7201a8"
             ],
             [
              0.3333333333333333,
              "#9c179e"
             ],
             [
              0.4444444444444444,
              "#bd3786"
             ],
             [
              0.5555555555555556,
              "#d8576b"
             ],
             [
              0.6666666666666666,
              "#ed7953"
             ],
             [
              0.7777777777777778,
              "#fb9f3a"
             ],
             [
              0.8888888888888888,
              "#fdca26"
             ],
             [
              1,
              "#f0f921"
             ]
            ],
            "type": "surface"
           }
          ],
          "table": [
           {
            "cells": {
             "fill": {
              "color": "#EBF0F8"
             },
             "line": {
              "color": "white"
             }
            },
            "header": {
             "fill": {
              "color": "#C8D4E3"
             },
             "line": {
              "color": "white"
             }
            },
            "type": "table"
           }
          ]
         },
         "layout": {
          "annotationdefaults": {
           "arrowcolor": "#2a3f5f",
           "arrowhead": 0,
           "arrowwidth": 1
          },
          "autotypenumbers": "strict",
          "coloraxis": {
           "colorbar": {
            "outlinewidth": 0,
            "ticks": ""
           }
          },
          "colorscale": {
           "diverging": [
            [
             0,
             "#8e0152"
            ],
            [
             0.1,
             "#c51b7d"
            ],
            [
             0.2,
             "#de77ae"
            ],
            [
             0.3,
             "#f1b6da"
            ],
            [
             0.4,
             "#fde0ef"
            ],
            [
             0.5,
             "#f7f7f7"
            ],
            [
             0.6,
             "#e6f5d0"
            ],
            [
             0.7,
             "#b8e186"
            ],
            [
             0.8,
             "#7fbc41"
            ],
            [
             0.9,
             "#4d9221"
            ],
            [
             1,
             "#276419"
            ]
           ],
           "sequential": [
            [
             0,
             "#0d0887"
            ],
            [
             0.1111111111111111,
             "#46039f"
            ],
            [
             0.2222222222222222,
             "#7201a8"
            ],
            [
             0.3333333333333333,
             "#9c179e"
            ],
            [
             0.4444444444444444,
             "#bd3786"
            ],
            [
             0.5555555555555556,
             "#d8576b"
            ],
            [
             0.6666666666666666,
             "#ed7953"
            ],
            [
             0.7777777777777778,
             "#fb9f3a"
            ],
            [
             0.8888888888888888,
             "#fdca26"
            ],
            [
             1,
             "#f0f921"
            ]
           ],
           "sequentialminus": [
            [
             0,
             "#0d0887"
            ],
            [
             0.1111111111111111,
             "#46039f"
            ],
            [
             0.2222222222222222,
             "#7201a8"
            ],
            [
             0.3333333333333333,
             "#9c179e"
            ],
            [
             0.4444444444444444,
             "#bd3786"
            ],
            [
             0.5555555555555556,
             "#d8576b"
            ],
            [
             0.6666666666666666,
             "#ed7953"
            ],
            [
             0.7777777777777778,
             "#fb9f3a"
            ],
            [
             0.8888888888888888,
             "#fdca26"
            ],
            [
             1,
             "#f0f921"
            ]
           ]
          },
          "colorway": [
           "#636efa",
           "#EF553B",
           "#00cc96",
           "#ab63fa",
           "#FFA15A",
           "#19d3f3",
           "#FF6692",
           "#B6E880",
           "#FF97FF",
           "#FECB52"
          ],
          "font": {
           "color": "#2a3f5f"
          },
          "geo": {
           "bgcolor": "white",
           "lakecolor": "white",
           "landcolor": "#E5ECF6",
           "showlakes": true,
           "showland": true,
           "subunitcolor": "white"
          },
          "hoverlabel": {
           "align": "left"
          },
          "hovermode": "closest",
          "mapbox": {
           "style": "light"
          },
          "paper_bgcolor": "white",
          "plot_bgcolor": "#E5ECF6",
          "polar": {
           "angularaxis": {
            "gridcolor": "white",
            "linecolor": "white",
            "ticks": ""
           },
           "bgcolor": "#E5ECF6",
           "radialaxis": {
            "gridcolor": "white",
            "linecolor": "white",
            "ticks": ""
           }
          },
          "scene": {
           "xaxis": {
            "backgroundcolor": "#E5ECF6",
            "gridcolor": "white",
            "gridwidth": 2,
            "linecolor": "white",
            "showbackground": true,
            "ticks": "",
            "zerolinecolor": "white"
           },
           "yaxis": {
            "backgroundcolor": "#E5ECF6",
            "gridcolor": "white",
            "gridwidth": 2,
            "linecolor": "white",
            "showbackground": true,
            "ticks": "",
            "zerolinecolor": "white"
           },
           "zaxis": {
            "backgroundcolor": "#E5ECF6",
            "gridcolor": "white",
            "gridwidth": 2,
            "linecolor": "white",
            "showbackground": true,
            "ticks": "",
            "zerolinecolor": "white"
           }
          },
          "shapedefaults": {
           "line": {
            "color": "#2a3f5f"
           }
          },
          "ternary": {
           "aaxis": {
            "gridcolor": "white",
            "linecolor": "white",
            "ticks": ""
           },
           "baxis": {
            "gridcolor": "white",
            "linecolor": "white",
            "ticks": ""
           },
           "bgcolor": "#E5ECF6",
           "caxis": {
            "gridcolor": "white",
            "linecolor": "white",
            "ticks": ""
           }
          },
          "title": {
           "x": 0.05
          },
          "xaxis": {
           "automargin": true,
           "gridcolor": "white",
           "linecolor": "white",
           "ticks": "",
           "title": {
            "standoff": 15
           },
           "zerolinecolor": "white",
           "zerolinewidth": 2
          },
          "yaxis": {
           "automargin": true,
           "gridcolor": "white",
           "linecolor": "white",
           "ticks": "",
           "title": {
            "standoff": 15
           },
           "zerolinecolor": "white",
           "zerolinewidth": 2
          }
         }
        },
        "violinmode": "overlay",
        "xaxis": {
         "anchor": "y",
         "categoryarray": [
          "Newfoundland",
          "Prince Edward Island",
          "Nova Scotia",
          "New Brunswick",
          "Québec",
          "Ontario",
          "Manitoba",
          "Saskatchewan",
          "Alberta",
          "British Columbia"
         ],
         "categoryorder": "array",
         "domain": [
          0,
          1
         ],
         "title": {
          "text": "Geography"
         }
        },
        "yaxis": {
         "anchor": "x",
         "domain": [
          0,
          1
         ],
         "title": {
          "text": "value"
         }
        }
       }
      },
      "text/html": [
       "<div>                            <div id=\"ff0e43dd-c211-4f6a-ae54-2f3cd5326cff\" class=\"plotly-graph-div\" style=\"height:525px; width:100%;\"></div>            <script type=\"text/javascript\">                require([\"plotly\"], function(Plotly) {                    window.PLOTLYENV=window.PLOTLYENV || {};                                    if (document.getElementById(\"ff0e43dd-c211-4f6a-ae54-2f3cd5326cff\")) {                    Plotly.newPlot(                        \"ff0e43dd-c211-4f6a-ae54-2f3cd5326cff\",                        [{\"alignmentgroup\": \"True\", \"box\": {\"visible\": false}, \"hovertemplate\": \"Geography=%{x}<br>value=%{y}<extra></extra>\", \"legendgroup\": \"Newfoundland\", \"marker\": {\"color\": \"#636efa\"}, \"name\": \"Newfoundland\", \"offsetgroup\": \"Newfoundland\", \"orientation\": \"v\", \"points\": \"all\", \"scalegroup\": \"True\", \"showlegend\": true, \"type\": \"violin\", \"x\": [\"Newfoundland\", \"Newfoundland\", \"Newfoundland\", \"Newfoundland\", \"Newfoundland\", \"Newfoundland\", \"Newfoundland\", \"Newfoundland\", \"Newfoundland\", \"Newfoundland\", \"Newfoundland\", \"Newfoundland\", \"Newfoundland\", \"Newfoundland\", \"Newfoundland\", \"Newfoundland\", \"Newfoundland\", \"Newfoundland\", \"Newfoundland\", \"Newfoundland\", \"Newfoundland\", \"Newfoundland\", \"Newfoundland\", \"Newfoundland\", \"Newfoundland\", \"Newfoundland\", \"Newfoundland\", \"Newfoundland\", \"Newfoundland\", \"Newfoundland\", \"Newfoundland\", \"Newfoundland\", \"Newfoundland\"], \"x0\": \" \", \"xaxis\": \"x\", \"y\": [188732, 185794, 189098, 181331, 191818, 193100, 195479, 192856, 199560, 200310, 197406, 193956, 199758, 202487, 196798, 196806, 198265, 197794, 192057, 191412, 200378, 193619, 196431, 192252, 192106, 188614, 185276, 190582, 194536, 193870, 186268, 187431, 196100], \"y0\": \" \", \"yaxis\": \"y\"}, {\"alignmentgroup\": \"True\", \"box\": {\"visible\": false}, \"hovertemplate\": \"Geography=%{x}<br>value=%{y}<extra></extra>\", \"legendgroup\": \"Prince Edward Island\", \"marker\": {\"color\": \"#EF553B\"}, \"name\": \"Prince Edward Island\", \"offsetgroup\": \"Prince Edward Island\", \"orientation\": \"v\", \"points\": \"all\", \"scalegroup\": \"True\", \"showlegend\": true, \"type\": \"violin\", \"x\": [\"Prince Edward Island\", \"Prince Edward Island\", \"Prince Edward Island\", \"Prince Edward Island\", \"Prince Edward Island\", \"Prince Edward Island\", \"Prince Edward Island\", \"Prince Edward Island\", \"Prince Edward Island\", \"Prince Edward Island\", \"Prince Edward Island\", \"Prince Edward Island\", \"Prince Edward Island\", \"Prince Edward Island\", \"Prince Edward Island\", \"Prince Edward Island\", \"Prince Edward Island\", \"Prince Edward Island\", \"Prince Edward Island\", \"Prince Edward Island\", \"Prince Edward Island\", \"Prince Edward Island\", \"Prince Edward Island\", \"Prince Edward Island\", \"Prince Edward Island\", \"Prince Edward Island\", \"Prince Edward Island\", \"Prince Edward Island\", \"Prince Edward Island\", \"Prince Edward Island\", \"Prince Edward Island\", \"Prince Edward Island\", \"Prince Edward Island\"], \"x0\": \" \", \"xaxis\": \"x\", \"y\": [140279, 138415, 137162, 126763, 139506, 141453, 141141, 137427, 143320, 141232, 146885, 146818, 150403, 155926, 157322, 150732, 169651, 155799, 175124, 174901, 176919, 175523, 179179, 182114, 181967, 178140, 181172, 181358, 190715, 185934, 193439, 189309, 204415], \"y0\": \" \", \"yaxis\": \"y\"}, {\"alignmentgroup\": \"True\", \"box\": {\"visible\": false}, \"hovertemplate\": \"Geography=%{x}<br>value=%{y}<extra></extra>\", \"legendgroup\": \"Nova Scotia\", \"marker\": {\"color\": \"#00cc96\"}, \"name\": \"Nova Scotia\", \"offsetgroup\": \"Nova Scotia\", \"orientation\": \"v\", \"points\": \"all\", \"scalegroup\": \"True\", \"showlegend\": true, \"type\": \"violin\", \"x\": [\"Nova Scotia\", \"Nova Scotia\", \"Nova Scotia\", \"Nova Scotia\", \"Nova Scotia\", \"Nova Scotia\", \"Nova Scotia\", \"Nova Scotia\", \"Nova Scotia\", \"Nova Scotia\", \"Nova Scotia\", \"Nova Scotia\", \"Nova Scotia\", \"Nova Scotia\", \"Nova Scotia\", \"Nova Scotia\", \"Nova Scotia\", \"Nova Scotia\", \"Nova Scotia\", \"Nova Scotia\", \"Nova Scotia\", \"Nova Scotia\", \"Nova Scotia\", \"Nova Scotia\", \"Nova Scotia\", \"Nova Scotia\", \"Nova Scotia\", \"Nova Scotia\", \"Nova Scotia\", \"Nova Scotia\", \"Nova Scotia\", \"Nova Scotia\", \"Nova Scotia\"], \"x0\": \" \", \"xaxis\": \"x\", \"y\": [174688, 160046, 158806, 159945, 166426, 160189, 161383, 157664, 172827, 163584, 163607, 165288, 178091, 172863, 167596, 168948, 178784, 173305, 186024, 182526, 194802, 188559, 185858, 179407, 190443, 179921, 177863, 180958, 193586, 190168, 188267, 192060, 207877], \"y0\": \" \", \"yaxis\": \"y\"}, {\"alignmentgroup\": \"True\", \"box\": {\"visible\": false}, \"hovertemplate\": \"Geography=%{x}<br>value=%{y}<extra></extra>\", \"legendgroup\": \"New Brunswick\", \"marker\": {\"color\": \"#ab63fa\"}, \"name\": \"New Brunswick\", \"offsetgroup\": \"New Brunswick\", \"orientation\": \"v\", \"points\": \"all\", \"scalegroup\": \"True\", \"showlegend\": true, \"type\": \"violin\", \"x\": [\"New Brunswick\", \"New Brunswick\", \"New Brunswick\", \"New Brunswick\", \"New Brunswick\", \"New Brunswick\", \"New Brunswick\", \"New Brunswick\", \"New Brunswick\", \"New Brunswick\", \"New Brunswick\", \"New Brunswick\", \"New Brunswick\", \"New Brunswick\", \"New Brunswick\", \"New Brunswick\", \"New Brunswick\", \"New Brunswick\", \"New Brunswick\", \"New Brunswick\", \"New Brunswick\", \"New Brunswick\", \"New Brunswick\", \"New Brunswick\", \"New Brunswick\", \"New Brunswick\", \"New Brunswick\", \"New Brunswick\", \"New Brunswick\", \"New Brunswick\", \"New Brunswick\", \"New Brunswick\", \"New Brunswick\"], \"x0\": \" \", \"xaxis\": \"x\", \"y\": [133390, 126138, 124645, 122572, 131542, 128155, 127766, 124221, 135592, 132766, 132025, 128378, 137565, 137039, 132325, 133027, 143533, 140124, 141196, 135748, 147934, 142799, 139711, 139750, 150353, 143324, 140850, 137809, 152606, 147047, 146701, 149590, 160349], \"y0\": \" \", \"yaxis\": \"y\"}, {\"alignmentgroup\": \"True\", \"box\": {\"visible\": false}, \"hovertemplate\": \"Geography=%{x}<br>value=%{y}<extra></extra>\", \"legendgroup\": \"Qu\\u00e9bec\", \"marker\": {\"color\": \"#FFA15A\"}, \"name\": \"Qu\\u00e9bec\", \"offsetgroup\": \"Qu\\u00e9bec\", \"orientation\": \"v\", \"points\": \"all\", \"scalegroup\": \"True\", \"showlegend\": true, \"type\": \"violin\", \"x\": [\"Qu\\u00e9bec\", \"Qu\\u00e9bec\", \"Qu\\u00e9bec\", \"Qu\\u00e9bec\", \"Qu\\u00e9bec\", \"Qu\\u00e9bec\", \"Qu\\u00e9bec\", \"Qu\\u00e9bec\", \"Qu\\u00e9bec\", \"Qu\\u00e9bec\", \"Qu\\u00e9bec\", \"Qu\\u00e9bec\", \"Qu\\u00e9bec\", \"Qu\\u00e9bec\", \"Qu\\u00e9bec\", \"Qu\\u00e9bec\", \"Qu\\u00e9bec\", \"Qu\\u00e9bec\", \"Qu\\u00e9bec\", \"Qu\\u00e9bec\", \"Qu\\u00e9bec\", \"Qu\\u00e9bec\", \"Qu\\u00e9bec\", \"Qu\\u00e9bec\", \"Qu\\u00e9bec\", \"Qu\\u00e9bec\", \"Qu\\u00e9bec\", \"Qu\\u00e9bec\", \"Qu\\u00e9bec\", \"Qu\\u00e9bec\", \"Qu\\u00e9bec\", \"Qu\\u00e9bec\", \"Qu\\u00e9bec\"], \"x0\": \" \", \"xaxis\": \"x\", \"y\": [159661, 153413, 153909, 155016, 160147, 155512, 156424, 160165, 166426, 160073, 161563, 164764, 170403, 164235, 167154, 169326, 176522, 170309, 171992, 171716, 177306, 173182, 175297, 183507, 187727, 173911, 175658, 179523, 187136, 183501, 189390, 195538, 203861], \"y0\": \" \", \"yaxis\": \"y\"}, {\"alignmentgroup\": \"True\", \"box\": {\"visible\": false}, \"hovertemplate\": \"Geography=%{x}<br>value=%{y}<extra></extra>\", \"legendgroup\": \"Ontario\", \"marker\": {\"color\": \"#19d3f3\"}, \"name\": \"Ontario\", \"offsetgroup\": \"Ontario\", \"orientation\": \"v\", \"points\": \"all\", \"scalegroup\": \"True\", \"showlegend\": true, \"type\": \"violin\", \"x\": [\"Ontario\", \"Ontario\", \"Ontario\", \"Ontario\", \"Ontario\", \"Ontario\", \"Ontario\", \"Ontario\", \"Ontario\", \"Ontario\", \"Ontario\", \"Ontario\", \"Ontario\", \"Ontario\", \"Ontario\", \"Ontario\", \"Ontario\", \"Ontario\", \"Ontario\", \"Ontario\", \"Ontario\", \"Ontario\", \"Ontario\", \"Ontario\", \"Ontario\", \"Ontario\", \"Ontario\", \"Ontario\", \"Ontario\", \"Ontario\", \"Ontario\", \"Ontario\", \"Ontario\"], \"x0\": \" \", \"xaxis\": \"x\", \"y\": [247455, 235667, 233122, 230770, 249054, 244060, 244077, 240828, 262838, 257244, 254854, 259093, 281259, 277802, 278626, 285024, 307369, 310236, 319009, 326645, 338561, 323821, 322179, 315576, 327367, 321579, 321074, 324080, 343117, 343768, 348272, 363432, 373371], \"y0\": \" \", \"yaxis\": \"y\"}, {\"alignmentgroup\": \"True\", \"box\": {\"visible\": false}, \"hovertemplate\": \"Geography=%{x}<br>value=%{y}<extra></extra>\", \"legendgroup\": \"Manitoba\", \"marker\": {\"color\": \"#FF6692\"}, \"name\": \"Manitoba\", \"offsetgroup\": \"Manitoba\", \"orientation\": \"v\", \"points\": \"all\", \"scalegroup\": \"True\", \"showlegend\": true, \"type\": \"violin\", \"x\": [\"Manitoba\", \"Manitoba\", \"Manitoba\", \"Manitoba\", \"Manitoba\", \"Manitoba\", \"Manitoba\", \"Manitoba\", \"Manitoba\", \"Manitoba\", \"Manitoba\", \"Manitoba\", \"Manitoba\", \"Manitoba\", \"Manitoba\", \"Manitoba\", \"Manitoba\", \"Manitoba\", \"Manitoba\", \"Manitoba\", \"Manitoba\", \"Manitoba\", \"Manitoba\", \"Manitoba\", \"Manitoba\", \"Manitoba\", \"Manitoba\", \"Manitoba\", \"Manitoba\", \"Manitoba\", \"Manitoba\", \"Manitoba\", \"Manitoba\"], \"x0\": \" \", \"xaxis\": \"x\", \"y\": [188298, 181097, 177560, 177517, 192732, 189570, 188107, 184554, 200051, 197527, 191444, 190383, 206275, 201640, 193970, 196385, 209051, 206958, 203999, 205085, 216750, 217136, 207988, 207436, 220454, 214060, 206692, 214873, 222637, 218918, 212508, 217416, 232725], \"y0\": \" \", \"yaxis\": \"y\"}, {\"alignmentgroup\": \"True\", \"box\": {\"visible\": false}, \"hovertemplate\": \"Geography=%{x}<br>value=%{y}<extra></extra>\", \"legendgroup\": \"Saskatchewan\", \"marker\": {\"color\": \"#B6E880\"}, \"name\": \"Saskatchewan\", \"offsetgroup\": \"Saskatchewan\", \"orientation\": \"v\", \"points\": \"all\", \"scalegroup\": \"True\", \"showlegend\": true, \"type\": \"violin\", \"x\": [\"Saskatchewan\", \"Saskatchewan\", \"Saskatchewan\", \"Saskatchewan\", \"Saskatchewan\", \"Saskatchewan\", \"Saskatchewan\", \"Saskatchewan\", \"Saskatchewan\", \"Saskatchewan\", \"Saskatchewan\", \"Saskatchewan\", \"Saskatchewan\", \"Saskatchewan\", \"Saskatchewan\", \"Saskatchewan\", \"Saskatchewan\", \"Saskatchewan\", \"Saskatchewan\", \"Saskatchewan\", \"Saskatchewan\", \"Saskatchewan\", \"Saskatchewan\", \"Saskatchewan\", \"Saskatchewan\", \"Saskatchewan\", \"Saskatchewan\", \"Saskatchewan\", \"Saskatchewan\", \"Saskatchewan\", \"Saskatchewan\", \"Saskatchewan\", \"Saskatchewan\"], \"x0\": \" \", \"xaxis\": \"x\", \"y\": [217945, 213126, 206354, 211979, 224868, 225414, 226559, 218781, 231768, 233854, 228569, 226957, 234840, 231611, 225641, 230729, 236380, 232174, 234786, 233545, 238533, 234340, 230702, 229851, 233255, 223628, 217157, 216369, 228721, 224315, 216188, 225641, 237386], \"y0\": \" \", \"yaxis\": \"y\"}, {\"alignmentgroup\": \"True\", \"box\": {\"visible\": false}, \"hovertemplate\": \"Geography=%{x}<br>value=%{y}<extra></extra>\", \"legendgroup\": \"Alberta\", \"marker\": {\"color\": \"#FF97FF\"}, \"name\": \"Alberta\", \"offsetgroup\": \"Alberta\", \"orientation\": \"v\", \"points\": \"all\", \"scalegroup\": \"True\", \"showlegend\": true, \"type\": \"violin\", \"x\": [\"Alberta\", \"Alberta\", \"Alberta\", \"Alberta\", \"Alberta\", \"Alberta\", \"Alberta\", \"Alberta\", \"Alberta\", \"Alberta\", \"Alberta\", \"Alberta\", \"Alberta\", \"Alberta\", \"Alberta\", \"Alberta\", \"Alberta\", \"Alberta\", \"Alberta\", \"Alberta\", \"Alberta\", \"Alberta\", \"Alberta\", \"Alberta\", \"Alberta\", \"Alberta\", \"Alberta\", \"Alberta\", \"Alberta\", \"Alberta\", \"Alberta\", \"Alberta\", \"Alberta\"], \"x0\": \" \", \"xaxis\": \"x\", \"y\": [282371, 277555, 277158, 278516, 289263, 284928, 291926, 290722, 304374, 305558, 303976, 299837, 309953, 303244, 296111, 298884, 304683, 302095, 301254, 300115, 307837, 307662, 302814, 302116, 305101, 295839, 291721, 293612, 297609, 297552, 291747, 296269, 305600], \"y0\": \" \", \"yaxis\": \"y\"}, {\"alignmentgroup\": \"True\", \"box\": {\"visible\": false}, \"hovertemplate\": \"Geography=%{x}<br>value=%{y}<extra></extra>\", \"legendgroup\": \"British Columbia\", \"marker\": {\"color\": \"#FECB52\"}, \"name\": \"British Columbia\", \"offsetgroup\": \"British Columbia\", \"orientation\": \"v\", \"points\": \"all\", \"scalegroup\": \"True\", \"showlegend\": true, \"type\": \"violin\", \"x\": [\"British Columbia\", \"British Columbia\", \"British Columbia\", \"British Columbia\", \"British Columbia\", \"British Columbia\", \"British Columbia\", \"British Columbia\", \"British Columbia\", \"British Columbia\", \"British Columbia\", \"British Columbia\", \"British Columbia\", \"British Columbia\", \"British Columbia\", \"British Columbia\", \"British Columbia\", \"British Columbia\", \"British Columbia\", \"British Columbia\", \"British Columbia\", \"British Columbia\", \"British Columbia\", \"British Columbia\", \"British Columbia\", \"British Columbia\", \"British Columbia\", \"British Columbia\", \"British Columbia\", \"British Columbia\", \"British Columbia\", \"British Columbia\", \"British Columbia\"], \"x0\": \" \", \"xaxis\": \"x\", \"y\": [305427, 289864, 286652, 290928, 303663, 305256, 309374, 305138, 321625, 323373, 325035, 328540, 350672, 357016, 368782, 385910, 395297, 366703, 358655, 369174, 389430, 381223, 384794, 371860, 378187, 364330, 363239, 363924, 376343, 386494, 393711, 397853, 417004], \"y0\": \" \", \"yaxis\": \"y\"}],                        {\"legend\": {\"title\": {\"text\": \"Geography\"}, \"tracegroupgap\": 0}, \"margin\": {\"t\": 60}, \"template\": {\"data\": {\"bar\": [{\"error_x\": {\"color\": \"#2a3f5f\"}, \"error_y\": {\"color\": \"#2a3f5f\"}, \"marker\": {\"line\": {\"color\": \"#E5ECF6\", \"width\": 0.5}}, \"type\": \"bar\"}], \"barpolar\": [{\"marker\": {\"line\": {\"color\": \"#E5ECF6\", \"width\": 0.5}}, \"type\": \"barpolar\"}], \"carpet\": [{\"aaxis\": {\"endlinecolor\": \"#2a3f5f\", \"gridcolor\": \"white\", \"linecolor\": \"white\", \"minorgridcolor\": \"white\", \"startlinecolor\": \"#2a3f5f\"}, \"baxis\": {\"endlinecolor\": \"#2a3f5f\", \"gridcolor\": \"white\", \"linecolor\": \"white\", \"minorgridcolor\": \"white\", \"startlinecolor\": \"#2a3f5f\"}, \"type\": \"carpet\"}], \"choropleth\": [{\"colorbar\": {\"outlinewidth\": 0, \"ticks\": \"\"}, \"type\": \"choropleth\"}], \"contour\": [{\"colorbar\": {\"outlinewidth\": 0, \"ticks\": \"\"}, \"colorscale\": [[0.0, \"#0d0887\"], [0.1111111111111111, \"#46039f\"], [0.2222222222222222, \"#7201a8\"], [0.3333333333333333, \"#9c179e\"], [0.4444444444444444, \"#bd3786\"], [0.5555555555555556, \"#d8576b\"], [0.6666666666666666, \"#ed7953\"], [0.7777777777777778, \"#fb9f3a\"], [0.8888888888888888, \"#fdca26\"], [1.0, \"#f0f921\"]], \"type\": \"contour\"}], \"contourcarpet\": [{\"colorbar\": {\"outlinewidth\": 0, \"ticks\": \"\"}, \"type\": \"contourcarpet\"}], \"heatmap\": [{\"colorbar\": {\"outlinewidth\": 0, \"ticks\": \"\"}, \"colorscale\": [[0.0, \"#0d0887\"], [0.1111111111111111, \"#46039f\"], [0.2222222222222222, \"#7201a8\"], [0.3333333333333333, \"#9c179e\"], [0.4444444444444444, \"#bd3786\"], [0.5555555555555556, \"#d8576b\"], [0.6666666666666666, \"#ed7953\"], [0.7777777777777778, \"#fb9f3a\"], [0.8888888888888888, \"#fdca26\"], [1.0, \"#f0f921\"]], \"type\": \"heatmap\"}], \"heatmapgl\": [{\"colorbar\": {\"outlinewidth\": 0, \"ticks\": \"\"}, \"colorscale\": [[0.0, \"#0d0887\"], [0.1111111111111111, \"#46039f\"], [0.2222222222222222, \"#7201a8\"], [0.3333333333333333, \"#9c179e\"], [0.4444444444444444, \"#bd3786\"], [0.5555555555555556, \"#d8576b\"], [0.6666666666666666, \"#ed7953\"], [0.7777777777777778, \"#fb9f3a\"], [0.8888888888888888, \"#fdca26\"], [1.0, \"#f0f921\"]], \"type\": \"heatmapgl\"}], \"histogram\": [{\"marker\": {\"colorbar\": {\"outlinewidth\": 0, \"ticks\": \"\"}}, \"type\": \"histogram\"}], \"histogram2d\": [{\"colorbar\": {\"outlinewidth\": 0, \"ticks\": \"\"}, \"colorscale\": [[0.0, \"#0d0887\"], [0.1111111111111111, \"#46039f\"], [0.2222222222222222, \"#7201a8\"], [0.3333333333333333, \"#9c179e\"], [0.4444444444444444, \"#bd3786\"], [0.5555555555555556, \"#d8576b\"], [0.6666666666666666, \"#ed7953\"], [0.7777777777777778, \"#fb9f3a\"], [0.8888888888888888, \"#fdca26\"], [1.0, \"#f0f921\"]], \"type\": \"histogram2d\"}], \"histogram2dcontour\": [{\"colorbar\": {\"outlinewidth\": 0, \"ticks\": \"\"}, \"colorscale\": [[0.0, \"#0d0887\"], [0.1111111111111111, \"#46039f\"], [0.2222222222222222, \"#7201a8\"], [0.3333333333333333, \"#9c179e\"], [0.4444444444444444, \"#bd3786\"], [0.5555555555555556, \"#d8576b\"], [0.6666666666666666, \"#ed7953\"], [0.7777777777777778, \"#fb9f3a\"], [0.8888888888888888, \"#fdca26\"], [1.0, \"#f0f921\"]], \"type\": \"histogram2dcontour\"}], \"mesh3d\": [{\"colorbar\": {\"outlinewidth\": 0, \"ticks\": \"\"}, \"type\": \"mesh3d\"}], \"parcoords\": [{\"line\": {\"colorbar\": {\"outlinewidth\": 0, \"ticks\": \"\"}}, \"type\": \"parcoords\"}], \"pie\": [{\"automargin\": true, \"type\": \"pie\"}], \"scatter\": [{\"marker\": {\"colorbar\": {\"outlinewidth\": 0, \"ticks\": \"\"}}, \"type\": \"scatter\"}], \"scatter3d\": [{\"line\": {\"colorbar\": {\"outlinewidth\": 0, \"ticks\": \"\"}}, \"marker\": {\"colorbar\": {\"outlinewidth\": 0, \"ticks\": \"\"}}, \"type\": \"scatter3d\"}], \"scattercarpet\": [{\"marker\": {\"colorbar\": {\"outlinewidth\": 0, \"ticks\": \"\"}}, \"type\": \"scattercarpet\"}], \"scattergeo\": [{\"marker\": {\"colorbar\": {\"outlinewidth\": 0, \"ticks\": \"\"}}, \"type\": \"scattergeo\"}], \"scattergl\": [{\"marker\": {\"colorbar\": {\"outlinewidth\": 0, \"ticks\": \"\"}}, \"type\": \"scattergl\"}], \"scattermapbox\": [{\"marker\": {\"colorbar\": {\"outlinewidth\": 0, \"ticks\": \"\"}}, \"type\": \"scattermapbox\"}], \"scatterpolar\": [{\"marker\": {\"colorbar\": {\"outlinewidth\": 0, \"ticks\": \"\"}}, \"type\": \"scatterpolar\"}], \"scatterpolargl\": [{\"marker\": {\"colorbar\": {\"outlinewidth\": 0, \"ticks\": \"\"}}, \"type\": \"scatterpolargl\"}], \"scatterternary\": [{\"marker\": {\"colorbar\": {\"outlinewidth\": 0, \"ticks\": \"\"}}, \"type\": \"scatterternary\"}], \"surface\": [{\"colorbar\": {\"outlinewidth\": 0, \"ticks\": \"\"}, \"colorscale\": [[0.0, \"#0d0887\"], [0.1111111111111111, \"#46039f\"], [0.2222222222222222, \"#7201a8\"], [0.3333333333333333, \"#9c179e\"], [0.4444444444444444, \"#bd3786\"], [0.5555555555555556, \"#d8576b\"], [0.6666666666666666, \"#ed7953\"], [0.7777777777777778, \"#fb9f3a\"], [0.8888888888888888, \"#fdca26\"], [1.0, \"#f0f921\"]], \"type\": \"surface\"}], \"table\": [{\"cells\": {\"fill\": {\"color\": \"#EBF0F8\"}, \"line\": {\"color\": \"white\"}}, \"header\": {\"fill\": {\"color\": \"#C8D4E3\"}, \"line\": {\"color\": \"white\"}}, \"type\": \"table\"}]}, \"layout\": {\"annotationdefaults\": {\"arrowcolor\": \"#2a3f5f\", \"arrowhead\": 0, \"arrowwidth\": 1}, \"autotypenumbers\": \"strict\", \"coloraxis\": {\"colorbar\": {\"outlinewidth\": 0, \"ticks\": \"\"}}, \"colorscale\": {\"diverging\": [[0, \"#8e0152\"], [0.1, \"#c51b7d\"], [0.2, \"#de77ae\"], [0.3, \"#f1b6da\"], [0.4, \"#fde0ef\"], [0.5, \"#f7f7f7\"], [0.6, \"#e6f5d0\"], [0.7, \"#b8e186\"], [0.8, \"#7fbc41\"], [0.9, \"#4d9221\"], [1, \"#276419\"]], \"sequential\": [[0.0, \"#0d0887\"], [0.1111111111111111, \"#46039f\"], [0.2222222222222222, \"#7201a8\"], [0.3333333333333333, \"#9c179e\"], [0.4444444444444444, \"#bd3786\"], [0.5555555555555556, \"#d8576b\"], [0.6666666666666666, \"#ed7953\"], [0.7777777777777778, \"#fb9f3a\"], [0.8888888888888888, \"#fdca26\"], [1.0, \"#f0f921\"]], \"sequentialminus\": [[0.0, \"#0d0887\"], [0.1111111111111111, \"#46039f\"], [0.2222222222222222, \"#7201a8\"], [0.3333333333333333, \"#9c179e\"], [0.4444444444444444, \"#bd3786\"], [0.5555555555555556, \"#d8576b\"], [0.6666666666666666, \"#ed7953\"], [0.7777777777777778, \"#fb9f3a\"], [0.8888888888888888, \"#fdca26\"], [1.0, \"#f0f921\"]]}, \"colorway\": [\"#636efa\", \"#EF553B\", \"#00cc96\", \"#ab63fa\", \"#FFA15A\", \"#19d3f3\", \"#FF6692\", \"#B6E880\", \"#FF97FF\", \"#FECB52\"], \"font\": {\"color\": \"#2a3f5f\"}, \"geo\": {\"bgcolor\": \"white\", \"lakecolor\": \"white\", \"landcolor\": \"#E5ECF6\", \"showlakes\": true, \"showland\": true, \"subunitcolor\": \"white\"}, \"hoverlabel\": {\"align\": \"left\"}, \"hovermode\": \"closest\", \"mapbox\": {\"style\": \"light\"}, \"paper_bgcolor\": \"white\", \"plot_bgcolor\": \"#E5ECF6\", \"polar\": {\"angularaxis\": {\"gridcolor\": \"white\", \"linecolor\": \"white\", \"ticks\": \"\"}, \"bgcolor\": \"#E5ECF6\", \"radialaxis\": {\"gridcolor\": \"white\", \"linecolor\": \"white\", \"ticks\": \"\"}}, \"scene\": {\"xaxis\": {\"backgroundcolor\": \"#E5ECF6\", \"gridcolor\": \"white\", \"gridwidth\": 2, \"linecolor\": \"white\", \"showbackground\": true, \"ticks\": \"\", \"zerolinecolor\": \"white\"}, \"yaxis\": {\"backgroundcolor\": \"#E5ECF6\", \"gridcolor\": \"white\", \"gridwidth\": 2, \"linecolor\": \"white\", \"showbackground\": true, \"ticks\": \"\", \"zerolinecolor\": \"white\"}, \"zaxis\": {\"backgroundcolor\": \"#E5ECF6\", \"gridcolor\": \"white\", \"gridwidth\": 2, \"linecolor\": \"white\", \"showbackground\": true, \"ticks\": \"\", \"zerolinecolor\": \"white\"}}, \"shapedefaults\": {\"line\": {\"color\": \"#2a3f5f\"}}, \"ternary\": {\"aaxis\": {\"gridcolor\": \"white\", \"linecolor\": \"white\", \"ticks\": \"\"}, \"baxis\": {\"gridcolor\": \"white\", \"linecolor\": \"white\", \"ticks\": \"\"}, \"bgcolor\": \"#E5ECF6\", \"caxis\": {\"gridcolor\": \"white\", \"linecolor\": \"white\", \"ticks\": \"\"}}, \"title\": {\"x\": 0.05}, \"xaxis\": {\"automargin\": true, \"gridcolor\": \"white\", \"linecolor\": \"white\", \"ticks\": \"\", \"title\": {\"standoff\": 15}, \"zerolinecolor\": \"white\", \"zerolinewidth\": 2}, \"yaxis\": {\"automargin\": true, \"gridcolor\": \"white\", \"linecolor\": \"white\", \"ticks\": \"\", \"title\": {\"standoff\": 15}, \"zerolinecolor\": \"white\", \"zerolinewidth\": 2}}}, \"violinmode\": \"overlay\", \"xaxis\": {\"anchor\": \"y\", \"categoryarray\": [\"Newfoundland\", \"Prince Edward Island\", \"Nova Scotia\", \"New Brunswick\", \"Qu\\u00e9bec\", \"Ontario\", \"Manitoba\", \"Saskatchewan\", \"Alberta\", \"British Columbia\"], \"categoryorder\": \"array\", \"domain\": [0.0, 1.0], \"title\": {\"text\": \"Geography\"}}, \"yaxis\": {\"anchor\": \"x\", \"domain\": [0.0, 1.0], \"title\": {\"text\": \"value\"}}},                        {\"responsive\": true}                    ).then(function(){\n",
       "                            \n",
       "var gd = document.getElementById('ff0e43dd-c211-4f6a-ae54-2f3cd5326cff');\n",
       "var x = new MutationObserver(function (mutations, observer) {{\n",
       "        var display = window.getComputedStyle(gd).display;\n",
       "        if (!display || display === 'none') {{\n",
       "            console.log([gd, 'removed!']);\n",
       "            Plotly.purge(gd);\n",
       "            observer.disconnect();\n",
       "        }}\n",
       "}});\n",
       "\n",
       "// Listen for the removal of the full notebook cells\n",
       "var notebookContainer = gd.closest('#notebook-container');\n",
       "if (notebookContainer) {{\n",
       "    x.observe(notebookContainer, {childList: true});\n",
       "}}\n",
       "\n",
       "// Listen for the clearing of the current output cell\n",
       "var outputEl = gd.closest('.output');\n",
       "if (outputEl) {{\n",
       "    x.observe(outputEl, {childList: true});\n",
       "}}\n",
       "\n",
       "                        })                };                });            </script>        </div>"
      ]
     },
     "metadata": {},
     "output_type": "display_data"
    }
   ],
   "source": [
    "px.violin(temp, x=\"Geography\", y='value', color='Geography', points='all')"
   ]
  },
  {
   "cell_type": "markdown",
   "metadata": {},
   "source": [
    "## Exercise\n",
    "\n",
    "1. Identify different ways of visualizing data. \n",
    "2. What insights do you gain for the study period? \n",
    "3. How are these insights different for each province/city?"
   ]
  },
  {
   "cell_type": "code",
   "execution_count": null,
   "metadata": {},
   "outputs": [],
   "source": []
  }
 ],
 "metadata": {
  "kernelspec": {
   "display_name": "Python 3",
   "language": "python",
   "name": "python3"
  },
  "language_info": {
   "codemirror_mode": {
    "name": "ipython",
    "version": 3
   },
   "file_extension": ".py",
   "mimetype": "text/x-python",
   "name": "python",
   "nbconvert_exporter": "python",
   "pygments_lexer": "ipython3",
   "version": "3.8.3"
  }
 },
 "nbformat": 4,
 "nbformat_minor": 4
}
