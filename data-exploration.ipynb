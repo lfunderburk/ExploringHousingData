{
 "cells": [
  {
   "cell_type": "markdown",
   "metadata": {},
   "source": [
    "## Exploring housing markers in Canada and British Columbia\n",
    "\n",
    "\n",
    "Average value of new mortgage loan \n",
    "\n",
    "Canada, provinces and CMAs 2012 Q3 to 2020 Q3"
   ]
  },
  {
   "cell_type": "code",
   "execution_count": 1,
   "metadata": {
    "scrolled": true
   },
   "outputs": [],
   "source": [
    "%run ./scr/main.py\n",
    "import plotly.express as px"
   ]
  },
  {
   "cell_type": "code",
   "execution_count": 2,
   "metadata": {},
   "outputs": [],
   "source": [
    "data = \"./data/\""
   ]
  },
  {
   "cell_type": "code",
   "execution_count": null,
   "metadata": {},
   "outputs": [],
   "source": [
    "# a function for data cleaning\n",
    "def data_prep(data_file):\n",
    "    temp = pd.read_excel(data_file)\n",
    "    \n",
    "    # Resetting column\n",
    "    new_header = temp.iloc[3]\n",
    "    temp = temp[4:]\n",
    "    temp.columns = new_header\n",
    "\n"
   ]
  },
  {
   "cell_type": "markdown",
   "metadata": {},
   "source": [
    "#### Data contains quite a bit of additional information"
   ]
  },
  {
   "cell_type": "code",
   "execution_count": 4,
   "metadata": {},
   "outputs": [],
   "source": [
    "average_new_mortgage = pd.read_excel(data + \"average-value-new-mortgage-loans-ca-prov-cmas-2012-q3-2020-q3-en.xlsx\")\n",
    "# Resetting column\n",
    "new_header = average_new_mortgage.iloc[3]\n",
    "average_new_mortgage = average_new_mortgage[4:]\n",
    "average_new_mortgage.columns = new_header\n",
    "#Removing empty rows\n",
    "average_new_mortgage.dropna(thresh=2, inplace=True)\n",
    "#Ensuring the indices go from 0 without skipping any number\n",
    "average_new_mortgage.reset_index(inplace=True)\n",
    "average_new_mortgage.drop(['index'],inplace=True,axis=1)\n",
    "#Selecting all rows until and including the row for \"Victoria\"\n",
    "row_select = average_new_mortgage[average_new_mortgage['Geography']=='Victoria'].index\n",
    "average_new_mortgage = average_new_mortgage.iloc[:row_select[0]+1,1:]"
   ]
  },
  {
   "cell_type": "markdown",
   "metadata": {},
   "source": [
    "Cleanup of rows"
   ]
  },
  {
   "cell_type": "markdown",
   "metadata": {},
   "source": [
    "Data needs a fair amount of reformatting."
   ]
  },
  {
   "cell_type": "code",
   "execution_count": 6,
   "metadata": {},
   "outputs": [],
   "source": [
    "#Categorize Geography as Country, Province, and City\n",
    "average_new_mortgage['Region/City'] = \"\"\n",
    "average_new_mortgage['Region/City'][average_new_mortgage.index ==0] = 'Country'\n",
    "average_new_mortgage['Region/City'][(average_new_mortgage.index < 11) & (average_new_mortgage.index >0)] = 'Province'\n",
    "average_new_mortgage['Region/City'][average_new_mortgage.index >= 11] = 'City'"
   ]
  },
  {
   "cell_type": "markdown",
   "metadata": {},
   "source": [
    "Rearrange columns"
   ]
  },
  {
   "cell_type": "code",
   "execution_count": 8,
   "metadata": {},
   "outputs": [],
   "source": [
    "#Rearrange columns -- bring column 'Region/City' to the 1st column position\n",
    "# Access columns\n",
    "cols = average_new_mortgage.columns.tolist()\n",
    "# Bring last col to front\n",
    "cols = cols[-1:] + cols[:-1]\n",
    "# Set new column order\n",
    "average_new_mortgage = average_new_mortgage[cols] "
   ]
  },
  {
   "cell_type": "markdown",
   "metadata": {},
   "source": [
    "Let's begin data exploration."
   ]
  },
  {
   "cell_type": "code",
   "execution_count": null,
   "metadata": {
    "scrolled": true
   },
   "outputs": [],
   "source": [
    "average_new_mortgage.info()"
   ]
  },
  {
   "cell_type": "markdown",
   "metadata": {},
   "source": [
    "Data types are incorrect. Let's convert to the right format."
   ]
  },
  {
   "cell_type": "code",
   "execution_count": null,
   "metadata": {},
   "outputs": [],
   "source": [
    "#Isolate yearly and quarterly columns and convert to numeric.\n",
    "int_cols = average_new_mortgage.columns.drop(['Region/City', 'Geography'])\n",
    "average_new_mortgage[int_cols] = average_new_mortgage[int_cols].apply(pd.to_numeric, errors='coerce')"
   ]
  },
  {
   "cell_type": "code",
   "execution_count": null,
   "metadata": {
    "scrolled": true
   },
   "outputs": [],
   "source": [
    "average_new_mortgage.info()"
   ]
  },
  {
   "cell_type": "markdown",
   "metadata": {},
   "source": [
    "Let's do summary statistics."
   ]
  },
  {
   "cell_type": "code",
   "execution_count": null,
   "metadata": {},
   "outputs": [],
   "source": [
    "average_new_mortgage.describe()"
   ]
  },
  {
   "cell_type": "code",
   "execution_count": null,
   "metadata": {},
   "outputs": [],
   "source": [
    "df_province = average_new_mortgage[average_new_mortgage['Region/City']==\"Province\"]"
   ]
  },
  {
   "cell_type": "code",
   "execution_count": null,
   "metadata": {},
   "outputs": [],
   "source": [
    "df_province.iloc[:,2:].plot(kind='bar')"
   ]
  },
  {
   "cell_type": "code",
   "execution_count": null,
   "metadata": {},
   "outputs": [],
   "source": [
    "def graph_region(df, level: str, graph_type: str):\n",
    "    \"\"\"\n",
    "    df: data frame object with mortage data\n",
    "    level: \"Province\" or \"City\"\n",
    "    graph_type: \"box\", \"violin\"\n",
    "    \"\"\"\n",
    "    \n",
    "    plot_dict = {'box': px.box,'violin': px.violin}\n",
    "    \n",
    "    def slice_data(df, level):\n",
    "        \"\"\"\n",
    "        Extract a subset of df based on level\n",
    "        Return a dataframe\n",
    "        \"\"\"\n",
    "        temp = df[df['Region/City']==level]\n",
    "        temp = pd.melt(temp, id_vars='Geography', value_vars=temp.columns[2:])\n",
    "        temp.rename(columns = {3:'Time'}, inplace = True)\n",
    "        return temp\n",
    "    \n",
    "    try:\n",
    "        region_df = slice_data(df, level)\n",
    "        fig = plot_dict[graph_type](region_df, x=\"Geography\", y=\"value\", color = \"Geography\", points='all')\n",
    "        fig.update_xaxes(tickangle=-45)\n",
    "        fig.show()\n",
    "    \n",
    "    except KeyError: print(\"Key not found. Make sure that 'level' is in ['Province','City']\", \n",
    "                           \"and 'graph_type' is in ['box','violin']\")\n"
   ]
  },
  {
   "cell_type": "code",
   "execution_count": null,
   "metadata": {},
   "outputs": [],
   "source": [
    "graph_region(average_new_mortgage, level='Province', graph_type='box')"
   ]
  },
  {
   "cell_type": "code",
   "execution_count": null,
   "metadata": {},
   "outputs": [],
   "source": [
    "#line plot\n",
    "fig = px.line(temp, x='Time', y='value', color = 'Geography')\n",
    "fig.update_xaxes(tickangle=-45)\n",
    "fig.show()"
   ]
  },
  {
   "cell_type": "markdown",
   "metadata": {},
   "source": [
    "## Exercise\n",
    "\n",
    "1. Identify different ways of visualizing data. \n",
    "2. What insights do you gain for the study period? \n",
    "3. How are these insights different for each province/city?"
   ]
  },
  {
   "cell_type": "code",
   "execution_count": null,
   "metadata": {},
   "outputs": [],
   "source": []
  }
 ],
 "metadata": {
  "kernelspec": {
   "display_name": "Python 3",
   "language": "python",
   "name": "python3"
  },
  "language_info": {
   "codemirror_mode": {
    "name": "ipython",
    "version": 3
   },
   "file_extension": ".py",
   "mimetype": "text/x-python",
   "name": "python",
   "nbconvert_exporter": "python",
   "pygments_lexer": "ipython3",
   "version": "3.8.3"
  }
 },
 "nbformat": 4,
 "nbformat_minor": 4
}
