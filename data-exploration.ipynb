{
 "cells": [
  {
   "cell_type": "markdown",
   "metadata": {},
   "source": [
    "## Exploring housing markers in Canada and British Columbia\n",
    "\n",
    "\n",
    "Average value of new mortgage loan \n",
    "\n",
    "Canada, provinces and CMAs 2012 Q3 to 2020 Q3"
   ]
  },
  {
   "cell_type": "code",
   "execution_count": null,
   "metadata": {
    "scrolled": true
   },
   "outputs": [],
   "source": [
    "%run ./scr/main.py\n",
    "import plotly.express as px"
   ]
  },
  {
   "cell_type": "code",
   "execution_count": null,
   "metadata": {},
   "outputs": [],
   "source": [
    "data = \"./data/\""
   ]
  },
  {
   "cell_type": "code",
   "execution_count": null,
   "metadata": {},
   "outputs": [],
   "source": [
    "# a function for data cleaning\n",
    "def data_prep(data_file):\n",
    "    #Reading the data and making a copy\n",
    "    df = pd.read_excel(data_file)\n",
    "    temp = df.copy()\n",
    "\n",
    "    #Removing empty rows\n",
    "    temp.dropna(thresh=2, inplace=True)\n",
    "\n",
    "    #Reseting columns - Changing the column names using the values in the 1st row\n",
    "    temp_header = temp.iloc[0,]\n",
    "    temp = temp[1:]\n",
    "    temp.columns = temp_header\n",
    "\n",
    "    #Removing all columns whose names are nan\n",
    "    temp = temp.loc[:, temp.columns.notnull()]\n",
    "\n",
    "    #Ensuring the indices go from 0 without skipping any number\n",
    "    temp.reset_index(inplace=True, drop = True)\n",
    "\n",
    "    #Categorize Geography as Country, Province, and City\n",
    "    temp['Region/City'] = \"\"\n",
    "    temp['Region/City'][temp.index ==0] = 'Country'\n",
    "    temp['Region/City'][(temp.index < 11) & (temp.index >0)] = 'Province'\n",
    "    temp['Region/City'][temp.index >= 11] = 'City'\n",
    "\n",
    "    #Rearrange columns -- bring column 'Region/City' to the 1st column position\n",
    "    # Access columns\n",
    "    cols = temp.columns.tolist()\n",
    "    # Bring last col to front\n",
    "    cols = cols[-1:] + cols[:-1]\n",
    "    # Set new column order\n",
    "    temp = temp[cols] \n",
    "\n",
    "    #Converting data type to the right format\n",
    "    #Isolating yearly and quarterly columns and convert to numeric.\n",
    "    int_cols = temp.columns.drop(['Region/City', 'Geography'])\n",
    "    temp[int_cols] = temp[int_cols].apply(pd.to_numeric, errors='coerce')\n",
    "\n",
    "    return temp"
   ]
  },
  {
   "cell_type": "code",
   "execution_count": null,
   "metadata": {},
   "outputs": [],
   "source": [
    "# a function for preparing the data to the right shape\n",
    "def slice_data(df, level):\n",
    "    \"\"\"\n",
    "    df: data frame with mortgage data\n",
    "    level: \"Province\" or \"City\"\n",
    "    Extract a subset of df based on level\n",
    "    Return a dataframe\n",
    "    \"\"\"\n",
    "    try:\n",
    "        temp = df[df['Region/City']==level]\n",
    "        temp = pd.melt(temp, id_vars='Geography', value_vars=temp.columns[2:])\n",
    "        temp.rename(columns = {3:'Time'}, inplace = True)\n",
    "        return temp\n",
    "    except KeyError:\n",
    "        print(\"Key not found. Make sure that 'level' is in ['Province','City']\")\n"
   ]
  },
  {
   "cell_type": "code",
   "execution_count": null,
   "metadata": {},
   "outputs": [],
   "source": [
    "# a function for box or violin graphs\n",
    "def graph_region(region_df, graph_type: str, title):\n",
    "    \"\"\"\n",
    "    region_df: reshaped data frame object with mortage data\n",
    "    graph_type: \"box\", \"violin\"\n",
    "    title: title of the graph\n",
    "    \"\"\"\n",
    "    \n",
    "    plot_dict = {'box': px.box,'violin': px.violin}\n",
    "        \n",
    "    try:\n",
    "        fig = plot_dict[graph_type](region_df, x=\"Geography\", y=\"value\", color = \"Geography\", points='all')\n",
    "        fig.update_layout(title = title)\n",
    "        fig.update_xaxes(tickangle=-45)\n",
    "        fig.show()\n",
    "    \n",
    "    except KeyError:\n",
    "        print(\"Key not found. Make sure that 'graph_type' is in ['box','violin']\")"
   ]
  },
  {
   "cell_type": "markdown",
   "metadata": {},
   "source": [
    "# Mortgage loan"
   ]
  },
  {
   "cell_type": "code",
   "execution_count": null,
   "metadata": {},
   "outputs": [],
   "source": [
    "data_file = data + \"average-value-new-mortgage-loans-ca-prov-cmas-2012-q3-2020-q3-en.xlsx\"\n",
    "df_mortgage = data_prep(data_file)\n",
    "level = 'Province'\n",
    "df_mortgage_long = slice_data(df_mortgage, level = level)"
   ]
  },
  {
   "cell_type": "code",
   "execution_count": null,
   "metadata": {},
   "outputs": [],
   "source": [
    "graph_type = 'box'\n",
    "graph_region(df_mortgage_long, graph_type=graph_type, title = f'{graph_type} plot of mortgage loans by {level}'.upper())"
   ]
  },
  {
   "cell_type": "code",
   "execution_count": null,
   "metadata": {},
   "outputs": [],
   "source": [
    "#line plot\n",
    "fig = px.line(df_mortgage_long, x='Time', y='value', color = 'Geography',\n",
    "              title = f'Line plot of mortgage loans by {level}'.upper())\n",
    "fig.update_xaxes(tickangle=-45)\n",
    "fig.show()"
   ]
  },
  {
   "cell_type": "markdown",
   "metadata": {},
   "source": [
    "# Delinquency"
   ]
  },
  {
   "cell_type": "code",
   "execution_count": null,
   "metadata": {},
   "outputs": [],
   "source": [
    "data_delinquency = data + \"mortgage-delinquency-rate-ca-prov-cmas-2012-q3-2020-q4-en.xlsx\"\n",
    "df_delin = data_prep(data_delinquency)"
   ]
  },
  {
   "cell_type": "code",
   "execution_count": null,
   "metadata": {},
   "outputs": [],
   "source": [
    "level='Province'\n",
    "graph_type='box'\n",
    "title = f'{graph_type} plot of delinquency rate by {level}'.upper()\n",
    "df_delin_long = slice_data(df_delin, level = level)\n",
    "graph_region(df_delin_long, graph_type=graph_type, title = title)"
   ]
  },
  {
   "cell_type": "markdown",
   "metadata": {},
   "source": [
    "# Average Income"
   ]
  },
  {
   "cell_type": "code",
   "execution_count": null,
   "metadata": {},
   "outputs": [],
   "source": [
    "data_income = data + \"real-average-household-income-after-taxes-tenure-2006-2018-en.xlsx\"\n",
    "df_income = data_prep(data_income)"
   ]
  },
  {
   "cell_type": "code",
   "execution_count": null,
   "metadata": {},
   "outputs": [],
   "source": [
    "level='Province'\n",
    "graph_type='box'\n",
    "title = f'{graph_type} plot of average household income by {level}'.upper()\n",
    "df_income_long = slice_data(df_income, level = level)\n",
    "graph_region(df_income_long, graph_type=graph_type, title = title)"
   ]
  },
  {
   "cell_type": "code",
   "execution_count": null,
   "metadata": {},
   "outputs": [],
   "source": [
    "#line plot\n",
    "fig = px.line(df_income_long, x='Time', y='value', color = 'Geography',\n",
    "              title = f'Line plot of avergage household income by {level}'.upper())\n",
    "#fig.update_xaxes(tickangle=-45)\n",
    "fig.show()"
   ]
  },
  {
   "cell_type": "markdown",
   "metadata": {},
   "source": [
    "# Combining 2 data sets - mortgage loans and household income"
   ]
  },
  {
   "cell_type": "code",
   "execution_count": null,
   "metadata": {},
   "outputs": [],
   "source": [
    "#set(df['Geography']).difference(df_income['Geography'])\n",
    "#len(set(df['Geography']).difference(df_income['Geography']))\n",
    "#set(df[df['Region/City']=='Province']['Geography']).difference(df_income[df_income['Region/City']=='Province']['Geography'])"
   ]
  },
  {
   "cell_type": "code",
   "execution_count": null,
   "metadata": {},
   "outputs": [],
   "source": [
    "mortgage = df_mortgage.copy()\n",
    "\n",
    "# change the name of 2 provinces to make the provinces match in 2 datasets\n",
    "mortgage_replace = {'Newfoundland':'Newfoundland and Labrador', 'Québec': 'Quebec'}\n",
    "mortgage.replace(mortgage_replace, inplace=True)\n",
    "\n",
    "# create yearly data for mortgage for some years\n",
    "select_year = df_income.columns.tolist()\n",
    "select_year = select_year[select_year.index(2013.0):]\n",
    "select_year = [str(int(y)) for y in select_year]\n",
    "\n",
    "# average over 4 quarters to get the yearly value\n",
    "q = ['Q1', 'Q2', 'Q3', 'Q4']\n",
    "for y in select_year:\n",
    "    y1 = [y+j for j in q]\n",
    "    mortgage[y] = mortgage[y1].mean(axis=1)\n",
    "    \n",
    "# select columns in mortgage data\n",
    "col_mortgage = ['Region/City', 'Geography']+select_year\n",
    "mortgage13_18 = mortgage[col_mortgage]"
   ]
  },
  {
   "cell_type": "code",
   "execution_count": null,
   "metadata": {},
   "outputs": [],
   "source": [
    "col_income = ['Region/City', 'Geography']+[float(y) for y in select_year]\n",
    "mortgage13_18.columns = col_income\n",
    "\n",
    "income = df_income.copy()\n",
    "income13_18 = income[col_income]"
   ]
  },
  {
   "cell_type": "code",
   "execution_count": null,
   "metadata": {},
   "outputs": [],
   "source": [
    "import warnings\n",
    "from pandas.core.common import SettingWithCopyWarning\n",
    "warnings.simplefilter(action=\"ignore\", category=SettingWithCopyWarning)"
   ]
  },
  {
   "cell_type": "code",
   "execution_count": null,
   "metadata": {},
   "outputs": [],
   "source": [
    "mortgage13_18['Type'] = 'Mortgage'\n",
    "income13_18['Type'] = 'Income'"
   ]
  },
  {
   "cell_type": "code",
   "execution_count": null,
   "metadata": {},
   "outputs": [],
   "source": [
    "df13_18 = pd.concat([mortgage13_18, income13_18])"
   ]
  },
  {
   "cell_type": "code",
   "execution_count": null,
   "metadata": {},
   "outputs": [],
   "source": [
    "df13_18.reset_index(inplace=True, drop=True)\n",
    "df_province = df13_18[df13_18['Region/City']=='Province']"
   ]
  },
  {
   "cell_type": "markdown",
   "metadata": {},
   "source": [
    "# Mortgage loan and household income"
   ]
  },
  {
   "cell_type": "code",
   "execution_count": null,
   "metadata": {},
   "outputs": [],
   "source": [
    "df_province_melt = pd.melt(df_province, id_vars=['Geography','Type'], value_vars=df_province.columns[2:-1])\n",
    "#df_province.pivot(index = 'Geography', columns = 'Type', values=[2013.0 + i for i in range(6)])"
   ]
  },
  {
   "cell_type": "code",
   "execution_count": null,
   "metadata": {
    "scrolled": true
   },
   "outputs": [],
   "source": [
    "df_province.head()"
   ]
  },
  {
   "cell_type": "code",
   "execution_count": null,
   "metadata": {},
   "outputs": [],
   "source": [
    "pivot_province_income = df_province.pivot_table(columns=[\"Geography\", \"Type\"])"
   ]
  },
  {
   "cell_type": "code",
   "execution_count": null,
   "metadata": {},
   "outputs": [],
   "source": [
    "pivot_province_income"
   ]
  },
  {
   "cell_type": "code",
   "execution_count": null,
   "metadata": {},
   "outputs": [],
   "source": [
    "import matplotlib.pyplot as plt\n",
    "\n",
    "provinces = set([item[0] for item in pivot_province_income.columns])\n",
    "\n",
    "for base_loc in provinces:\n",
    "    \n",
    "    base_location = pivot_province_income[base_loc]\n",
    "    income = base_location['Income']\n",
    "    mortgage = base_location['Mortgage']\n",
    "\n",
    "    plt.scatter(income, mortgage, label=base_loc)\n",
    "\n",
    "plt.xlabel(\"Income\")\n",
    "plt.ylabel(\"Mortgage\")\n",
    "plt.title(\"Mortgage vs Income per Province\")\n",
    "plt.legend(loc=\"best\", bbox_to_anchor=(1.55, 1.03))\n",
    "plt.grid(True)\n",
    "plt.show()"
   ]
  },
  {
   "cell_type": "markdown",
   "metadata": {},
   "source": [
    "Alberta has the highest average income yet their mortgage remains stable. \n",
    "\n",
    "Ontario and British Columbia show the highest mortgage prices. \n",
    "\n"
   ]
  },
  {
   "cell_type": "code",
   "execution_count": null,
   "metadata": {},
   "outputs": [],
   "source": [
    "pivot_province_income"
   ]
  },
  {
   "cell_type": "code",
   "execution_count": null,
   "metadata": {},
   "outputs": [],
   "source": [
    "pivot_province_income.T.index==('Alberta', 'Income')"
   ]
  },
  {
   "cell_type": "code",
   "execution_count": null,
   "metadata": {},
   "outputs": [],
   "source": [
    "pivot_province_income"
   ]
  },
  {
   "cell_type": "markdown",
   "metadata": {},
   "source": [
    "### PIVOT ORDER MATTERS"
   ]
  },
  {
   "cell_type": "code",
   "execution_count": null,
   "metadata": {},
   "outputs": [],
   "source": [
    "pivot_income_province = df_province.pivot_table(columns=[\"Type\", \"Geography\"])\n",
    "\n",
    "pivot_income_province"
   ]
  },
  {
   "cell_type": "code",
   "execution_count": null,
   "metadata": {},
   "outputs": [],
   "source": [
    "pivot_income_province.Income"
   ]
  },
  {
   "cell_type": "code",
   "execution_count": null,
   "metadata": {},
   "outputs": [],
   "source": [
    "# mor 100\n",
    "# inc what percentage of my mortgage is my income\n",
    "\n",
    "fig = px.scatter(pivot_income_province.Income/ pivot_income_province.Mortgage*100, \n",
    "           facet_col=\"Geography\",\n",
    "          title=\"Income to mortgage by province\")\n",
    "\n",
    "fig.for_each_annotation(lambda a: a.update(text=a.text.split(\"=\")[-1]))\n",
    "fig.show()"
   ]
  },
  {
   "cell_type": "code",
   "execution_count": null,
   "metadata": {},
   "outputs": [],
   "source": [
    "# inco \n",
    "# mor what percentage of income is my mortgage \n",
    "\n",
    "fig = px.scatter(pivot_income_province.Mortgage/ pivot_income_province.Income , \n",
    "                 facet_col=\"Geography\", title='Mortgage to income by province')\n",
    "fig.for_each_annotation(lambda a: a.update(text=a.text.split(\"=\")[-1]))\n",
    "fig.show()"
   ]
  },
  {
   "cell_type": "code",
   "execution_count": null,
   "metadata": {},
   "outputs": [],
   "source": [
    "mort_prov = mortgage13_18[mortgage13_18['Region/City']=='Province'].pivot_table(columns='Geography')"
   ]
  },
  {
   "cell_type": "code",
   "execution_count": null,
   "metadata": {},
   "outputs": [],
   "source": [
    "inco_prov = income13_18[income13_18['Region/City']=='Province'].pivot_table(columns='Geography')"
   ]
  },
  {
   "cell_type": "code",
   "execution_count": null,
   "metadata": {},
   "outputs": [],
   "source": [
    "import seaborn as sns\n"
   ]
  },
  {
   "cell_type": "code",
   "execution_count": null,
   "metadata": {},
   "outputs": [],
   "source": [
    "sns.pairplot(df_province,hue='Type')\n"
   ]
  },
  {
   "cell_type": "markdown",
   "metadata": {},
   "source": [
    "Strong relationship between any given pair of years."
   ]
  },
  {
   "cell_type": "code",
   "execution_count": null,
   "metadata": {},
   "outputs": [],
   "source": [
    "\n",
    "sns.pairplot(df_province,hue='Geography')\n"
   ]
  },
  {
   "cell_type": "markdown",
   "metadata": {},
   "source": [
    "Strong relationship between any given pair of years, bimodal distribution for each province."
   ]
  },
  {
   "cell_type": "code",
   "execution_count": null,
   "metadata": {
    "scrolled": false
   },
   "outputs": [],
   "source": [
    "sns.catplot(y=2013.0, x=\"Geography\", hue=\"Type\", kind=\"bar\", data=df_province)\n",
    "plt.xticks(rotation=90)\n",
    "sns.catplot(y=2013.0, x=\"Type\", hue=\"Geography\", kind=\"bar\", data=df_province)\n",
    "plt.xticks(rotation=45)\n",
    "plt.show()"
   ]
  },
  {
   "cell_type": "markdown",
   "metadata": {},
   "source": [
    "## Exercise\n",
    "\n",
    "1. Identify different ways of visualizing data. \n",
    "2. What insights do you gain for the study period? \n",
    "3. How are these insights different for each province/city?"
   ]
  },
  {
   "cell_type": "code",
   "execution_count": null,
   "metadata": {},
   "outputs": [],
   "source": []
  }
 ],
 "metadata": {
  "kernelspec": {
   "display_name": "Python 3",
   "language": "python",
   "name": "python3"
  },
  "language_info": {
   "codemirror_mode": {
    "name": "ipython",
    "version": 3
   },
   "file_extension": ".py",
   "mimetype": "text/x-python",
   "name": "python",
   "nbconvert_exporter": "python",
   "pygments_lexer": "ipython3",
   "version": "3.7.6"
  }
 },
 "nbformat": 4,
 "nbformat_minor": 4
}
