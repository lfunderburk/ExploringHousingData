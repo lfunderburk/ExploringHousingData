{
 "cells": [
  {
   "cell_type": "markdown",
   "metadata": {},
   "source": [
    "## Exploring housing markers in Canada and British Columbia\n",
    "\n",
    "\n",
    "Average value of new mortgage loan \n",
    "\n",
    "Canada, provinces and CMAs 2012 Q3 to 2020 Q3"
   ]
  },
  {
   "cell_type": "code",
   "execution_count": null,
   "metadata": {},
   "outputs": [],
   "source": [
    "%run main\n",
    "import plotly.express as px"
   ]
  },
  {
   "cell_type": "code",
   "execution_count": null,
   "metadata": {},
   "outputs": [],
   "source": [
    "data = \"./ExploringHousingData/data/\""
   ]
  },
  {
   "cell_type": "code",
   "execution_count": null,
   "metadata": {},
   "outputs": [],
   "source": [
    "# Read first dataset\n",
    "average_new_mortgage = pd.read_excel(data + \"average-value-new-mortgage-loans-ca-prov-cmas-2012-q3-2020-q3-en.xlsx\")\n",
    "average_new_mortgage.head(10)"
   ]
  },
  {
   "cell_type": "markdown",
   "metadata": {},
   "source": [
    "#### Data contains quite a bit of additional information"
   ]
  },
  {
   "cell_type": "code",
   "execution_count": null,
   "metadata": {},
   "outputs": [],
   "source": [
    "# Resetting column\n",
    "new_header = average_new_mortgage.iloc[3]\n",
    "average_new_mortgage = average_new_mortgage[4:]\n",
    "average_new_mortgage.columns = new_header"
   ]
  },
  {
   "cell_type": "code",
   "execution_count": null,
   "metadata": {},
   "outputs": [],
   "source": [
    "# Data cleanup\n",
    "# Remove last 24 entries\n",
    "average_new_mortgage = average_new_mortgage.iloc[:-24,1:]\n",
    "# Reset index\n",
    "average_new_mortgage.reset_index(inplace=True)\n",
    "# Remove 'index' column \n",
    "average_new_mortgage.drop(['index'],inplace=True,axis=1)"
   ]
  },
  {
   "cell_type": "markdown",
   "metadata": {},
   "source": [
    "Cleanup of rows"
   ]
  },
  {
   "cell_type": "code",
   "execution_count": null,
   "metadata": {},
   "outputs": [],
   "source": [
    "average_new_mortgage.drop([1,12],inplace=True,axis=0)\n",
    "average_new_mortgage.reset_index(inplace=True)\n",
    "average_new_mortgage.drop(['index'],inplace=True,axis=1)"
   ]
  },
  {
   "cell_type": "markdown",
   "metadata": {},
   "source": [
    "Data needs a fair amount of reformatting."
   ]
  },
  {
   "cell_type": "code",
   "execution_count": null,
   "metadata": {},
   "outputs": [],
   "source": [
    "average_new_mortgage\n",
    "average_new_mortgage['Region/City'] = \"\"\n",
    "average_new_mortgage['Region/City'][average_new_mortgage.index ==0] = 'Country'\n",
    "average_new_mortgage['Region/City'][(average_new_mortgage.index < 11) & (average_new_mortgage.index >0)] = 'Province'\n",
    "average_new_mortgage['Region/City'][average_new_mortgage.index >= 11] = 'City'"
   ]
  },
  {
   "cell_type": "markdown",
   "metadata": {},
   "source": [
    "Rearrange columns"
   ]
  },
  {
   "cell_type": "code",
   "execution_count": null,
   "metadata": {},
   "outputs": [],
   "source": [
    "# Access columns\n",
    "cols = average_new_mortgage.columns.tolist()\n",
    "# Bring last col to front\n",
    "cols = cols[-1:] + cols[:-1]\n",
    "# Set new column order\n",
    "average_new_mortgage = average_new_mortgage[cols] "
   ]
  },
  {
   "cell_type": "markdown",
   "metadata": {},
   "source": [
    "Let's begin data exploration."
   ]
  },
  {
   "cell_type": "code",
   "execution_count": null,
   "metadata": {
    "scrolled": true
   },
   "outputs": [],
   "source": [
    "average_new_mortgage.info()"
   ]
  },
  {
   "cell_type": "markdown",
   "metadata": {},
   "source": [
    "Data types are incorrect. Let's convert to the right format."
   ]
  },
  {
   "cell_type": "code",
   "execution_count": null,
   "metadata": {},
   "outputs": [],
   "source": [
    "# Isolate yearly and quarterly columns and convert to numeric.\n",
    "int_cols = average_new_mortgage.columns.drop(['Region/City', 'Geography'])\n",
    "average_new_mortgage[int_cols] = average_new_mortgage[int_cols].apply(pd.to_numeric, errors='coerce')"
   ]
  },
  {
   "cell_type": "code",
   "execution_count": null,
   "metadata": {
    "scrolled": true
   },
   "outputs": [],
   "source": [
    "average_new_mortgage.info()"
   ]
  },
  {
   "cell_type": "markdown",
   "metadata": {},
   "source": [
    "Let's do summary statistics."
   ]
  },
  {
   "cell_type": "code",
   "execution_count": null,
   "metadata": {},
   "outputs": [],
   "source": [
    "average_new_mortgage.describe()"
   ]
  },
  {
   "cell_type": "code",
   "execution_count": null,
   "metadata": {
    "scrolled": true
   },
   "outputs": [],
   "source": [
    "sub_data = average_new_mortgage[average_new_mortgage['Region/City']==\"Province\"]\n",
    "sub_data.iloc[:,28:]"
   ]
  },
  {
   "cell_type": "code",
   "execution_count": null,
   "metadata": {},
   "outputs": [],
   "source": [
    "sub_data.iloc[:,28:].plot(kind='bar')"
   ]
  },
  {
   "cell_type": "markdown",
   "metadata": {},
   "source": [
    "## Exercise\n",
    "\n",
    "1. Identify different ways of visualizing data. \n",
    "2. What insights do you gain for the study period? \n",
    "3. How are these insights different for each province/city?"
   ]
  },
  {
   "cell_type": "code",
   "execution_count": null,
   "metadata": {},
   "outputs": [],
   "source": []
  }
 ],
 "metadata": {
  "kernelspec": {
   "display_name": "Python 3",
   "language": "python",
   "name": "python3"
  },
  "language_info": {
   "codemirror_mode": {
    "name": "ipython",
    "version": 3
   },
   "file_extension": ".py",
   "mimetype": "text/x-python",
   "name": "python",
   "nbconvert_exporter": "python",
   "pygments_lexer": "ipython3",
   "version": "3.7.6"
  }
 },
 "nbformat": 4,
 "nbformat_minor": 4
}
