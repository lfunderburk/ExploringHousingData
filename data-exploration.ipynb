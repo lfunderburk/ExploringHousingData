{
 "cells": [
  {
   "cell_type": "markdown",
   "metadata": {},
   "source": [
    "## Exploring housing markers in Canada and British Columbia\n",
    "\n",
    "\n",
    "Average value of new mortgage loan \n",
    "\n",
    "Canada, provinces and CMAs 2012 Q3 to 2020 Q3"
   ]
  },
  {
   "cell_type": "code",
   "execution_count": 5,
   "metadata": {
    "scrolled": true
   },
   "outputs": [],
   "source": [
    "%run ./scr/main.py\n",
    "import plotly.express as px"
   ]
  },
  {
   "cell_type": "code",
   "execution_count": 6,
   "metadata": {},
   "outputs": [],
   "source": [
    "data = \"./data/\""
   ]
  },
  {
   "cell_type": "code",
   "execution_count": 7,
   "metadata": {},
   "outputs": [],
   "source": [
    "# a function for data cleaning\n",
    "def data_prep(data_file):\n",
    "    df = pd.read_excel(data_file)\n",
    "    temp = df.copy()\n",
    "    \n",
    "    # Resetting column\n",
    "    new_header = temp.iloc[3]\n",
    "    temp = temp[4:]\n",
    "    temp.columns = new_header\n",
    "    \n",
    "    #Removing empty rows\n",
    "    temp.dropna(thresh=2, inplace=True)\n",
    "    #Ensuring the indices go from 0 without skipping any number\n",
    "    temp.reset_index(inplace=True)\n",
    "    temp.drop(['index'],inplace=True,axis=1)\n",
    "    #Selecting all rows until and including the row for \"Victoria\"\n",
    "    row_select = temp[temp['Geography']=='Victoria'].index\n",
    "    temp = temp.iloc[:row_select[0]+1,1:]\n",
    "    \n",
    "    #Categorize Geography as Country, Province, and City\n",
    "    temp['Region/City'] = \"\"\n",
    "    temp['Region/City'][temp.index ==0] = 'Country'\n",
    "    temp['Region/City'][(temp.index < 11) & (temp.index >0)] = 'Province'\n",
    "    temp['Region/City'][temp.index >= 11] = 'City'\n",
    "\n",
    "    #Rearrange columns -- bring column 'Region/City' to the 1st column position\n",
    "    # Access columns\n",
    "    cols = temp.columns.tolist()\n",
    "    # Bring last col to front\n",
    "    cols = cols[-1:] + cols[:-1]\n",
    "    # Set new column order\n",
    "    temp = temp[cols] \n",
    "    \n",
    "    #Converting data type to the right format\n",
    "    #Isolating yearly and quarterly columns and convert to numeric.\n",
    "    int_cols = temp.columns.drop(['Region/City', 'Geography'])\n",
    "    temp[int_cols] = temp[int_cols].apply(pd.to_numeric, errors='coerce')\n",
    "\n",
    "    return temp"
   ]
  },
  {
   "cell_type": "code",
   "execution_count": 8,
   "metadata": {},
   "outputs": [],
   "source": [
    "# a function for box or violin graphs\n",
    "def graph_region(df, level: str, graph_type: str):\n",
    "    \"\"\"\n",
    "    df: data frame object with mortage data\n",
    "    level: \"Province\" or \"City\"\n",
    "    graph_type: \"box\", \"violin\"\n",
    "    \"\"\"\n",
    "    \n",
    "    plot_dict = {'box': px.box,'violin': px.violin}\n",
    "    \n",
    "    def slice_data(df, level):\n",
    "        \"\"\"\n",
    "        Extract a subset of df based on level\n",
    "        Return a dataframe\n",
    "        \"\"\"\n",
    "        temp = df[df['Region/City']==level]\n",
    "        temp = pd.melt(temp, id_vars='Geography', value_vars=temp.columns[2:])\n",
    "        temp.rename(columns = {3:'Time'}, inplace = True)\n",
    "        return temp\n",
    "    \n",
    "    try:\n",
    "        region_df = slice_data(df, level)\n",
    "        fig = plot_dict[graph_type](region_df, x=\"Geography\", y=\"value\", color = \"Geography\", points='all')\n",
    "        fig.update_xaxes(tickangle=-45)\n",
    "        fig.show()\n",
    "    \n",
    "    except KeyError: print(\"Key not found. Make sure that 'level' is in ['Province','City']\", \n",
    "                           \"and 'graph_type' is in ['box','violin']\")\n"
   ]
  },
  {
   "cell_type": "code",
   "execution_count": 13,
   "metadata": {},
   "outputs": [],
   "source": [
    "data_file = data + \"average-value-new-mortgage-loans-ca-prov-cmas-2012-q3-2020-q3-en.xlsx\"\n",
    "df = data_prep(data_file)"
   ]
  },
  {
   "cell_type": "code",
   "execution_count": null,
   "metadata": {},
   "outputs": [],
   "source": [
    "graph_region(df, level='Province', graph_type='box')"
   ]
  },
  {
   "cell_type": "code",
   "execution_count": null,
   "metadata": {},
   "outputs": [],
   "source": [
    "# bar plot\n",
    "df_province = df[df['Region/City']==\"Province\"]\n",
    "df_province.iloc[:,2:].plot(kind='bar')"
   ]
  },
  {
   "cell_type": "code",
   "execution_count": 19,
   "metadata": {},
   "outputs": [
    {
     "ename": "AttributeError",
     "evalue": "'function' object has no attribute 'slice_data'",
     "output_type": "error",
     "traceback": [
      "\u001b[1;31m---------------------------------------------------------------------------\u001b[0m",
      "\u001b[1;31mAttributeError\u001b[0m                            Traceback (most recent call last)",
      "\u001b[1;32m<ipython-input-19-5c7029cd52c4>\u001b[0m in \u001b[0;36m<module>\u001b[1;34m\u001b[0m\n\u001b[0;32m      3\u001b[0m \u001b[1;31m# need to access the function slice_data within function data_prep\u001b[0m\u001b[1;33m\u001b[0m\u001b[1;33m\u001b[0m\u001b[1;33m\u001b[0m\u001b[0m\n\u001b[0;32m      4\u001b[0m \u001b[1;33m\u001b[0m\u001b[0m\n\u001b[1;32m----> 5\u001b[1;33m \u001b[0mtemp\u001b[0m \u001b[1;33m=\u001b[0m \u001b[0mdata_prep\u001b[0m\u001b[1;33m.\u001b[0m\u001b[0mslice_data\u001b[0m\u001b[1;33m(\u001b[0m\u001b[0mdf\u001b[0m\u001b[1;33m,\u001b[0m\u001b[0mlevel\u001b[0m\u001b[1;33m=\u001b[0m\u001b[1;34m'Province'\u001b[0m\u001b[1;33m)\u001b[0m\u001b[1;33m\u001b[0m\u001b[1;33m\u001b[0m\u001b[0m\n\u001b[0m\u001b[0;32m      6\u001b[0m \u001b[0mfig\u001b[0m \u001b[1;33m=\u001b[0m \u001b[0mpx\u001b[0m\u001b[1;33m.\u001b[0m\u001b[0mline\u001b[0m\u001b[1;33m(\u001b[0m\u001b[0mdf\u001b[0m\u001b[1;33m,\u001b[0m \u001b[0mx\u001b[0m\u001b[1;33m=\u001b[0m\u001b[1;34m'Time'\u001b[0m\u001b[1;33m,\u001b[0m \u001b[0my\u001b[0m\u001b[1;33m=\u001b[0m\u001b[1;34m'value'\u001b[0m\u001b[1;33m,\u001b[0m \u001b[0mcolor\u001b[0m \u001b[1;33m=\u001b[0m \u001b[1;34m'Geography'\u001b[0m\u001b[1;33m)\u001b[0m\u001b[1;33m\u001b[0m\u001b[1;33m\u001b[0m\u001b[0m\n\u001b[0;32m      7\u001b[0m \u001b[0mfig\u001b[0m\u001b[1;33m.\u001b[0m\u001b[0mupdate_xaxes\u001b[0m\u001b[1;33m(\u001b[0m\u001b[0mtickangle\u001b[0m\u001b[1;33m=\u001b[0m\u001b[1;33m-\u001b[0m\u001b[1;36m45\u001b[0m\u001b[1;33m)\u001b[0m\u001b[1;33m\u001b[0m\u001b[1;33m\u001b[0m\u001b[0m\n",
      "\u001b[1;31mAttributeError\u001b[0m: 'function' object has no attribute 'slice_data'"
     ]
    }
   ],
   "source": [
    "#line plot\n",
    "\n",
    "# need to access the function slice_data within function data_prep\n",
    "\n",
    "temp = data_prep.slice_data(df,level='Province')\n",
    "fig = px.line(df, x='Time', y='value', color = 'Geography')\n",
    "fig.update_xaxes(tickangle=-45)\n",
    "fig.show()"
   ]
  },
  {
   "cell_type": "markdown",
   "metadata": {},
   "source": [
    "# Delinquency"
   ]
  },
  {
   "cell_type": "code",
   "execution_count": 11,
   "metadata": {},
   "outputs": [],
   "source": [
    "data_delinquency = data + \"mortgage-delinquency-rate-ca-prov-cmas-2012-q3-2020-q4-en.xlsx\"\n",
    "df_delin = data_prep(data_delinquency)"
   ]
  },
  {
   "cell_type": "code",
   "execution_count": 30,
   "metadata": {
    "collapsed": true
   },
   "outputs": [
    {
     "data": {
      "application/vnd.plotly.v1+json": {
       "config": {
        "plotlyServerURL": "https://plot.ly"
       },
       "data": [
        {
         "alignmentgroup": "True",
         "boxpoints": "all",
         "hovertemplate": "Geography=%{x}<br>value=%{y}<extra></extra>",
         "legendgroup": "Newfoundland",
         "marker": {
          "color": "#636efa"
         },
         "name": "Newfoundland",
         "notched": false,
         "offsetgroup": "Newfoundland",
         "orientation": "v",
         "showlegend": true,
         "type": "box",
         "x": [
          "Newfoundland",
          "Newfoundland",
          "Newfoundland",
          "Newfoundland",
          "Newfoundland",
          "Newfoundland",
          "Newfoundland",
          "Newfoundland",
          "Newfoundland",
          "Newfoundland",
          "Newfoundland",
          "Newfoundland",
          "Newfoundland",
          "Newfoundland",
          "Newfoundland",
          "Newfoundland",
          "Newfoundland",
          "Newfoundland",
          "Newfoundland",
          "Newfoundland",
          "Newfoundland",
          "Newfoundland",
          "Newfoundland",
          "Newfoundland",
          "Newfoundland",
          "Newfoundland",
          "Newfoundland",
          "Newfoundland",
          "Newfoundland",
          "Newfoundland",
          "Newfoundland",
          "Newfoundland",
          "Newfoundland",
          "Newfoundland"
         ],
         "x0": " ",
         "xaxis": "x",
         "y": [
          0.24,
          0.22,
          0.25,
          0.19,
          0.2,
          0.22,
          0.23,
          0.25,
          0.26,
          0.28,
          0.37,
          0.37,
          0.37,
          0.41,
          0.45,
          0.46,
          0.49,
          0.46,
          0.47,
          0.47,
          0.46,
          0.52,
          0.56,
          0.6,
          0.6,
          0.62,
          0.64,
          0.65,
          0.65,
          0.65,
          0.67,
          0.68,
          0.64,
          0.51
         ],
         "y0": " ",
         "yaxis": "y"
        },
        {
         "alignmentgroup": "True",
         "boxpoints": "all",
         "hovertemplate": "Geography=%{x}<br>value=%{y}<extra></extra>",
         "legendgroup": "Prince Edward Island",
         "marker": {
          "color": "#EF553B"
         },
         "name": "Prince Edward Island",
         "notched": false,
         "offsetgroup": "Prince Edward Island",
         "orientation": "v",
         "showlegend": true,
         "type": "box",
         "x": [
          "Prince Edward Island",
          "Prince Edward Island",
          "Prince Edward Island",
          "Prince Edward Island",
          "Prince Edward Island",
          "Prince Edward Island",
          "Prince Edward Island",
          "Prince Edward Island",
          "Prince Edward Island",
          "Prince Edward Island",
          "Prince Edward Island",
          "Prince Edward Island",
          "Prince Edward Island",
          "Prince Edward Island",
          "Prince Edward Island",
          "Prince Edward Island",
          "Prince Edward Island",
          "Prince Edward Island",
          "Prince Edward Island",
          "Prince Edward Island",
          "Prince Edward Island",
          "Prince Edward Island",
          "Prince Edward Island",
          "Prince Edward Island",
          "Prince Edward Island",
          "Prince Edward Island",
          "Prince Edward Island",
          "Prince Edward Island",
          "Prince Edward Island",
          "Prince Edward Island",
          "Prince Edward Island",
          "Prince Edward Island",
          "Prince Edward Island",
          "Prince Edward Island"
         ],
         "x0": " ",
         "xaxis": "x",
         "y": [
          0.57,
          0.5,
          0.55,
          0.47,
          0.56,
          0.58,
          0.6,
          0.6,
          0.56,
          0.57,
          0.68,
          0.62,
          0.63,
          0.67,
          0.7,
          0.7,
          0.67,
          0.6,
          0.66,
          0.55,
          0.54,
          0.44,
          0.5,
          0.45,
          0.43,
          0.39,
          0.39,
          0.38,
          0.34,
          0.32,
          0.25,
          0.26,
          0.27,
          0.2
         ],
         "y0": " ",
         "yaxis": "y"
        },
        {
         "alignmentgroup": "True",
         "boxpoints": "all",
         "hovertemplate": "Geography=%{x}<br>value=%{y}<extra></extra>",
         "legendgroup": "Nova Scotia",
         "marker": {
          "color": "#00cc96"
         },
         "name": "Nova Scotia",
         "notched": false,
         "offsetgroup": "Nova Scotia",
         "orientation": "v",
         "showlegend": true,
         "type": "box",
         "x": [
          "Nova Scotia",
          "Nova Scotia",
          "Nova Scotia",
          "Nova Scotia",
          "Nova Scotia",
          "Nova Scotia",
          "Nova Scotia",
          "Nova Scotia",
          "Nova Scotia",
          "Nova Scotia",
          "Nova Scotia",
          "Nova Scotia",
          "Nova Scotia",
          "Nova Scotia",
          "Nova Scotia",
          "Nova Scotia",
          "Nova Scotia",
          "Nova Scotia",
          "Nova Scotia",
          "Nova Scotia",
          "Nova Scotia",
          "Nova Scotia",
          "Nova Scotia",
          "Nova Scotia",
          "Nova Scotia",
          "Nova Scotia",
          "Nova Scotia",
          "Nova Scotia",
          "Nova Scotia",
          "Nova Scotia",
          "Nova Scotia",
          "Nova Scotia",
          "Nova Scotia",
          "Nova Scotia"
         ],
         "x0": " ",
         "xaxis": "x",
         "y": [
          0.53,
          0.53,
          0.55,
          0.56,
          0.58,
          0.62,
          0.65,
          0.65,
          0.67,
          0.68,
          0.7,
          0.67,
          0.66,
          0.68,
          0.7,
          0.72,
          0.76,
          0.75,
          0.7,
          0.64,
          0.6,
          0.58,
          0.59,
          0.54,
          0.52,
          0.56,
          0.54,
          0.52,
          0.5,
          0.5,
          0.46,
          0.47,
          0.45,
          0.38
         ],
         "y0": " ",
         "yaxis": "y"
        },
        {
         "alignmentgroup": "True",
         "boxpoints": "all",
         "hovertemplate": "Geography=%{x}<br>value=%{y}<extra></extra>",
         "legendgroup": "New Brunswick",
         "marker": {
          "color": "#ab63fa"
         },
         "name": "New Brunswick",
         "notched": false,
         "offsetgroup": "New Brunswick",
         "orientation": "v",
         "showlegend": true,
         "type": "box",
         "x": [
          "New Brunswick",
          "New Brunswick",
          "New Brunswick",
          "New Brunswick",
          "New Brunswick",
          "New Brunswick",
          "New Brunswick",
          "New Brunswick",
          "New Brunswick",
          "New Brunswick",
          "New Brunswick",
          "New Brunswick",
          "New Brunswick",
          "New Brunswick",
          "New Brunswick",
          "New Brunswick",
          "New Brunswick",
          "New Brunswick",
          "New Brunswick",
          "New Brunswick",
          "New Brunswick",
          "New Brunswick",
          "New Brunswick",
          "New Brunswick",
          "New Brunswick",
          "New Brunswick",
          "New Brunswick",
          "New Brunswick",
          "New Brunswick",
          "New Brunswick",
          "New Brunswick",
          "New Brunswick",
          "New Brunswick",
          "New Brunswick"
         ],
         "x0": " ",
         "xaxis": "x",
         "y": [
          0.63,
          0.63,
          0.65,
          0.6,
          0.61,
          0.68,
          0.72,
          0.67,
          0.72,
          0.72,
          0.79,
          0.8,
          0.81,
          0.79,
          0.82,
          0.78,
          0.84,
          0.79,
          0.78,
          0.73,
          0.71,
          0.66,
          0.65,
          0.59,
          0.58,
          0.62,
          0.63,
          0.6,
          0.57,
          0.57,
          0.57,
          0.54,
          0.52,
          0.43
         ],
         "y0": " ",
         "yaxis": "y"
        },
        {
         "alignmentgroup": "True",
         "boxpoints": "all",
         "hovertemplate": "Geography=%{x}<br>value=%{y}<extra></extra>",
         "legendgroup": "Québec",
         "marker": {
          "color": "#FFA15A"
         },
         "name": "Québec",
         "notched": false,
         "offsetgroup": "Québec",
         "orientation": "v",
         "showlegend": true,
         "type": "box",
         "x": [
          "Québec",
          "Québec",
          "Québec",
          "Québec",
          "Québec",
          "Québec",
          "Québec",
          "Québec",
          "Québec",
          "Québec",
          "Québec",
          "Québec",
          "Québec",
          "Québec",
          "Québec",
          "Québec",
          "Québec",
          "Québec",
          "Québec",
          "Québec",
          "Québec",
          "Québec",
          "Québec",
          "Québec",
          "Québec",
          "Québec",
          "Québec",
          "Québec",
          "Québec",
          "Québec",
          "Québec",
          "Québec",
          "Québec",
          "Québec"
         ],
         "x0": " ",
         "xaxis": "x",
         "y": [
          0.33,
          0.33,
          0.35,
          0.34,
          0.33,
          0.35,
          0.37,
          0.36,
          0.37,
          0.39,
          0.42,
          0.41,
          0.41,
          0.42,
          0.44,
          0.43,
          0.42,
          0.4,
          0.41,
          0.4,
          0.37,
          0.34,
          0.34,
          0.35,
          0.35,
          0.38,
          0.38,
          0.37,
          0.37,
          0.36,
          0.36,
          0.34,
          0.36,
          0.3
         ],
         "y0": " ",
         "yaxis": "y"
        },
        {
         "alignmentgroup": "True",
         "boxpoints": "all",
         "hovertemplate": "Geography=%{x}<br>value=%{y}<extra></extra>",
         "legendgroup": "Ontario",
         "marker": {
          "color": "#19d3f3"
         },
         "name": "Ontario",
         "notched": false,
         "offsetgroup": "Ontario",
         "orientation": "v",
         "showlegend": true,
         "type": "box",
         "x": [
          "Ontario",
          "Ontario",
          "Ontario",
          "Ontario",
          "Ontario",
          "Ontario",
          "Ontario",
          "Ontario",
          "Ontario",
          "Ontario",
          "Ontario",
          "Ontario",
          "Ontario",
          "Ontario",
          "Ontario",
          "Ontario",
          "Ontario",
          "Ontario",
          "Ontario",
          "Ontario",
          "Ontario",
          "Ontario",
          "Ontario",
          "Ontario",
          "Ontario",
          "Ontario",
          "Ontario",
          "Ontario",
          "Ontario",
          "Ontario",
          "Ontario",
          "Ontario",
          "Ontario",
          "Ontario"
         ],
         "x0": " ",
         "xaxis": "x",
         "y": [
          0.31,
          0.31,
          0.31,
          0.29,
          0.28,
          0.28,
          0.29,
          0.27,
          0.27,
          0.26,
          0.27,
          0.25,
          0.24,
          0.23,
          0.24,
          0.22,
          0.2,
          0.19,
          0.18,
          0.16,
          0.16,
          0.15,
          0.15,
          0.14,
          0.13,
          0.14,
          0.14,
          0.14,
          0.14,
          0.14,
          0.14,
          0.14,
          0.14,
          0.12
         ],
         "y0": " ",
         "yaxis": "y"
        },
        {
         "alignmentgroup": "True",
         "boxpoints": "all",
         "hovertemplate": "Geography=%{x}<br>value=%{y}<extra></extra>",
         "legendgroup": "Manitoba",
         "marker": {
          "color": "#FF6692"
         },
         "name": "Manitoba",
         "notched": false,
         "offsetgroup": "Manitoba",
         "orientation": "v",
         "showlegend": true,
         "type": "box",
         "x": [
          "Manitoba",
          "Manitoba",
          "Manitoba",
          "Manitoba",
          "Manitoba",
          "Manitoba",
          "Manitoba",
          "Manitoba",
          "Manitoba",
          "Manitoba",
          "Manitoba",
          "Manitoba",
          "Manitoba",
          "Manitoba",
          "Manitoba",
          "Manitoba",
          "Manitoba",
          "Manitoba",
          "Manitoba",
          "Manitoba",
          "Manitoba",
          "Manitoba",
          "Manitoba",
          "Manitoba",
          "Manitoba",
          "Manitoba",
          "Manitoba",
          "Manitoba",
          "Manitoba",
          "Manitoba",
          "Manitoba",
          "Manitoba",
          "Manitoba",
          "Manitoba"
         ],
         "x0": " ",
         "xaxis": "x",
         "y": [
          0.25,
          0.27,
          0.28,
          0.26,
          0.28,
          0.28,
          0.28,
          0.25,
          0.24,
          0.27,
          0.31,
          0.3,
          0.29,
          0.33,
          0.34,
          0.35,
          0.34,
          0.35,
          0.36,
          0.35,
          0.33,
          0.3,
          0.3,
          0.31,
          0.32,
          0.35,
          0.35,
          0.35,
          0.34,
          0.36,
          0.37,
          0.38,
          0.35,
          0.3
         ],
         "y0": " ",
         "yaxis": "y"
        },
        {
         "alignmentgroup": "True",
         "boxpoints": "all",
         "hovertemplate": "Geography=%{x}<br>value=%{y}<extra></extra>",
         "legendgroup": "Saskatchewan",
         "marker": {
          "color": "#B6E880"
         },
         "name": "Saskatchewan",
         "notched": false,
         "offsetgroup": "Saskatchewan",
         "orientation": "v",
         "showlegend": true,
         "type": "box",
         "x": [
          "Saskatchewan",
          "Saskatchewan",
          "Saskatchewan",
          "Saskatchewan",
          "Saskatchewan",
          "Saskatchewan",
          "Saskatchewan",
          "Saskatchewan",
          "Saskatchewan",
          "Saskatchewan",
          "Saskatchewan",
          "Saskatchewan",
          "Saskatchewan",
          "Saskatchewan",
          "Saskatchewan",
          "Saskatchewan",
          "Saskatchewan",
          "Saskatchewan",
          "Saskatchewan",
          "Saskatchewan",
          "Saskatchewan",
          "Saskatchewan",
          "Saskatchewan",
          "Saskatchewan",
          "Saskatchewan",
          "Saskatchewan",
          "Saskatchewan",
          "Saskatchewan",
          "Saskatchewan",
          "Saskatchewan",
          "Saskatchewan",
          "Saskatchewan",
          "Saskatchewan",
          "Saskatchewan"
         ],
         "x0": " ",
         "xaxis": "x",
         "y": [
          0.37,
          0.37,
          0.36,
          0.34,
          0.3,
          0.32,
          0.35,
          0.31,
          0.32,
          0.36,
          0.41,
          0.43,
          0.45,
          0.49,
          0.54,
          0.57,
          0.61,
          0.62,
          0.62,
          0.66,
          0.65,
          0.66,
          0.66,
          0.67,
          0.7,
          0.72,
          0.74,
          0.75,
          0.73,
          0.73,
          0.75,
          0.76,
          0.72,
          0.63
         ],
         "y0": " ",
         "yaxis": "y"
        },
        {
         "alignmentgroup": "True",
         "boxpoints": "all",
         "hovertemplate": "Geography=%{x}<br>value=%{y}<extra></extra>",
         "legendgroup": "Alberta",
         "marker": {
          "color": "#FF97FF"
         },
         "name": "Alberta",
         "notched": false,
         "offsetgroup": "Alberta",
         "orientation": "v",
         "showlegend": true,
         "type": "box",
         "x": [
          "Alberta",
          "Alberta",
          "Alberta",
          "Alberta",
          "Alberta",
          "Alberta",
          "Alberta",
          "Alberta",
          "Alberta",
          "Alberta",
          "Alberta",
          "Alberta",
          "Alberta",
          "Alberta",
          "Alberta",
          "Alberta",
          "Alberta",
          "Alberta",
          "Alberta",
          "Alberta",
          "Alberta",
          "Alberta",
          "Alberta",
          "Alberta",
          "Alberta",
          "Alberta",
          "Alberta",
          "Alberta",
          "Alberta",
          "Alberta",
          "Alberta",
          "Alberta",
          "Alberta",
          "Alberta"
         ],
         "x0": " ",
         "xaxis": "x",
         "y": [
          0.6,
          0.55,
          0.52,
          0.47,
          0.45,
          0.43,
          0.42,
          0.37,
          0.34,
          0.32,
          0.32,
          0.33,
          0.35,
          0.36,
          0.41,
          0.45,
          0.53,
          0.53,
          0.54,
          0.52,
          0.51,
          0.5,
          0.5,
          0.46,
          0.47,
          0.5,
          0.51,
          0.53,
          0.51,
          0.5,
          0.52,
          0.52,
          0.5,
          0.44
         ],
         "y0": " ",
         "yaxis": "y"
        },
        {
         "alignmentgroup": "True",
         "boxpoints": "all",
         "hovertemplate": "Geography=%{x}<br>value=%{y}<extra></extra>",
         "legendgroup": "British Columbia",
         "marker": {
          "color": "#FECB52"
         },
         "name": "British Columbia",
         "notched": false,
         "offsetgroup": "British Columbia",
         "orientation": "v",
         "showlegend": true,
         "type": "box",
         "x": [
          "British Columbia",
          "British Columbia",
          "British Columbia",
          "British Columbia",
          "British Columbia",
          "British Columbia",
          "British Columbia",
          "British Columbia",
          "British Columbia",
          "British Columbia",
          "British Columbia",
          "British Columbia",
          "British Columbia",
          "British Columbia",
          "British Columbia",
          "British Columbia",
          "British Columbia",
          "British Columbia",
          "British Columbia",
          "British Columbia",
          "British Columbia",
          "British Columbia",
          "British Columbia",
          "British Columbia",
          "British Columbia",
          "British Columbia",
          "British Columbia",
          "British Columbia",
          "British Columbia",
          "British Columbia",
          "British Columbia",
          "British Columbia",
          "British Columbia",
          "British Columbia"
         ],
         "x0": " ",
         "xaxis": "x",
         "y": [
          0.42,
          0.42,
          0.43,
          0.43,
          0.42,
          0.43,
          0.43,
          0.4,
          0.4,
          0.4,
          0.4,
          0.38,
          0.34,
          0.32,
          0.32,
          0.29,
          0.26,
          0.25,
          0.23,
          0.2,
          0.18,
          0.18,
          0.17,
          0.17,
          0.16,
          0.17,
          0.17,
          0.17,
          0.16,
          0.16,
          0.17,
          0.19,
          0.19,
          0.16
         ],
         "y0": " ",
         "yaxis": "y"
        }
       ],
       "layout": {
        "boxmode": "overlay",
        "legend": {
         "title": {
          "text": "Geography"
         },
         "tracegroupgap": 0
        },
        "margin": {
         "t": 60
        },
        "template": {
         "data": {
          "bar": [
           {
            "error_x": {
             "color": "#2a3f5f"
            },
            "error_y": {
             "color": "#2a3f5f"
            },
            "marker": {
             "line": {
              "color": "#E5ECF6",
              "width": 0.5
             }
            },
            "type": "bar"
           }
          ],
          "barpolar": [
           {
            "marker": {
             "line": {
              "color": "#E5ECF6",
              "width": 0.5
             }
            },
            "type": "barpolar"
           }
          ],
          "carpet": [
           {
            "aaxis": {
             "endlinecolor": "#2a3f5f",
             "gridcolor": "white",
             "linecolor": "white",
             "minorgridcolor": "white",
             "startlinecolor": "#2a3f5f"
            },
            "baxis": {
             "endlinecolor": "#2a3f5f",
             "gridcolor": "white",
             "linecolor": "white",
             "minorgridcolor": "white",
             "startlinecolor": "#2a3f5f"
            },
            "type": "carpet"
           }
          ],
          "choropleth": [
           {
            "colorbar": {
             "outlinewidth": 0,
             "ticks": ""
            },
            "type": "choropleth"
           }
          ],
          "contour": [
           {
            "colorbar": {
             "outlinewidth": 0,
             "ticks": ""
            },
            "colorscale": [
             [
              0,
              "#0d0887"
             ],
             [
              0.1111111111111111,
              "#46039f"
             ],
             [
              0.2222222222222222,
              "#7201a8"
             ],
             [
              0.3333333333333333,
              "#9c179e"
             ],
             [
              0.4444444444444444,
              "#bd3786"
             ],
             [
              0.5555555555555556,
              "#d8576b"
             ],
             [
              0.6666666666666666,
              "#ed7953"
             ],
             [
              0.7777777777777778,
              "#fb9f3a"
             ],
             [
              0.8888888888888888,
              "#fdca26"
             ],
             [
              1,
              "#f0f921"
             ]
            ],
            "type": "contour"
           }
          ],
          "contourcarpet": [
           {
            "colorbar": {
             "outlinewidth": 0,
             "ticks": ""
            },
            "type": "contourcarpet"
           }
          ],
          "heatmap": [
           {
            "colorbar": {
             "outlinewidth": 0,
             "ticks": ""
            },
            "colorscale": [
             [
              0,
              "#0d0887"
             ],
             [
              0.1111111111111111,
              "#46039f"
             ],
             [
              0.2222222222222222,
              "#7201a8"
             ],
             [
              0.3333333333333333,
              "#9c179e"
             ],
             [
              0.4444444444444444,
              "#bd3786"
             ],
             [
              0.5555555555555556,
              "#d8576b"
             ],
             [
              0.6666666666666666,
              "#ed7953"
             ],
             [
              0.7777777777777778,
              "#fb9f3a"
             ],
             [
              0.8888888888888888,
              "#fdca26"
             ],
             [
              1,
              "#f0f921"
             ]
            ],
            "type": "heatmap"
           }
          ],
          "heatmapgl": [
           {
            "colorbar": {
             "outlinewidth": 0,
             "ticks": ""
            },
            "colorscale": [
             [
              0,
              "#0d0887"
             ],
             [
              0.1111111111111111,
              "#46039f"
             ],
             [
              0.2222222222222222,
              "#7201a8"
             ],
             [
              0.3333333333333333,
              "#9c179e"
             ],
             [
              0.4444444444444444,
              "#bd3786"
             ],
             [
              0.5555555555555556,
              "#d8576b"
             ],
             [
              0.6666666666666666,
              "#ed7953"
             ],
             [
              0.7777777777777778,
              "#fb9f3a"
             ],
             [
              0.8888888888888888,
              "#fdca26"
             ],
             [
              1,
              "#f0f921"
             ]
            ],
            "type": "heatmapgl"
           }
          ],
          "histogram": [
           {
            "marker": {
             "colorbar": {
              "outlinewidth": 0,
              "ticks": ""
             }
            },
            "type": "histogram"
           }
          ],
          "histogram2d": [
           {
            "colorbar": {
             "outlinewidth": 0,
             "ticks": ""
            },
            "colorscale": [
             [
              0,
              "#0d0887"
             ],
             [
              0.1111111111111111,
              "#46039f"
             ],
             [
              0.2222222222222222,
              "#7201a8"
             ],
             [
              0.3333333333333333,
              "#9c179e"
             ],
             [
              0.4444444444444444,
              "#bd3786"
             ],
             [
              0.5555555555555556,
              "#d8576b"
             ],
             [
              0.6666666666666666,
              "#ed7953"
             ],
             [
              0.7777777777777778,
              "#fb9f3a"
             ],
             [
              0.8888888888888888,
              "#fdca26"
             ],
             [
              1,
              "#f0f921"
             ]
            ],
            "type": "histogram2d"
           }
          ],
          "histogram2dcontour": [
           {
            "colorbar": {
             "outlinewidth": 0,
             "ticks": ""
            },
            "colorscale": [
             [
              0,
              "#0d0887"
             ],
             [
              0.1111111111111111,
              "#46039f"
             ],
             [
              0.2222222222222222,
              "#7201a8"
             ],
             [
              0.3333333333333333,
              "#9c179e"
             ],
             [
              0.4444444444444444,
              "#bd3786"
             ],
             [
              0.5555555555555556,
              "#d8576b"
             ],
             [
              0.6666666666666666,
              "#ed7953"
             ],
             [
              0.7777777777777778,
              "#fb9f3a"
             ],
             [
              0.8888888888888888,
              "#fdca26"
             ],
             [
              1,
              "#f0f921"
             ]
            ],
            "type": "histogram2dcontour"
           }
          ],
          "mesh3d": [
           {
            "colorbar": {
             "outlinewidth": 0,
             "ticks": ""
            },
            "type": "mesh3d"
           }
          ],
          "parcoords": [
           {
            "line": {
             "colorbar": {
              "outlinewidth": 0,
              "ticks": ""
             }
            },
            "type": "parcoords"
           }
          ],
          "pie": [
           {
            "automargin": true,
            "type": "pie"
           }
          ],
          "scatter": [
           {
            "marker": {
             "colorbar": {
              "outlinewidth": 0,
              "ticks": ""
             }
            },
            "type": "scatter"
           }
          ],
          "scatter3d": [
           {
            "line": {
             "colorbar": {
              "outlinewidth": 0,
              "ticks": ""
             }
            },
            "marker": {
             "colorbar": {
              "outlinewidth": 0,
              "ticks": ""
             }
            },
            "type": "scatter3d"
           }
          ],
          "scattercarpet": [
           {
            "marker": {
             "colorbar": {
              "outlinewidth": 0,
              "ticks": ""
             }
            },
            "type": "scattercarpet"
           }
          ],
          "scattergeo": [
           {
            "marker": {
             "colorbar": {
              "outlinewidth": 0,
              "ticks": ""
             }
            },
            "type": "scattergeo"
           }
          ],
          "scattergl": [
           {
            "marker": {
             "colorbar": {
              "outlinewidth": 0,
              "ticks": ""
             }
            },
            "type": "scattergl"
           }
          ],
          "scattermapbox": [
           {
            "marker": {
             "colorbar": {
              "outlinewidth": 0,
              "ticks": ""
             }
            },
            "type": "scattermapbox"
           }
          ],
          "scatterpolar": [
           {
            "marker": {
             "colorbar": {
              "outlinewidth": 0,
              "ticks": ""
             }
            },
            "type": "scatterpolar"
           }
          ],
          "scatterpolargl": [
           {
            "marker": {
             "colorbar": {
              "outlinewidth": 0,
              "ticks": ""
             }
            },
            "type": "scatterpolargl"
           }
          ],
          "scatterternary": [
           {
            "marker": {
             "colorbar": {
              "outlinewidth": 0,
              "ticks": ""
             }
            },
            "type": "scatterternary"
           }
          ],
          "surface": [
           {
            "colorbar": {
             "outlinewidth": 0,
             "ticks": ""
            },
            "colorscale": [
             [
              0,
              "#0d0887"
             ],
             [
              0.1111111111111111,
              "#46039f"
             ],
             [
              0.2222222222222222,
              "#7201a8"
             ],
             [
              0.3333333333333333,
              "#9c179e"
             ],
             [
              0.4444444444444444,
              "#bd3786"
             ],
             [
              0.5555555555555556,
              "#d8576b"
             ],
             [
              0.6666666666666666,
              "#ed7953"
             ],
             [
              0.7777777777777778,
              "#fb9f3a"
             ],
             [
              0.8888888888888888,
              "#fdca26"
             ],
             [
              1,
              "#f0f921"
             ]
            ],
            "type": "surface"
           }
          ],
          "table": [
           {
            "cells": {
             "fill": {
              "color": "#EBF0F8"
             },
             "line": {
              "color": "white"
             }
            },
            "header": {
             "fill": {
              "color": "#C8D4E3"
             },
             "line": {
              "color": "white"
             }
            },
            "type": "table"
           }
          ]
         },
         "layout": {
          "annotationdefaults": {
           "arrowcolor": "#2a3f5f",
           "arrowhead": 0,
           "arrowwidth": 1
          },
          "autotypenumbers": "strict",
          "coloraxis": {
           "colorbar": {
            "outlinewidth": 0,
            "ticks": ""
           }
          },
          "colorscale": {
           "diverging": [
            [
             0,
             "#8e0152"
            ],
            [
             0.1,
             "#c51b7d"
            ],
            [
             0.2,
             "#de77ae"
            ],
            [
             0.3,
             "#f1b6da"
            ],
            [
             0.4,
             "#fde0ef"
            ],
            [
             0.5,
             "#f7f7f7"
            ],
            [
             0.6,
             "#e6f5d0"
            ],
            [
             0.7,
             "#b8e186"
            ],
            [
             0.8,
             "#7fbc41"
            ],
            [
             0.9,
             "#4d9221"
            ],
            [
             1,
             "#276419"
            ]
           ],
           "sequential": [
            [
             0,
             "#0d0887"
            ],
            [
             0.1111111111111111,
             "#46039f"
            ],
            [
             0.2222222222222222,
             "#7201a8"
            ],
            [
             0.3333333333333333,
             "#9c179e"
            ],
            [
             0.4444444444444444,
             "#bd3786"
            ],
            [
             0.5555555555555556,
             "#d8576b"
            ],
            [
             0.6666666666666666,
             "#ed7953"
            ],
            [
             0.7777777777777778,
             "#fb9f3a"
            ],
            [
             0.8888888888888888,
             "#fdca26"
            ],
            [
             1,
             "#f0f921"
            ]
           ],
           "sequentialminus": [
            [
             0,
             "#0d0887"
            ],
            [
             0.1111111111111111,
             "#46039f"
            ],
            [
             0.2222222222222222,
             "#7201a8"
            ],
            [
             0.3333333333333333,
             "#9c179e"
            ],
            [
             0.4444444444444444,
             "#bd3786"
            ],
            [
             0.5555555555555556,
             "#d8576b"
            ],
            [
             0.6666666666666666,
             "#ed7953"
            ],
            [
             0.7777777777777778,
             "#fb9f3a"
            ],
            [
             0.8888888888888888,
             "#fdca26"
            ],
            [
             1,
             "#f0f921"
            ]
           ]
          },
          "colorway": [
           "#636efa",
           "#EF553B",
           "#00cc96",
           "#ab63fa",
           "#FFA15A",
           "#19d3f3",
           "#FF6692",
           "#B6E880",
           "#FF97FF",
           "#FECB52"
          ],
          "font": {
           "color": "#2a3f5f"
          },
          "geo": {
           "bgcolor": "white",
           "lakecolor": "white",
           "landcolor": "#E5ECF6",
           "showlakes": true,
           "showland": true,
           "subunitcolor": "white"
          },
          "hoverlabel": {
           "align": "left"
          },
          "hovermode": "closest",
          "mapbox": {
           "style": "light"
          },
          "paper_bgcolor": "white",
          "plot_bgcolor": "#E5ECF6",
          "polar": {
           "angularaxis": {
            "gridcolor": "white",
            "linecolor": "white",
            "ticks": ""
           },
           "bgcolor": "#E5ECF6",
           "radialaxis": {
            "gridcolor": "white",
            "linecolor": "white",
            "ticks": ""
           }
          },
          "scene": {
           "xaxis": {
            "backgroundcolor": "#E5ECF6",
            "gridcolor": "white",
            "gridwidth": 2,
            "linecolor": "white",
            "showbackground": true,
            "ticks": "",
            "zerolinecolor": "white"
           },
           "yaxis": {
            "backgroundcolor": "#E5ECF6",
            "gridcolor": "white",
            "gridwidth": 2,
            "linecolor": "white",
            "showbackground": true,
            "ticks": "",
            "zerolinecolor": "white"
           },
           "zaxis": {
            "backgroundcolor": "#E5ECF6",
            "gridcolor": "white",
            "gridwidth": 2,
            "linecolor": "white",
            "showbackground": true,
            "ticks": "",
            "zerolinecolor": "white"
           }
          },
          "shapedefaults": {
           "line": {
            "color": "#2a3f5f"
           }
          },
          "ternary": {
           "aaxis": {
            "gridcolor": "white",
            "linecolor": "white",
            "ticks": ""
           },
           "baxis": {
            "gridcolor": "white",
            "linecolor": "white",
            "ticks": ""
           },
           "bgcolor": "#E5ECF6",
           "caxis": {
            "gridcolor": "white",
            "linecolor": "white",
            "ticks": ""
           }
          },
          "title": {
           "x": 0.05
          },
          "xaxis": {
           "automargin": true,
           "gridcolor": "white",
           "linecolor": "white",
           "ticks": "",
           "title": {
            "standoff": 15
           },
           "zerolinecolor": "white",
           "zerolinewidth": 2
          },
          "yaxis": {
           "automargin": true,
           "gridcolor": "white",
           "linecolor": "white",
           "ticks": "",
           "title": {
            "standoff": 15
           },
           "zerolinecolor": "white",
           "zerolinewidth": 2
          }
         }
        },
        "xaxis": {
         "anchor": "y",
         "categoryarray": [
          "Newfoundland",
          "Prince Edward Island",
          "Nova Scotia",
          "New Brunswick",
          "Québec",
          "Ontario",
          "Manitoba",
          "Saskatchewan",
          "Alberta",
          "British Columbia"
         ],
         "categoryorder": "array",
         "domain": [
          0,
          1
         ],
         "tickangle": -45,
         "title": {
          "text": "Geography"
         }
        },
        "yaxis": {
         "anchor": "x",
         "domain": [
          0,
          1
         ],
         "title": {
          "text": "value"
         }
        }
       }
      },
      "text/html": [
       "<div>                            <div id=\"930dc780-a5ef-464a-a935-d242567f1389\" class=\"plotly-graph-div\" style=\"height:525px; width:100%;\"></div>            <script type=\"text/javascript\">                require([\"plotly\"], function(Plotly) {                    window.PLOTLYENV=window.PLOTLYENV || {};                                    if (document.getElementById(\"930dc780-a5ef-464a-a935-d242567f1389\")) {                    Plotly.newPlot(                        \"930dc780-a5ef-464a-a935-d242567f1389\",                        [{\"alignmentgroup\": \"True\", \"boxpoints\": \"all\", \"hovertemplate\": \"Geography=%{x}<br>value=%{y}<extra></extra>\", \"legendgroup\": \"Newfoundland\", \"marker\": {\"color\": \"#636efa\"}, \"name\": \"Newfoundland\", \"notched\": false, \"offsetgroup\": \"Newfoundland\", \"orientation\": \"v\", \"showlegend\": true, \"type\": \"box\", \"x\": [\"Newfoundland\", \"Newfoundland\", \"Newfoundland\", \"Newfoundland\", \"Newfoundland\", \"Newfoundland\", \"Newfoundland\", \"Newfoundland\", \"Newfoundland\", \"Newfoundland\", \"Newfoundland\", \"Newfoundland\", \"Newfoundland\", \"Newfoundland\", \"Newfoundland\", \"Newfoundland\", \"Newfoundland\", \"Newfoundland\", \"Newfoundland\", \"Newfoundland\", \"Newfoundland\", \"Newfoundland\", \"Newfoundland\", \"Newfoundland\", \"Newfoundland\", \"Newfoundland\", \"Newfoundland\", \"Newfoundland\", \"Newfoundland\", \"Newfoundland\", \"Newfoundland\", \"Newfoundland\", \"Newfoundland\", \"Newfoundland\"], \"x0\": \" \", \"xaxis\": \"x\", \"y\": [0.24, 0.22, 0.25, 0.19, 0.2, 0.22, 0.23, 0.25, 0.26, 0.28, 0.37, 0.37, 0.37, 0.41, 0.45, 0.46, 0.49, 0.46, 0.47, 0.47, 0.46, 0.52, 0.56, 0.6, 0.6, 0.62, 0.64, 0.65, 0.65, 0.65, 0.67, 0.68, 0.64, 0.51], \"y0\": \" \", \"yaxis\": \"y\"}, {\"alignmentgroup\": \"True\", \"boxpoints\": \"all\", \"hovertemplate\": \"Geography=%{x}<br>value=%{y}<extra></extra>\", \"legendgroup\": \"Prince Edward Island\", \"marker\": {\"color\": \"#EF553B\"}, \"name\": \"Prince Edward Island\", \"notched\": false, \"offsetgroup\": \"Prince Edward Island\", \"orientation\": \"v\", \"showlegend\": true, \"type\": \"box\", \"x\": [\"Prince Edward Island\", \"Prince Edward Island\", \"Prince Edward Island\", \"Prince Edward Island\", \"Prince Edward Island\", \"Prince Edward Island\", \"Prince Edward Island\", \"Prince Edward Island\", \"Prince Edward Island\", \"Prince Edward Island\", \"Prince Edward Island\", \"Prince Edward Island\", \"Prince Edward Island\", \"Prince Edward Island\", \"Prince Edward Island\", \"Prince Edward Island\", \"Prince Edward Island\", \"Prince Edward Island\", \"Prince Edward Island\", \"Prince Edward Island\", \"Prince Edward Island\", \"Prince Edward Island\", \"Prince Edward Island\", \"Prince Edward Island\", \"Prince Edward Island\", \"Prince Edward Island\", \"Prince Edward Island\", \"Prince Edward Island\", \"Prince Edward Island\", \"Prince Edward Island\", \"Prince Edward Island\", \"Prince Edward Island\", \"Prince Edward Island\", \"Prince Edward Island\"], \"x0\": \" \", \"xaxis\": \"x\", \"y\": [0.57, 0.5, 0.55, 0.47, 0.56, 0.58, 0.6, 0.6, 0.56, 0.57, 0.68, 0.62, 0.63, 0.67, 0.7, 0.7, 0.67, 0.6, 0.66, 0.55, 0.54, 0.44, 0.5, 0.45, 0.43, 0.39, 0.39, 0.38, 0.34, 0.32, 0.25, 0.26, 0.27, 0.2], \"y0\": \" \", \"yaxis\": \"y\"}, {\"alignmentgroup\": \"True\", \"boxpoints\": \"all\", \"hovertemplate\": \"Geography=%{x}<br>value=%{y}<extra></extra>\", \"legendgroup\": \"Nova Scotia\", \"marker\": {\"color\": \"#00cc96\"}, \"name\": \"Nova Scotia\", \"notched\": false, \"offsetgroup\": \"Nova Scotia\", \"orientation\": \"v\", \"showlegend\": true, \"type\": \"box\", \"x\": [\"Nova Scotia\", \"Nova Scotia\", \"Nova Scotia\", \"Nova Scotia\", \"Nova Scotia\", \"Nova Scotia\", \"Nova Scotia\", \"Nova Scotia\", \"Nova Scotia\", \"Nova Scotia\", \"Nova Scotia\", \"Nova Scotia\", \"Nova Scotia\", \"Nova Scotia\", \"Nova Scotia\", \"Nova Scotia\", \"Nova Scotia\", \"Nova Scotia\", \"Nova Scotia\", \"Nova Scotia\", \"Nova Scotia\", \"Nova Scotia\", \"Nova Scotia\", \"Nova Scotia\", \"Nova Scotia\", \"Nova Scotia\", \"Nova Scotia\", \"Nova Scotia\", \"Nova Scotia\", \"Nova Scotia\", \"Nova Scotia\", \"Nova Scotia\", \"Nova Scotia\", \"Nova Scotia\"], \"x0\": \" \", \"xaxis\": \"x\", \"y\": [0.53, 0.53, 0.55, 0.56, 0.58, 0.62, 0.65, 0.65, 0.67, 0.68, 0.7, 0.67, 0.66, 0.68, 0.7, 0.72, 0.76, 0.75, 0.7, 0.64, 0.6, 0.58, 0.59, 0.54, 0.52, 0.56, 0.54, 0.52, 0.5, 0.5, 0.46, 0.47, 0.45, 0.38], \"y0\": \" \", \"yaxis\": \"y\"}, {\"alignmentgroup\": \"True\", \"boxpoints\": \"all\", \"hovertemplate\": \"Geography=%{x}<br>value=%{y}<extra></extra>\", \"legendgroup\": \"New Brunswick\", \"marker\": {\"color\": \"#ab63fa\"}, \"name\": \"New Brunswick\", \"notched\": false, \"offsetgroup\": \"New Brunswick\", \"orientation\": \"v\", \"showlegend\": true, \"type\": \"box\", \"x\": [\"New Brunswick\", \"New Brunswick\", \"New Brunswick\", \"New Brunswick\", \"New Brunswick\", \"New Brunswick\", \"New Brunswick\", \"New Brunswick\", \"New Brunswick\", \"New Brunswick\", \"New Brunswick\", \"New Brunswick\", \"New Brunswick\", \"New Brunswick\", \"New Brunswick\", \"New Brunswick\", \"New Brunswick\", \"New Brunswick\", \"New Brunswick\", \"New Brunswick\", \"New Brunswick\", \"New Brunswick\", \"New Brunswick\", \"New Brunswick\", \"New Brunswick\", \"New Brunswick\", \"New Brunswick\", \"New Brunswick\", \"New Brunswick\", \"New Brunswick\", \"New Brunswick\", \"New Brunswick\", \"New Brunswick\", \"New Brunswick\"], \"x0\": \" \", \"xaxis\": \"x\", \"y\": [0.63, 0.63, 0.65, 0.6, 0.61, 0.68, 0.72, 0.67, 0.72, 0.72, 0.79, 0.8, 0.81, 0.79, 0.82, 0.78, 0.84, 0.79, 0.78, 0.73, 0.71, 0.66, 0.65, 0.59, 0.58, 0.62, 0.63, 0.6, 0.57, 0.57, 0.57, 0.54, 0.52, 0.43], \"y0\": \" \", \"yaxis\": \"y\"}, {\"alignmentgroup\": \"True\", \"boxpoints\": \"all\", \"hovertemplate\": \"Geography=%{x}<br>value=%{y}<extra></extra>\", \"legendgroup\": \"Qu\\u00e9bec\", \"marker\": {\"color\": \"#FFA15A\"}, \"name\": \"Qu\\u00e9bec\", \"notched\": false, \"offsetgroup\": \"Qu\\u00e9bec\", \"orientation\": \"v\", \"showlegend\": true, \"type\": \"box\", \"x\": [\"Qu\\u00e9bec\", \"Qu\\u00e9bec\", \"Qu\\u00e9bec\", \"Qu\\u00e9bec\", \"Qu\\u00e9bec\", \"Qu\\u00e9bec\", \"Qu\\u00e9bec\", \"Qu\\u00e9bec\", \"Qu\\u00e9bec\", \"Qu\\u00e9bec\", \"Qu\\u00e9bec\", \"Qu\\u00e9bec\", \"Qu\\u00e9bec\", \"Qu\\u00e9bec\", \"Qu\\u00e9bec\", \"Qu\\u00e9bec\", \"Qu\\u00e9bec\", \"Qu\\u00e9bec\", \"Qu\\u00e9bec\", \"Qu\\u00e9bec\", \"Qu\\u00e9bec\", \"Qu\\u00e9bec\", \"Qu\\u00e9bec\", \"Qu\\u00e9bec\", \"Qu\\u00e9bec\", \"Qu\\u00e9bec\", \"Qu\\u00e9bec\", \"Qu\\u00e9bec\", \"Qu\\u00e9bec\", \"Qu\\u00e9bec\", \"Qu\\u00e9bec\", \"Qu\\u00e9bec\", \"Qu\\u00e9bec\", \"Qu\\u00e9bec\"], \"x0\": \" \", \"xaxis\": \"x\", \"y\": [0.33, 0.33, 0.35, 0.34, 0.33, 0.35, 0.37, 0.36, 0.37, 0.39, 0.42, 0.41, 0.41, 0.42, 0.44, 0.43, 0.42, 0.4, 0.41, 0.4, 0.37, 0.34, 0.34, 0.35, 0.35, 0.38, 0.38, 0.37, 0.37, 0.36, 0.36, 0.34, 0.36, 0.3], \"y0\": \" \", \"yaxis\": \"y\"}, {\"alignmentgroup\": \"True\", \"boxpoints\": \"all\", \"hovertemplate\": \"Geography=%{x}<br>value=%{y}<extra></extra>\", \"legendgroup\": \"Ontario\", \"marker\": {\"color\": \"#19d3f3\"}, \"name\": \"Ontario\", \"notched\": false, \"offsetgroup\": \"Ontario\", \"orientation\": \"v\", \"showlegend\": true, \"type\": \"box\", \"x\": [\"Ontario\", \"Ontario\", \"Ontario\", \"Ontario\", \"Ontario\", \"Ontario\", \"Ontario\", \"Ontario\", \"Ontario\", \"Ontario\", \"Ontario\", \"Ontario\", \"Ontario\", \"Ontario\", \"Ontario\", \"Ontario\", \"Ontario\", \"Ontario\", \"Ontario\", \"Ontario\", \"Ontario\", \"Ontario\", \"Ontario\", \"Ontario\", \"Ontario\", \"Ontario\", \"Ontario\", \"Ontario\", \"Ontario\", \"Ontario\", \"Ontario\", \"Ontario\", \"Ontario\", \"Ontario\"], \"x0\": \" \", \"xaxis\": \"x\", \"y\": [0.31, 0.31, 0.31, 0.29, 0.28, 0.28, 0.29, 0.27, 0.27, 0.26, 0.27, 0.25, 0.24, 0.23, 0.24, 0.22, 0.2, 0.19, 0.18, 0.16, 0.16, 0.15, 0.15, 0.14, 0.13, 0.14, 0.14, 0.14, 0.14, 0.14, 0.14, 0.14, 0.14, 0.12], \"y0\": \" \", \"yaxis\": \"y\"}, {\"alignmentgroup\": \"True\", \"boxpoints\": \"all\", \"hovertemplate\": \"Geography=%{x}<br>value=%{y}<extra></extra>\", \"legendgroup\": \"Manitoba\", \"marker\": {\"color\": \"#FF6692\"}, \"name\": \"Manitoba\", \"notched\": false, \"offsetgroup\": \"Manitoba\", \"orientation\": \"v\", \"showlegend\": true, \"type\": \"box\", \"x\": [\"Manitoba\", \"Manitoba\", \"Manitoba\", \"Manitoba\", \"Manitoba\", \"Manitoba\", \"Manitoba\", \"Manitoba\", \"Manitoba\", \"Manitoba\", \"Manitoba\", \"Manitoba\", \"Manitoba\", \"Manitoba\", \"Manitoba\", \"Manitoba\", \"Manitoba\", \"Manitoba\", \"Manitoba\", \"Manitoba\", \"Manitoba\", \"Manitoba\", \"Manitoba\", \"Manitoba\", \"Manitoba\", \"Manitoba\", \"Manitoba\", \"Manitoba\", \"Manitoba\", \"Manitoba\", \"Manitoba\", \"Manitoba\", \"Manitoba\", \"Manitoba\"], \"x0\": \" \", \"xaxis\": \"x\", \"y\": [0.25, 0.27, 0.28, 0.26, 0.28, 0.28, 0.28, 0.25, 0.24, 0.27, 0.31, 0.3, 0.29, 0.33, 0.34, 0.35, 0.34, 0.35, 0.36, 0.35, 0.33, 0.3, 0.3, 0.31, 0.32, 0.35, 0.35, 0.35, 0.34, 0.36, 0.37, 0.38, 0.35, 0.3], \"y0\": \" \", \"yaxis\": \"y\"}, {\"alignmentgroup\": \"True\", \"boxpoints\": \"all\", \"hovertemplate\": \"Geography=%{x}<br>value=%{y}<extra></extra>\", \"legendgroup\": \"Saskatchewan\", \"marker\": {\"color\": \"#B6E880\"}, \"name\": \"Saskatchewan\", \"notched\": false, \"offsetgroup\": \"Saskatchewan\", \"orientation\": \"v\", \"showlegend\": true, \"type\": \"box\", \"x\": [\"Saskatchewan\", \"Saskatchewan\", \"Saskatchewan\", \"Saskatchewan\", \"Saskatchewan\", \"Saskatchewan\", \"Saskatchewan\", \"Saskatchewan\", \"Saskatchewan\", \"Saskatchewan\", \"Saskatchewan\", \"Saskatchewan\", \"Saskatchewan\", \"Saskatchewan\", \"Saskatchewan\", \"Saskatchewan\", \"Saskatchewan\", \"Saskatchewan\", \"Saskatchewan\", \"Saskatchewan\", \"Saskatchewan\", \"Saskatchewan\", \"Saskatchewan\", \"Saskatchewan\", \"Saskatchewan\", \"Saskatchewan\", \"Saskatchewan\", \"Saskatchewan\", \"Saskatchewan\", \"Saskatchewan\", \"Saskatchewan\", \"Saskatchewan\", \"Saskatchewan\", \"Saskatchewan\"], \"x0\": \" \", \"xaxis\": \"x\", \"y\": [0.37, 0.37, 0.36, 0.34, 0.3, 0.32, 0.35, 0.31, 0.32, 0.36, 0.41, 0.43, 0.45, 0.49, 0.54, 0.57, 0.61, 0.62, 0.62, 0.66, 0.65, 0.66, 0.66, 0.67, 0.7, 0.72, 0.74, 0.75, 0.73, 0.73, 0.75, 0.76, 0.72, 0.63], \"y0\": \" \", \"yaxis\": \"y\"}, {\"alignmentgroup\": \"True\", \"boxpoints\": \"all\", \"hovertemplate\": \"Geography=%{x}<br>value=%{y}<extra></extra>\", \"legendgroup\": \"Alberta\", \"marker\": {\"color\": \"#FF97FF\"}, \"name\": \"Alberta\", \"notched\": false, \"offsetgroup\": \"Alberta\", \"orientation\": \"v\", \"showlegend\": true, \"type\": \"box\", \"x\": [\"Alberta\", \"Alberta\", \"Alberta\", \"Alberta\", \"Alberta\", \"Alberta\", \"Alberta\", \"Alberta\", \"Alberta\", \"Alberta\", \"Alberta\", \"Alberta\", \"Alberta\", \"Alberta\", \"Alberta\", \"Alberta\", \"Alberta\", \"Alberta\", \"Alberta\", \"Alberta\", \"Alberta\", \"Alberta\", \"Alberta\", \"Alberta\", \"Alberta\", \"Alberta\", \"Alberta\", \"Alberta\", \"Alberta\", \"Alberta\", \"Alberta\", \"Alberta\", \"Alberta\", \"Alberta\"], \"x0\": \" \", \"xaxis\": \"x\", \"y\": [0.6, 0.55, 0.52, 0.47, 0.45, 0.43, 0.42, 0.37, 0.34, 0.32, 0.32, 0.33, 0.35, 0.36, 0.41, 0.45, 0.53, 0.53, 0.54, 0.52, 0.51, 0.5, 0.5, 0.46, 0.47, 0.5, 0.51, 0.53, 0.51, 0.5, 0.52, 0.52, 0.5, 0.44], \"y0\": \" \", \"yaxis\": \"y\"}, {\"alignmentgroup\": \"True\", \"boxpoints\": \"all\", \"hovertemplate\": \"Geography=%{x}<br>value=%{y}<extra></extra>\", \"legendgroup\": \"British Columbia\", \"marker\": {\"color\": \"#FECB52\"}, \"name\": \"British Columbia\", \"notched\": false, \"offsetgroup\": \"British Columbia\", \"orientation\": \"v\", \"showlegend\": true, \"type\": \"box\", \"x\": [\"British Columbia\", \"British Columbia\", \"British Columbia\", \"British Columbia\", \"British Columbia\", \"British Columbia\", \"British Columbia\", \"British Columbia\", \"British Columbia\", \"British Columbia\", \"British Columbia\", \"British Columbia\", \"British Columbia\", \"British Columbia\", \"British Columbia\", \"British Columbia\", \"British Columbia\", \"British Columbia\", \"British Columbia\", \"British Columbia\", \"British Columbia\", \"British Columbia\", \"British Columbia\", \"British Columbia\", \"British Columbia\", \"British Columbia\", \"British Columbia\", \"British Columbia\", \"British Columbia\", \"British Columbia\", \"British Columbia\", \"British Columbia\", \"British Columbia\", \"British Columbia\"], \"x0\": \" \", \"xaxis\": \"x\", \"y\": [0.42, 0.42, 0.43, 0.43, 0.42, 0.43, 0.43, 0.4, 0.4, 0.4, 0.4, 0.38, 0.34, 0.32, 0.32, 0.29, 0.26, 0.25, 0.23, 0.2, 0.18, 0.18, 0.17, 0.17, 0.16, 0.17, 0.17, 0.17, 0.16, 0.16, 0.17, 0.19, 0.19, 0.16], \"y0\": \" \", \"yaxis\": \"y\"}],                        {\"boxmode\": \"overlay\", \"legend\": {\"title\": {\"text\": \"Geography\"}, \"tracegroupgap\": 0}, \"margin\": {\"t\": 60}, \"template\": {\"data\": {\"bar\": [{\"error_x\": {\"color\": \"#2a3f5f\"}, \"error_y\": {\"color\": \"#2a3f5f\"}, \"marker\": {\"line\": {\"color\": \"#E5ECF6\", \"width\": 0.5}}, \"type\": \"bar\"}], \"barpolar\": [{\"marker\": {\"line\": {\"color\": \"#E5ECF6\", \"width\": 0.5}}, \"type\": \"barpolar\"}], \"carpet\": [{\"aaxis\": {\"endlinecolor\": \"#2a3f5f\", \"gridcolor\": \"white\", \"linecolor\": \"white\", \"minorgridcolor\": \"white\", \"startlinecolor\": \"#2a3f5f\"}, \"baxis\": {\"endlinecolor\": \"#2a3f5f\", \"gridcolor\": \"white\", \"linecolor\": \"white\", \"minorgridcolor\": \"white\", \"startlinecolor\": \"#2a3f5f\"}, \"type\": \"carpet\"}], \"choropleth\": [{\"colorbar\": {\"outlinewidth\": 0, \"ticks\": \"\"}, \"type\": \"choropleth\"}], \"contour\": [{\"colorbar\": {\"outlinewidth\": 0, \"ticks\": \"\"}, \"colorscale\": [[0.0, \"#0d0887\"], [0.1111111111111111, \"#46039f\"], [0.2222222222222222, \"#7201a8\"], [0.3333333333333333, \"#9c179e\"], [0.4444444444444444, \"#bd3786\"], [0.5555555555555556, \"#d8576b\"], [0.6666666666666666, \"#ed7953\"], [0.7777777777777778, \"#fb9f3a\"], [0.8888888888888888, \"#fdca26\"], [1.0, \"#f0f921\"]], \"type\": \"contour\"}], \"contourcarpet\": [{\"colorbar\": {\"outlinewidth\": 0, \"ticks\": \"\"}, \"type\": \"contourcarpet\"}], \"heatmap\": [{\"colorbar\": {\"outlinewidth\": 0, \"ticks\": \"\"}, \"colorscale\": [[0.0, \"#0d0887\"], [0.1111111111111111, \"#46039f\"], [0.2222222222222222, \"#7201a8\"], [0.3333333333333333, \"#9c179e\"], [0.4444444444444444, \"#bd3786\"], [0.5555555555555556, \"#d8576b\"], [0.6666666666666666, \"#ed7953\"], [0.7777777777777778, \"#fb9f3a\"], [0.8888888888888888, \"#fdca26\"], [1.0, \"#f0f921\"]], \"type\": \"heatmap\"}], \"heatmapgl\": [{\"colorbar\": {\"outlinewidth\": 0, \"ticks\": \"\"}, \"colorscale\": [[0.0, \"#0d0887\"], [0.1111111111111111, \"#46039f\"], [0.2222222222222222, \"#7201a8\"], [0.3333333333333333, \"#9c179e\"], [0.4444444444444444, \"#bd3786\"], [0.5555555555555556, \"#d8576b\"], [0.6666666666666666, \"#ed7953\"], [0.7777777777777778, \"#fb9f3a\"], [0.8888888888888888, \"#fdca26\"], [1.0, \"#f0f921\"]], \"type\": \"heatmapgl\"}], \"histogram\": [{\"marker\": {\"colorbar\": {\"outlinewidth\": 0, \"ticks\": \"\"}}, \"type\": \"histogram\"}], \"histogram2d\": [{\"colorbar\": {\"outlinewidth\": 0, \"ticks\": \"\"}, \"colorscale\": [[0.0, \"#0d0887\"], [0.1111111111111111, \"#46039f\"], [0.2222222222222222, \"#7201a8\"], [0.3333333333333333, \"#9c179e\"], [0.4444444444444444, \"#bd3786\"], [0.5555555555555556, \"#d8576b\"], [0.6666666666666666, \"#ed7953\"], [0.7777777777777778, \"#fb9f3a\"], [0.8888888888888888, \"#fdca26\"], [1.0, \"#f0f921\"]], \"type\": \"histogram2d\"}], \"histogram2dcontour\": [{\"colorbar\": {\"outlinewidth\": 0, \"ticks\": \"\"}, \"colorscale\": [[0.0, \"#0d0887\"], [0.1111111111111111, \"#46039f\"], [0.2222222222222222, \"#7201a8\"], [0.3333333333333333, \"#9c179e\"], [0.4444444444444444, \"#bd3786\"], [0.5555555555555556, \"#d8576b\"], [0.6666666666666666, \"#ed7953\"], [0.7777777777777778, \"#fb9f3a\"], [0.8888888888888888, \"#fdca26\"], [1.0, \"#f0f921\"]], \"type\": \"histogram2dcontour\"}], \"mesh3d\": [{\"colorbar\": {\"outlinewidth\": 0, \"ticks\": \"\"}, \"type\": \"mesh3d\"}], \"parcoords\": [{\"line\": {\"colorbar\": {\"outlinewidth\": 0, \"ticks\": \"\"}}, \"type\": \"parcoords\"}], \"pie\": [{\"automargin\": true, \"type\": \"pie\"}], \"scatter\": [{\"marker\": {\"colorbar\": {\"outlinewidth\": 0, \"ticks\": \"\"}}, \"type\": \"scatter\"}], \"scatter3d\": [{\"line\": {\"colorbar\": {\"outlinewidth\": 0, \"ticks\": \"\"}}, \"marker\": {\"colorbar\": {\"outlinewidth\": 0, \"ticks\": \"\"}}, \"type\": \"scatter3d\"}], \"scattercarpet\": [{\"marker\": {\"colorbar\": {\"outlinewidth\": 0, \"ticks\": \"\"}}, \"type\": \"scattercarpet\"}], \"scattergeo\": [{\"marker\": {\"colorbar\": {\"outlinewidth\": 0, \"ticks\": \"\"}}, \"type\": \"scattergeo\"}], \"scattergl\": [{\"marker\": {\"colorbar\": {\"outlinewidth\": 0, \"ticks\": \"\"}}, \"type\": \"scattergl\"}], \"scattermapbox\": [{\"marker\": {\"colorbar\": {\"outlinewidth\": 0, \"ticks\": \"\"}}, \"type\": \"scattermapbox\"}], \"scatterpolar\": [{\"marker\": {\"colorbar\": {\"outlinewidth\": 0, \"ticks\": \"\"}}, \"type\": \"scatterpolar\"}], \"scatterpolargl\": [{\"marker\": {\"colorbar\": {\"outlinewidth\": 0, \"ticks\": \"\"}}, \"type\": \"scatterpolargl\"}], \"scatterternary\": [{\"marker\": {\"colorbar\": {\"outlinewidth\": 0, \"ticks\": \"\"}}, \"type\": \"scatterternary\"}], \"surface\": [{\"colorbar\": {\"outlinewidth\": 0, \"ticks\": \"\"}, \"colorscale\": [[0.0, \"#0d0887\"], [0.1111111111111111, \"#46039f\"], [0.2222222222222222, \"#7201a8\"], [0.3333333333333333, \"#9c179e\"], [0.4444444444444444, \"#bd3786\"], [0.5555555555555556, \"#d8576b\"], [0.6666666666666666, \"#ed7953\"], [0.7777777777777778, \"#fb9f3a\"], [0.8888888888888888, \"#fdca26\"], [1.0, \"#f0f921\"]], \"type\": \"surface\"}], \"table\": [{\"cells\": {\"fill\": {\"color\": \"#EBF0F8\"}, \"line\": {\"color\": \"white\"}}, \"header\": {\"fill\": {\"color\": \"#C8D4E3\"}, \"line\": {\"color\": \"white\"}}, \"type\": \"table\"}]}, \"layout\": {\"annotationdefaults\": {\"arrowcolor\": \"#2a3f5f\", \"arrowhead\": 0, \"arrowwidth\": 1}, \"autotypenumbers\": \"strict\", \"coloraxis\": {\"colorbar\": {\"outlinewidth\": 0, \"ticks\": \"\"}}, \"colorscale\": {\"diverging\": [[0, \"#8e0152\"], [0.1, \"#c51b7d\"], [0.2, \"#de77ae\"], [0.3, \"#f1b6da\"], [0.4, \"#fde0ef\"], [0.5, \"#f7f7f7\"], [0.6, \"#e6f5d0\"], [0.7, \"#b8e186\"], [0.8, \"#7fbc41\"], [0.9, \"#4d9221\"], [1, \"#276419\"]], \"sequential\": [[0.0, \"#0d0887\"], [0.1111111111111111, \"#46039f\"], [0.2222222222222222, \"#7201a8\"], [0.3333333333333333, \"#9c179e\"], [0.4444444444444444, \"#bd3786\"], [0.5555555555555556, \"#d8576b\"], [0.6666666666666666, \"#ed7953\"], [0.7777777777777778, \"#fb9f3a\"], [0.8888888888888888, \"#fdca26\"], [1.0, \"#f0f921\"]], \"sequentialminus\": [[0.0, \"#0d0887\"], [0.1111111111111111, \"#46039f\"], [0.2222222222222222, \"#7201a8\"], [0.3333333333333333, \"#9c179e\"], [0.4444444444444444, \"#bd3786\"], [0.5555555555555556, \"#d8576b\"], [0.6666666666666666, \"#ed7953\"], [0.7777777777777778, \"#fb9f3a\"], [0.8888888888888888, \"#fdca26\"], [1.0, \"#f0f921\"]]}, \"colorway\": [\"#636efa\", \"#EF553B\", \"#00cc96\", \"#ab63fa\", \"#FFA15A\", \"#19d3f3\", \"#FF6692\", \"#B6E880\", \"#FF97FF\", \"#FECB52\"], \"font\": {\"color\": \"#2a3f5f\"}, \"geo\": {\"bgcolor\": \"white\", \"lakecolor\": \"white\", \"landcolor\": \"#E5ECF6\", \"showlakes\": true, \"showland\": true, \"subunitcolor\": \"white\"}, \"hoverlabel\": {\"align\": \"left\"}, \"hovermode\": \"closest\", \"mapbox\": {\"style\": \"light\"}, \"paper_bgcolor\": \"white\", \"plot_bgcolor\": \"#E5ECF6\", \"polar\": {\"angularaxis\": {\"gridcolor\": \"white\", \"linecolor\": \"white\", \"ticks\": \"\"}, \"bgcolor\": \"#E5ECF6\", \"radialaxis\": {\"gridcolor\": \"white\", \"linecolor\": \"white\", \"ticks\": \"\"}}, \"scene\": {\"xaxis\": {\"backgroundcolor\": \"#E5ECF6\", \"gridcolor\": \"white\", \"gridwidth\": 2, \"linecolor\": \"white\", \"showbackground\": true, \"ticks\": \"\", \"zerolinecolor\": \"white\"}, \"yaxis\": {\"backgroundcolor\": \"#E5ECF6\", \"gridcolor\": \"white\", \"gridwidth\": 2, \"linecolor\": \"white\", \"showbackground\": true, \"ticks\": \"\", \"zerolinecolor\": \"white\"}, \"zaxis\": {\"backgroundcolor\": \"#E5ECF6\", \"gridcolor\": \"white\", \"gridwidth\": 2, \"linecolor\": \"white\", \"showbackground\": true, \"ticks\": \"\", \"zerolinecolor\": \"white\"}}, \"shapedefaults\": {\"line\": {\"color\": \"#2a3f5f\"}}, \"ternary\": {\"aaxis\": {\"gridcolor\": \"white\", \"linecolor\": \"white\", \"ticks\": \"\"}, \"baxis\": {\"gridcolor\": \"white\", \"linecolor\": \"white\", \"ticks\": \"\"}, \"bgcolor\": \"#E5ECF6\", \"caxis\": {\"gridcolor\": \"white\", \"linecolor\": \"white\", \"ticks\": \"\"}}, \"title\": {\"x\": 0.05}, \"xaxis\": {\"automargin\": true, \"gridcolor\": \"white\", \"linecolor\": \"white\", \"ticks\": \"\", \"title\": {\"standoff\": 15}, \"zerolinecolor\": \"white\", \"zerolinewidth\": 2}, \"yaxis\": {\"automargin\": true, \"gridcolor\": \"white\", \"linecolor\": \"white\", \"ticks\": \"\", \"title\": {\"standoff\": 15}, \"zerolinecolor\": \"white\", \"zerolinewidth\": 2}}}, \"xaxis\": {\"anchor\": \"y\", \"categoryarray\": [\"Newfoundland\", \"Prince Edward Island\", \"Nova Scotia\", \"New Brunswick\", \"Qu\\u00e9bec\", \"Ontario\", \"Manitoba\", \"Saskatchewan\", \"Alberta\", \"British Columbia\"], \"categoryorder\": \"array\", \"domain\": [0.0, 1.0], \"tickangle\": -45, \"title\": {\"text\": \"Geography\"}}, \"yaxis\": {\"anchor\": \"x\", \"domain\": [0.0, 1.0], \"title\": {\"text\": \"value\"}}},                        {\"responsive\": true}                    ).then(function(){\n",
       "                            \n",
       "var gd = document.getElementById('930dc780-a5ef-464a-a935-d242567f1389');\n",
       "var x = new MutationObserver(function (mutations, observer) {{\n",
       "        var display = window.getComputedStyle(gd).display;\n",
       "        if (!display || display === 'none') {{\n",
       "            console.log([gd, 'removed!']);\n",
       "            Plotly.purge(gd);\n",
       "            observer.disconnect();\n",
       "        }}\n",
       "}});\n",
       "\n",
       "// Listen for the removal of the full notebook cells\n",
       "var notebookContainer = gd.closest('#notebook-container');\n",
       "if (notebookContainer) {{\n",
       "    x.observe(notebookContainer, {childList: true});\n",
       "}}\n",
       "\n",
       "// Listen for the clearing of the current output cell\n",
       "var outputEl = gd.closest('.output');\n",
       "if (outputEl) {{\n",
       "    x.observe(outputEl, {childList: true});\n",
       "}}\n",
       "\n",
       "                        })                };                });            </script>        </div>"
      ]
     },
     "metadata": {},
     "output_type": "display_data"
    }
   ],
   "source": [
    "graph_region(df_delin, level='Province', graph_type='box')"
   ]
  },
  {
   "cell_type": "code",
   "execution_count": 15,
   "metadata": {},
   "outputs": [
    {
     "data": {
      "text/plain": [
       "Index(['Region/City', 'Geography', '2012Q3', '2012Q4', '2013Q1', '2013Q2',\n",
       "       '2013Q3', '2013Q4', '2014Q1', '2014Q2', '2014Q3', '2014Q4', '2015Q1',\n",
       "       '2015Q2', '2015Q3', '2015Q4', '2016Q1', '2016Q2', '2016Q3', '2016Q4',\n",
       "       '2017Q1', '2017Q2', '2017Q3', '2017Q4', '2018Q1', '2018Q2', '2018Q3',\n",
       "       '2018Q4', '2019Q1', '2019Q2', '2019Q3', '2019Q4', '2020Q1', '2020Q2',\n",
       "       '2020Q3'],\n",
       "      dtype='object', name=3)"
      ]
     },
     "execution_count": 15,
     "metadata": {},
     "output_type": "execute_result"
    }
   ],
   "source": [
    "df.columns"
   ]
  },
  {
   "cell_type": "code",
   "execution_count": 16,
   "metadata": {},
   "outputs": [
    {
     "data": {
      "text/plain": [
       "Index(['Region/City', 'Geography', '2012Q3', '2012Q4', '2013Q1', '2013Q2',\n",
       "       '2013Q3', '2013Q4', '2014Q1', '2014Q2', '2014Q3', '2014Q4', '2015Q1',\n",
       "       '2015Q2', '2015Q3', '2015Q4', '2016Q1', '2016Q2', '2016Q3', '2016Q4',\n",
       "       '2017Q1', '2017Q2', '2017Q3', '2017Q4', '2018Q1', '2018Q2', '2018Q3',\n",
       "       '2018Q4', '2019Q1', '2019Q2', '2019Q3', '2019Q4', '2020Q1', '2020Q2',\n",
       "       '2020Q3', '2020Q4'],\n",
       "      dtype='object', name=3)"
      ]
     },
     "execution_count": 16,
     "metadata": {},
     "output_type": "execute_result"
    }
   ],
   "source": [
    "df_delin.columns"
   ]
  },
  {
   "cell_type": "code",
   "execution_count": 17,
   "metadata": {},
   "outputs": [
    {
     "ename": "TypeError",
     "evalue": "first argument must be an iterable of pandas objects, you passed an object of type \"DataFrame\"",
     "output_type": "error",
     "traceback": [
      "\u001b[1;31m---------------------------------------------------------------------------\u001b[0m",
      "\u001b[1;31mTypeError\u001b[0m                                 Traceback (most recent call last)",
      "\u001b[1;32m<ipython-input-17-761b711fc40b>\u001b[0m in \u001b[0;36m<module>\u001b[1;34m\u001b[0m\n\u001b[1;32m----> 1\u001b[1;33m \u001b[0mtest\u001b[0m \u001b[1;33m=\u001b[0m \u001b[0mpd\u001b[0m\u001b[1;33m.\u001b[0m\u001b[0mconcat\u001b[0m\u001b[1;33m(\u001b[0m\u001b[0mdf\u001b[0m\u001b[1;33m,\u001b[0m \u001b[0mdf_delin\u001b[0m\u001b[1;33m)\u001b[0m\u001b[1;33m\u001b[0m\u001b[1;33m\u001b[0m\u001b[0m\n\u001b[0m",
      "\u001b[1;32m~\\anaconda3\\lib\\site-packages\\pandas\\core\\reshape\\concat.py\u001b[0m in \u001b[0;36mconcat\u001b[1;34m(objs, axis, join, ignore_index, keys, levels, names, verify_integrity, sort, copy)\u001b[0m\n\u001b[0;32m    283\u001b[0m     \u001b[0mValueError\u001b[0m\u001b[1;33m:\u001b[0m \u001b[0mIndexes\u001b[0m \u001b[0mhave\u001b[0m \u001b[0moverlapping\u001b[0m \u001b[0mvalues\u001b[0m\u001b[1;33m:\u001b[0m \u001b[1;33m[\u001b[0m\u001b[1;34m'a'\u001b[0m\u001b[1;33m]\u001b[0m\u001b[1;33m\u001b[0m\u001b[1;33m\u001b[0m\u001b[0m\n\u001b[0;32m    284\u001b[0m     \"\"\"\n\u001b[1;32m--> 285\u001b[1;33m     op = _Concatenator(\n\u001b[0m\u001b[0;32m    286\u001b[0m         \u001b[0mobjs\u001b[0m\u001b[1;33m,\u001b[0m\u001b[1;33m\u001b[0m\u001b[1;33m\u001b[0m\u001b[0m\n\u001b[0;32m    287\u001b[0m         \u001b[0maxis\u001b[0m\u001b[1;33m=\u001b[0m\u001b[0maxis\u001b[0m\u001b[1;33m,\u001b[0m\u001b[1;33m\u001b[0m\u001b[1;33m\u001b[0m\u001b[0m\n",
      "\u001b[1;32m~\\anaconda3\\lib\\site-packages\\pandas\\core\\reshape\\concat.py\u001b[0m in \u001b[0;36m__init__\u001b[1;34m(self, objs, axis, join, keys, levels, names, ignore_index, verify_integrity, copy, sort)\u001b[0m\n\u001b[0;32m    318\u001b[0m     ):\n\u001b[0;32m    319\u001b[0m         \u001b[1;32mif\u001b[0m \u001b[0misinstance\u001b[0m\u001b[1;33m(\u001b[0m\u001b[0mobjs\u001b[0m\u001b[1;33m,\u001b[0m \u001b[1;33m(\u001b[0m\u001b[0mABCSeries\u001b[0m\u001b[1;33m,\u001b[0m \u001b[0mABCDataFrame\u001b[0m\u001b[1;33m,\u001b[0m \u001b[0mstr\u001b[0m\u001b[1;33m)\u001b[0m\u001b[1;33m)\u001b[0m\u001b[1;33m:\u001b[0m\u001b[1;33m\u001b[0m\u001b[1;33m\u001b[0m\u001b[0m\n\u001b[1;32m--> 320\u001b[1;33m             raise TypeError(\n\u001b[0m\u001b[0;32m    321\u001b[0m                 \u001b[1;34m\"first argument must be an iterable of pandas \"\u001b[0m\u001b[1;33m\u001b[0m\u001b[1;33m\u001b[0m\u001b[0m\n\u001b[0;32m    322\u001b[0m                 \u001b[1;34mf'objects, you passed an object of type \"{type(objs).__name__}\"'\u001b[0m\u001b[1;33m\u001b[0m\u001b[1;33m\u001b[0m\u001b[0m\n",
      "\u001b[1;31mTypeError\u001b[0m: first argument must be an iterable of pandas objects, you passed an object of type \"DataFrame\""
     ]
    }
   ],
   "source": [
    "test = pd.concat(df, df_delin)"
   ]
  },
  {
   "cell_type": "markdown",
   "metadata": {},
   "source": [
    "# Average Income"
   ]
  },
  {
   "cell_type": "code",
   "execution_count": 10,
   "metadata": {
    "collapsed": true
   },
   "outputs": [
    {
     "name": "stderr",
     "output_type": "stream",
     "text": [
      "C:\\Users\\hanh\\anaconda3\\lib\\site-packages\\pandas\\core\\series.py:992: SettingWithCopyWarning: \n",
      "A value is trying to be set on a copy of a slice from a DataFrame\n",
      "\n",
      "See the caveats in the documentation: https://pandas.pydata.org/pandas-docs/stable/user_guide/indexing.html#returning-a-view-versus-a-copy\n",
      "  self._where(~key, value, inplace=True)\n",
      "C:\\Users\\hanh\\anaconda3\\lib\\site-packages\\pandas\\core\\series.py:992: SettingWithCopyWarning: \n",
      "A value is trying to be set on a copy of a slice from a DataFrame\n",
      "\n",
      "See the caveats in the documentation: https://pandas.pydata.org/pandas-docs/stable/user_guide/indexing.html#returning-a-view-versus-a-copy\n",
      "  self._where(~key, value, inplace=True)\n",
      "C:\\Users\\hanh\\anaconda3\\lib\\site-packages\\pandas\\core\\series.py:992: SettingWithCopyWarning: \n",
      "A value is trying to be set on a copy of a slice from a DataFrame\n",
      "\n",
      "See the caveats in the documentation: https://pandas.pydata.org/pandas-docs/stable/user_guide/indexing.html#returning-a-view-versus-a-copy\n",
      "  self._where(~key, value, inplace=True)\n"
     ]
    },
    {
     "ename": "ValueError",
     "evalue": "Columns must be same length as key",
     "output_type": "error",
     "traceback": [
      "\u001b[1;31m---------------------------------------------------------------------------\u001b[0m",
      "\u001b[1;31mValueError\u001b[0m                                Traceback (most recent call last)",
      "\u001b[1;32m<ipython-input-10-18a6c6678dbe>\u001b[0m in \u001b[0;36m<module>\u001b[1;34m\u001b[0m\n\u001b[0;32m      1\u001b[0m \u001b[0mdata_income\u001b[0m \u001b[1;33m=\u001b[0m \u001b[0mdata\u001b[0m \u001b[1;33m+\u001b[0m \u001b[1;34m\"real-average-household-income-after-taxes-tenure-2006-2018-en.xlsx\"\u001b[0m\u001b[1;33m\u001b[0m\u001b[1;33m\u001b[0m\u001b[0m\n\u001b[1;32m----> 2\u001b[1;33m \u001b[0mdf_income\u001b[0m \u001b[1;33m=\u001b[0m \u001b[0mdata_prep\u001b[0m\u001b[1;33m(\u001b[0m\u001b[0mdata_income\u001b[0m\u001b[1;33m)\u001b[0m\u001b[1;33m\u001b[0m\u001b[1;33m\u001b[0m\u001b[0m\n\u001b[0m",
      "\u001b[1;32m<ipython-input-7-0429e9bf919c>\u001b[0m in \u001b[0;36mdata_prep\u001b[1;34m(data_file)\u001b[0m\n\u001b[0;32m     35\u001b[0m     \u001b[1;31m#Isolating yearly and quarterly columns and convert to numeric.\u001b[0m\u001b[1;33m\u001b[0m\u001b[1;33m\u001b[0m\u001b[1;33m\u001b[0m\u001b[0m\n\u001b[0;32m     36\u001b[0m     \u001b[0mint_cols\u001b[0m \u001b[1;33m=\u001b[0m \u001b[0mtemp\u001b[0m\u001b[1;33m.\u001b[0m\u001b[0mcolumns\u001b[0m\u001b[1;33m.\u001b[0m\u001b[0mdrop\u001b[0m\u001b[1;33m(\u001b[0m\u001b[1;33m[\u001b[0m\u001b[1;34m'Region/City'\u001b[0m\u001b[1;33m,\u001b[0m \u001b[1;34m'Geography'\u001b[0m\u001b[1;33m]\u001b[0m\u001b[1;33m)\u001b[0m\u001b[1;33m\u001b[0m\u001b[1;33m\u001b[0m\u001b[0m\n\u001b[1;32m---> 37\u001b[1;33m     \u001b[0mtemp\u001b[0m\u001b[1;33m[\u001b[0m\u001b[0mint_cols\u001b[0m\u001b[1;33m]\u001b[0m \u001b[1;33m=\u001b[0m \u001b[0mtemp\u001b[0m\u001b[1;33m[\u001b[0m\u001b[0mint_cols\u001b[0m\u001b[1;33m]\u001b[0m\u001b[1;33m.\u001b[0m\u001b[0mapply\u001b[0m\u001b[1;33m(\u001b[0m\u001b[0mpd\u001b[0m\u001b[1;33m.\u001b[0m\u001b[0mto_numeric\u001b[0m\u001b[1;33m,\u001b[0m \u001b[0merrors\u001b[0m\u001b[1;33m=\u001b[0m\u001b[1;34m'coerce'\u001b[0m\u001b[1;33m)\u001b[0m\u001b[1;33m\u001b[0m\u001b[1;33m\u001b[0m\u001b[0m\n\u001b[0m\u001b[0;32m     38\u001b[0m \u001b[1;33m\u001b[0m\u001b[0m\n\u001b[0;32m     39\u001b[0m     \u001b[1;32mreturn\u001b[0m \u001b[0mtemp\u001b[0m\u001b[1;33m\u001b[0m\u001b[1;33m\u001b[0m\u001b[0m\n",
      "\u001b[1;32m~\\anaconda3\\lib\\site-packages\\pandas\\core\\frame.py\u001b[0m in \u001b[0;36m__setitem__\u001b[1;34m(self, key, value)\u001b[0m\n\u001b[0;32m   3158\u001b[0m             \u001b[0mself\u001b[0m\u001b[1;33m.\u001b[0m\u001b[0m_setitem_frame\u001b[0m\u001b[1;33m(\u001b[0m\u001b[0mkey\u001b[0m\u001b[1;33m,\u001b[0m \u001b[0mvalue\u001b[0m\u001b[1;33m)\u001b[0m\u001b[1;33m\u001b[0m\u001b[1;33m\u001b[0m\u001b[0m\n\u001b[0;32m   3159\u001b[0m         \u001b[1;32melif\u001b[0m \u001b[0misinstance\u001b[0m\u001b[1;33m(\u001b[0m\u001b[0mkey\u001b[0m\u001b[1;33m,\u001b[0m \u001b[1;33m(\u001b[0m\u001b[0mSeries\u001b[0m\u001b[1;33m,\u001b[0m \u001b[0mnp\u001b[0m\u001b[1;33m.\u001b[0m\u001b[0mndarray\u001b[0m\u001b[1;33m,\u001b[0m \u001b[0mlist\u001b[0m\u001b[1;33m,\u001b[0m \u001b[0mIndex\u001b[0m\u001b[1;33m)\u001b[0m\u001b[1;33m)\u001b[0m\u001b[1;33m:\u001b[0m\u001b[1;33m\u001b[0m\u001b[1;33m\u001b[0m\u001b[0m\n\u001b[1;32m-> 3160\u001b[1;33m             \u001b[0mself\u001b[0m\u001b[1;33m.\u001b[0m\u001b[0m_setitem_array\u001b[0m\u001b[1;33m(\u001b[0m\u001b[0mkey\u001b[0m\u001b[1;33m,\u001b[0m \u001b[0mvalue\u001b[0m\u001b[1;33m)\u001b[0m\u001b[1;33m\u001b[0m\u001b[1;33m\u001b[0m\u001b[0m\n\u001b[0m\u001b[0;32m   3161\u001b[0m         \u001b[1;32melse\u001b[0m\u001b[1;33m:\u001b[0m\u001b[1;33m\u001b[0m\u001b[1;33m\u001b[0m\u001b[0m\n\u001b[0;32m   3162\u001b[0m             \u001b[1;31m# set column\u001b[0m\u001b[1;33m\u001b[0m\u001b[1;33m\u001b[0m\u001b[1;33m\u001b[0m\u001b[0m\n",
      "\u001b[1;32m~\\anaconda3\\lib\\site-packages\\pandas\\core\\frame.py\u001b[0m in \u001b[0;36m_setitem_array\u001b[1;34m(self, key, value)\u001b[0m\n\u001b[0;32m   3187\u001b[0m             \u001b[1;32mif\u001b[0m \u001b[0misinstance\u001b[0m\u001b[1;33m(\u001b[0m\u001b[0mvalue\u001b[0m\u001b[1;33m,\u001b[0m \u001b[0mDataFrame\u001b[0m\u001b[1;33m)\u001b[0m\u001b[1;33m:\u001b[0m\u001b[1;33m\u001b[0m\u001b[1;33m\u001b[0m\u001b[0m\n\u001b[0;32m   3188\u001b[0m                 \u001b[1;32mif\u001b[0m \u001b[0mlen\u001b[0m\u001b[1;33m(\u001b[0m\u001b[0mvalue\u001b[0m\u001b[1;33m.\u001b[0m\u001b[0mcolumns\u001b[0m\u001b[1;33m)\u001b[0m \u001b[1;33m!=\u001b[0m \u001b[0mlen\u001b[0m\u001b[1;33m(\u001b[0m\u001b[0mkey\u001b[0m\u001b[1;33m)\u001b[0m\u001b[1;33m:\u001b[0m\u001b[1;33m\u001b[0m\u001b[1;33m\u001b[0m\u001b[0m\n\u001b[1;32m-> 3189\u001b[1;33m                     \u001b[1;32mraise\u001b[0m \u001b[0mValueError\u001b[0m\u001b[1;33m(\u001b[0m\u001b[1;34m\"Columns must be same length as key\"\u001b[0m\u001b[1;33m)\u001b[0m\u001b[1;33m\u001b[0m\u001b[1;33m\u001b[0m\u001b[0m\n\u001b[0m\u001b[0;32m   3190\u001b[0m                 \u001b[1;32mfor\u001b[0m \u001b[0mk1\u001b[0m\u001b[1;33m,\u001b[0m \u001b[0mk2\u001b[0m \u001b[1;32min\u001b[0m \u001b[0mzip\u001b[0m\u001b[1;33m(\u001b[0m\u001b[0mkey\u001b[0m\u001b[1;33m,\u001b[0m \u001b[0mvalue\u001b[0m\u001b[1;33m.\u001b[0m\u001b[0mcolumns\u001b[0m\u001b[1;33m)\u001b[0m\u001b[1;33m:\u001b[0m\u001b[1;33m\u001b[0m\u001b[1;33m\u001b[0m\u001b[0m\n\u001b[0;32m   3191\u001b[0m                     \u001b[0mself\u001b[0m\u001b[1;33m[\u001b[0m\u001b[0mk1\u001b[0m\u001b[1;33m]\u001b[0m \u001b[1;33m=\u001b[0m \u001b[0mvalue\u001b[0m\u001b[1;33m[\u001b[0m\u001b[0mk2\u001b[0m\u001b[1;33m]\u001b[0m\u001b[1;33m\u001b[0m\u001b[1;33m\u001b[0m\u001b[0m\n",
      "\u001b[1;31mValueError\u001b[0m: Columns must be same length as key"
     ]
    }
   ],
   "source": [
    "data_income = data + \"real-average-household-income-after-taxes-tenure-2006-2018-en.xlsx\"\n",
    "df_income = data_prep(data_income)"
   ]
  },
  {
   "cell_type": "markdown",
   "metadata": {},
   "source": [
    "## Exercise\n",
    "\n",
    "1. Identify different ways of visualizing data. \n",
    "2. What insights do you gain for the study period? \n",
    "3. How are these insights different for each province/city?"
   ]
  },
  {
   "cell_type": "code",
   "execution_count": null,
   "metadata": {},
   "outputs": [],
   "source": []
  }
 ],
 "metadata": {
  "kernelspec": {
   "display_name": "Python 3",
   "language": "python",
   "name": "python3"
  },
  "language_info": {
   "codemirror_mode": {
    "name": "ipython",
    "version": 3
   },
   "file_extension": ".py",
   "mimetype": "text/x-python",
   "name": "python",
   "nbconvert_exporter": "python",
   "pygments_lexer": "ipython3",
   "version": "3.8.3"
  }
 },
 "nbformat": 4,
 "nbformat_minor": 4
}
