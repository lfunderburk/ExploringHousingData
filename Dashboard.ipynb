{
 "cells": [
  {
   "cell_type": "code",
   "execution_count": 1,
   "metadata": {},
   "outputs": [],
   "source": [
    "#!pip install jupyter-dash"
   ]
  },
  {
   "cell_type": "code",
   "execution_count": 2,
   "metadata": {},
   "outputs": [],
   "source": [
    "#import sample_dashboard\n",
    "#import dropdown_test\n",
    "import housing_viz"
   ]
  },
  {
   "cell_type": "code",
   "execution_count": 3,
   "metadata": {},
   "outputs": [
    {
     "name": "stdout",
     "output_type": "stream",
     "text": [
      "Dash is running on http://127.0.0.1:8050/\n",
      "\n"
     ]
    },
    {
     "data": {
      "text/html": [
       "\n",
       "        <iframe\n",
       "            width=\"100%\"\n",
       "            height=\"650\"\n",
       "            src=\"http://127.0.0.1:8050/\"\n",
       "            frameborder=\"0\"\n",
       "            allowfullscreen\n",
       "        ></iframe>\n",
       "        "
      ],
      "text/plain": [
       "<IPython.lib.display.IFrame at 0x2b225178a90>"
      ]
     },
     "metadata": {},
     "output_type": "display_data"
    }
   ],
   "source": [
    "#%run -i ./sample_dashboard.py\n",
    "#%run -i ./dropdown_test.py\n",
    "%run -i ./housing_viz.py"
   ]
  },
  {
   "cell_type": "code",
   "execution_count": 4,
   "metadata": {},
   "outputs": [
    {
     "data": {
      "text/plain": [
       "MultiIndex([(  'Income',              'Alberta'),\n",
       "            (  'Income',     'British Columbia'),\n",
       "            (  'Income',             'Manitoba'),\n",
       "            (  'Income',        'New Brunswick'),\n",
       "            (  'Income',         'Newfoundland'),\n",
       "            (  'Income',          'Nova Scotia'),\n",
       "            (  'Income',              'Ontario'),\n",
       "            (  'Income', 'Prince Edward Island'),\n",
       "            (  'Income',               'Québec'),\n",
       "            (  'Income',         'Saskatchewan'),\n",
       "            ('Mortgage',              'Alberta'),\n",
       "            ('Mortgage',     'British Columbia'),\n",
       "            ('Mortgage',             'Manitoba'),\n",
       "            ('Mortgage',        'New Brunswick'),\n",
       "            ('Mortgage',         'Newfoundland'),\n",
       "            ('Mortgage',          'Nova Scotia'),\n",
       "            ('Mortgage',              'Ontario'),\n",
       "            ('Mortgage', 'Prince Edward Island'),\n",
       "            ('Mortgage',               'Québec'),\n",
       "            ('Mortgage',         'Saskatchewan')],\n",
       "           names=['Type', 'Geography'])"
      ]
     },
     "execution_count": 4,
     "metadata": {},
     "output_type": "execute_result"
    }
   ],
   "source": [
    "df_mortgage_income.T.index"
   ]
  }
 ],
 "metadata": {
  "kernelspec": {
   "display_name": "Python 3",
   "language": "python",
   "name": "python3"
  },
  "language_info": {
   "codemirror_mode": {
    "name": "ipython",
    "version": 3
   },
   "file_extension": ".py",
   "mimetype": "text/x-python",
   "name": "python",
   "nbconvert_exporter": "python",
   "pygments_lexer": "ipython3",
   "version": "3.8.3"
  }
 },
 "nbformat": 4,
 "nbformat_minor": 4
}
